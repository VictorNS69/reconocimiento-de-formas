{
 "cells": [
  {
   "cell_type": "code",
   "execution_count": 1,
   "metadata": {},
   "outputs": [],
   "source": [
    "# Install with \"pip3 install matplotlib\" in the command line\n",
    "import matplotlib.pyplot as plt"
   ]
  },
  {
   "cell_type": "code",
   "execution_count": 2,
   "metadata": {},
   "outputs": [],
   "source": [
    "# Working Universe\n",
    "alf1x = [ 0,2,2,4]\n",
    "alf1y = [1,0,3,1]\n",
    "\n",
    "alf2x = [5,5,3,7]\n",
    "alf2y = [0,-3,-2,-2]"
   ]
  },
  {
   "cell_type": "code",
   "execution_count": 3,
   "metadata": {},
   "outputs": [
    {
     "data": {
      "image/png": "[encoded data removed]",
      "text/plain": [
       "<Figure size 432x288 with 1 Axes>"
      ]
     },
     "metadata": {
      "needs_background": "light"
     },
     "output_type": "display_data"
    }
   ],
   "source": [
    "plt.plot(alf1x, alf1y, 'ro', alf2x, alf2y, 'bo') # Red alf1 Blue alf2 \n",
    "plt.xlim(-1,8)\n",
    "plt.ylim(-4,4)\n",
    "plt.show()"
   ]
  },
  {
   "cell_type": "code",
   "execution_count": 4,
   "metadata": {},
   "outputs": [
    {
     "name": "stdout",
     "output_type": "stream",
     "text": [
      "Centroides: \n",
      "\talf1x = 2.0 \talf2x = 5.0\n",
      "\talf1y = 1.25 \talf2y = -1.75\n"
     ]
    }
   ],
   "source": [
    "alf1 = [(0,1), (2,0), (2,3), (4,1)]\n",
    "\n",
    "cardAlf1x = (1/ len(alf1x)) * sum(alf1x)\n",
    "cardAlf2x = (1/ len(alf2x)) * sum(alf2x)\n",
    "print(\"Centroides: \\n\\talf1x =\",cardAlf1x, \"\\talf2x =\",cardAlf2x)\n",
    "\n",
    "cardAlf1y = (1/ len(alf1y)) * sum(alf1y)\n",
    "cardAlf2y = (1/ len(alf2y)) * sum(alf2y)\n",
    "print(\"\\talf1y =\",cardAlf1y, \"\\talf2y =\",cardAlf2y)"
   ]
  },
  {
   "cell_type": "code",
   "execution_count": 5,
   "metadata": {},
   "outputs": [
    {
     "data": {
      "image/png": "[encoded data removed]",
      "text/plain": [
       "<Figure size 432x288 with 1 Axes>"
      ]
     },
     "metadata": {
      "needs_background": "light"
     },
     "output_type": "display_data"
    }
   ],
   "source": [
    "plt.plot(alf1x, alf1y, 'ro', alf2x, alf2y, 'bo') # Red alf1 Blue alf2 \n",
    "plt.plot(cardAlf1x, cardAlf1y, 'r*', cardAlf2x, cardAlf2y, 'b*') # * is the centroid\n",
    "\n",
    "plt.xlim(-1,8)\n",
    "plt.ylim(-4,4)\n",
    "plt.show()"
   ]
  },
  {
   "cell_type": "code",
   "execution_count": 6,
   "metadata": {},
   "outputs": [
    {
     "data": {
      "text/plain": [
       "(3.5, -0.25)"
      ]
     },
     "execution_count": 6,
     "metadata": {},
     "output_type": "execute_result"
    }
   ],
   "source": [
    "x = (cardAlf2x + cardAlf1x)/2\n",
    "y = (cardAlf1y + cardAlf2y)/2\n",
    "x, y # Middle point between centroids"
   ]
  },
  {
   "cell_type": "code",
   "execution_count": 7,
   "metadata": {},
   "outputs": [
    {
     "data": {
      "image/png": "[encoded data removed]",
      "text/plain": [
       "<Figure size 432x288 with 1 Axes>"
      ]
     },
     "metadata": {
      "needs_background": "light"
     },
     "output_type": "display_data"
    }
   ],
   "source": [
    "plt.plot(alf1x, alf1y, 'ro', alf2x, alf2y, 'bo') # Red alf1 Blue alf2 \n",
    "plt.plot(cardAlf1x, cardAlf1y, 'r*', cardAlf2x, cardAlf2y, 'b*') # * is the centroid\n",
    "plt.plot(x,y, 'go') # The middle point of centroids\n",
    "\n",
    "plt.xlim(-1,8)\n",
    "plt.ylim(-4,4)\n",
    "\n",
    "plt.plot([cardAlf1x, cardAlf2x], [cardAlf1y, cardAlf2y]) # The straigth line between centroids\n",
    "plt.show()"
   ]
  },
  {
   "cell_type": "code",
   "execution_count": 8,
   "metadata": {},
   "outputs": [],
   "source": [
    "import math\n",
    "def calculateDistance(x1,y1,x2,y2):\n",
    "    return math.sqrt((x2 - x1)**2 + (y2 - y1)**2)\n",
    "\n",
    "def clasificator(a,b): # aka discriminant function\n",
    "    dist_alf1 = calculateDistance(cardAlf1x, cardAlf1y, a, b)\n",
    "    dist_alf2 = calculateDistance(cardAlf2x, cardAlf2y, a, b)\n",
    "    # Red alf1 Blue alf2 \n",
    "    if dist_alf1 == dist_alf2: return \"?\" # Indetermination\n",
    "    return \"alf1\" if min(dist_alf1, dist_alf2) == dist_alf1 else \"alf2\""
   ]
  },
  {
   "cell_type": "code",
   "execution_count": 9,
   "metadata": {},
   "outputs": [
    {
     "name": "stdout",
     "output_type": "stream",
     "text": [
      "point (5,0) -> alf2\n",
      "point (2,1) -> alf1\n",
      "point (3.5,-0.25) -> ? -> This is the point in the middle of both centroids!\n",
      "point (3.5,-0.5) -> alf2\n"
     ]
    }
   ],
   "source": [
    "# Testing\n",
    "print(\"point (5,0) ->\", clasificator(5,0))\n",
    "print(\"point (2,1) ->\", clasificator(2,1))\n",
    "print(\"point (3.5,-0.25) ->\", clasificator(x,y), \"-> This is the point in the middle of both centroids!\")\n",
    "print(\"point (3.5,-0.5) ->\", clasificator(x,-0.5))"
   ]
  },
  {
   "cell_type": "code",
   "execution_count": 10,
   "metadata": {},
   "outputs": [],
   "source": [
    "# Install with \"pip3 install sympy\" in the command line\n",
    "from sympy import *\n",
    "def mediatrix(point, vector):\n",
    "    x = Symbol('x')\n",
    "    y = Symbol('y')\n",
    "    return (((x-point[0])/vector[0])*vector[1]) - (y-point[1])"
   ]
  },
  {
   "cell_type": "code",
   "execution_count": 11,
   "metadata": {},
   "outputs": [
    {
     "data": {
      "text/latex": [
       "$\\displaystyle 1.0 x - y - 3.75$"
      ],
      "text/plain": [
       "1.0*x - y - 3.75"
      ]
     },
     "execution_count": 11,
     "metadata": {},
     "output_type": "execute_result"
    }
   ],
   "source": [
    "mediat = mediatrix((x,y), (cardAlf2y - cardAlf1y, -1*(cardAlf2x - cardAlf1x)))\n",
    "mediat # Mathematical expresion of the segment"
   ]
  },
  {
   "cell_type": "code",
   "execution_count": 12,
   "metadata": {},
   "outputs": [
    {
     "data": {
      "image/png": "[encoded data removed]",
      "text/plain": [
       "<Figure size 432x288 with 1 Axes>"
      ]
     },
     "metadata": {
      "needs_background": "light"
     },
     "output_type": "display_data"
    }
   ],
   "source": [
    "plt.plot(alf1x, alf1y, 'ro', alf2x, alf2y, 'bo') # Red alf1 Blue alf2 \n",
    "plt.plot(cardAlf1x, cardAlf1y, 'r*', cardAlf2x, cardAlf2y, 'b*') # * is the centroid\n",
    "plt.plot(x,y, 'go') # The middle point of centroids\n",
    "\n",
    "plt.xlim(-1,8)\n",
    "plt.ylim(-4,4)\n",
    "\n",
    "plt.plot((cardAlf1x, cardAlf2x), (cardAlf1y, cardAlf2y)) # The straigth line between centroids\n",
    "plt.plot((0,6), (-3.75,2.25))\n",
    "plt.plot()\n",
    "plt.show()"
   ]
  }
 ],
 "metadata": {
  "kernelspec": {
   "display_name": "Python 3",
   "language": "python",
   "name": "python3"
  },
  "language_info": {
   "codemirror_mode": {
    "name": "ipython",
    "version": 3
   },
   "file_extension": ".py",
   "mimetype": "text/x-python",
   "name": "python",
   "nbconvert_exporter": "python",
   "pygments_lexer": "ipython3",
   "version": "3.7.3"
  }
 },
 "nbformat": 4,
 "nbformat_minor": 2
}
