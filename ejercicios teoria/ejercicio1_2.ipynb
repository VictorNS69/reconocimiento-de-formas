{
 "cells": [
  {
   "cell_type": "code",
   "execution_count": 1,
   "metadata": {},
   "outputs": [],
   "source": [
    "# Install with \"pip3 install matplotlib\" in the command line\n",
    "import matplotlib.pyplot as plt"
   ]
  },
  {
   "cell_type": "code",
   "execution_count": 2,
   "metadata": {},
   "outputs": [],
   "source": [
    "# Working Universe\n",
    "alf1x = [1,-1,-1,1]\n",
    "alf1y = [1,1,-1,-1]\n",
    "\n",
    "alf2x = [5,-5,-5,5]\n",
    "alf2y = [5,5,-5,-5]"
   ]
  },
  {
   "cell_type": "code",
   "execution_count": 3,
   "metadata": {},
   "outputs": [
    {
     "data": {
      "image/png": "[encoded data removed]",
      "text/plain": [
       "<Figure size 432x288 with 1 Axes>"
      ]
     },
     "metadata": {
      "needs_background": "light"
     },
     "output_type": "display_data"
    }
   ],
   "source": [
    "plt.plot(alf1x, alf1y, 'ro', alf2x, alf2y, 'bo') # Red alf1 Blue alf2 \n",
    "plt.xlim(-6,6)\n",
    "plt.ylim(-6,6)\n",
    "plt.show()"
   ]
  },
  {
   "cell_type": "markdown",
   "metadata": {},
   "source": [
    "Se puede observar fácilmente que ambos conjuntos _alfa1_ (rojo) y _alfa2_ (azul) no son linealmente separables. Es decir, **no existe ninguna función discriminante lineal que separe ambos conjuntos**."
   ]
  },
  {
   "cell_type": "markdown",
   "metadata": {},
   "source": [
    "Formula de la circunferencia _alf1_: $$x_1^2 + x_2^2 - r^2 = 0$$\n",
    "Definiendo una función vectorial tal que $$\\Phi(x)^T = (\\phi_1(x), \\phi_2(x), 1)$$ que permita construir una función discriminante lineal $$g(x) = w^T * \\Phi(x)$$\n",
    "\n",
    "obtenemos: $$ f(x) = w^T * (\\vec{x}) = [1, 1, -r^2] * \\begin{bmatrix}x_1^2\\\\x_2^2\\\\1\\end{bmatrix}$$ donde $$ \\phi_1(x) = x_1^2$$ $$\\phi_2(x)= x_2^2$$ \n"
   ]
  },
  {
   "cell_type": "code",
   "execution_count": 4,
   "metadata": {},
   "outputs": [
    {
     "data": {
      "image/png": "[encoded data removed]",
      "text/plain": [
       "<Figure size 432x288 with 1 Axes>"
      ]
     },
     "metadata": {
      "needs_background": "light"
     },
     "output_type": "display_data"
    }
   ],
   "source": [
    "import numpy as np\n",
    "alf1x = np.power(alf1x, 2)\n",
    "alf1y = np.power(alf1y, 2)\n",
    "\n",
    "alf2x = np.power(alf2x, 2)\n",
    "alf2y = np.power(alf2y, 2)\n",
    "\n",
    "plt.plot(alf1x, alf1y, 'ro', alf2x, alf2y, 'bo') # Red alf1 Blue alf2 \n",
    "plt.xlim(0,26)\n",
    "plt.ylim(0,26)\n",
    "plt.show()"
   ]
  },
  {
   "cell_type": "markdown",
   "metadata": {},
   "source": [
    "Ahora vemos que si son linealmente separables"
   ]
  },
  {
   "cell_type": "code",
   "execution_count": 5,
   "metadata": {},
   "outputs": [
    {
     "data": {
      "text/plain": [
       "(13.0, 13.0)"
      ]
     },
     "execution_count": 5,
     "metadata": {},
     "output_type": "execute_result"
    }
   ],
   "source": [
    "xx = xy = 1\n",
    "yx = yy = 25\n",
    "x = (xx + yx)/2\n",
    "y = (xy + yy)/2\n",
    "x, y # Middle point between centroids"
   ]
  },
  {
   "cell_type": "code",
   "execution_count": 6,
   "metadata": {},
   "outputs": [],
   "source": [
    "# Install with \"pip3 install sympy\" in the command line\n",
    "from sympy import *\n",
    "def mediatrix(point, vector):\n",
    "    x = Symbol('x')\n",
    "    y = Symbol('y')\n",
    "    return (((x-point[0])/vector[0])*vector[1]) - (y-point[1])"
   ]
  },
  {
   "cell_type": "code",
   "execution_count": 7,
   "metadata": {},
   "outputs": [
    {
     "data": {
      "text/latex": [
       "$\\displaystyle - x - y + 26.0$"
      ],
      "text/plain": [
       "-x - y + 26.0"
      ]
     },
     "execution_count": 7,
     "metadata": {},
     "output_type": "execute_result"
    }
   ],
   "source": [
    "mediat = mediatrix((x,y), (yy - xx, -1*(yx - xy)))\n",
    "mediat # Mathematical expresion of the segment"
   ]
  },
  {
   "cell_type": "code",
   "execution_count": 8,
   "metadata": {},
   "outputs": [
    {
     "data": {
      "image/png": "[encoded data removed]",
      "text/plain": [
       "<Figure size 432x288 with 1 Axes>"
      ]
     },
     "metadata": {
      "needs_background": "light"
     },
     "output_type": "display_data"
    }
   ],
   "source": [
    "plt.plot(xx, xy, 'r*', yx, yy, 'b*') # * is the centroid\n",
    "\n",
    "plt.plot(x,y, 'go') # The middle point of centroids\n",
    "\n",
    "plt.xlim(0,26)\n",
    "plt.ylim(0,26)\n",
    "plt.plot((xx, yx), (xy, yy)) # The straigth line between centroids\n",
    "plt.plot((25,1), (1,25)) # Mediatrix \n",
    "plt.plot()\n",
    "plt.show()"
   ]
  }
 ],
 "metadata": {
  "kernelspec": {
   "display_name": "Python 3",
   "language": "python",
   "name": "python3"
  },
  "language_info": {
   "codemirror_mode": {
    "name": "ipython",
    "version": 3
   },
   "file_extension": ".py",
   "mimetype": "text/x-python",
   "name": "python",
   "nbconvert_exporter": "python",
   "pygments_lexer": "ipython3",
   "version": "3.7.3"
  }
 },
 "nbformat": 4,
 "nbformat_minor": 2
}
