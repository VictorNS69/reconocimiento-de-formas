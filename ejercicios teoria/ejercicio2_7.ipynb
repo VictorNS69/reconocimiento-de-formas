{
 "cells": [
  {
   "cell_type": "code",
   "execution_count": 80,
   "metadata": {},
   "outputs": [],
   "source": [
    "import matplotlib.pyplot as plt\n",
    "import sympy as sp\n",
    "import numpy as np\n",
    "\n",
    "alf1x = [0,1,2,2,2]\n",
    "alf1y = [0,0,0,1,-1]\n",
    "\n",
    "alf2x = [0,0,-1,-2,-2]\n",
    "alf2y = [1,-1,0,1,-1]"
   ]
  },
  {
   "cell_type": "code",
   "execution_count": 81,
   "metadata": {},
   "outputs": [
    {
     "data": {
      "image/png": "[encoded data removed]",
      "text/plain": [
       "<Figure size 432x288 with 1 Axes>"
      ]
     },
     "metadata": {
      "needs_background": "light"
     },
     "output_type": "display_data"
    }
   ],
   "source": [
    "plt.plot(alf1x, alf1y, 'ro')\n",
    "plt.plot(alf2x, alf2y, 'bo')\n",
    "plt.show()"
   ]
  },
  {
   "cell_type": "code",
   "execution_count": 82,
   "metadata": {},
   "outputs": [
    {
     "data": {
      "text/plain": [
       "(1.4, 0.0, -1.0, 0.0)"
      ]
     },
     "execution_count": 82,
     "metadata": {},
     "output_type": "execute_result"
    }
   ],
   "source": [
    "m1x = np.mean(alf1x)\n",
    "m1y = np.mean(alf1y)\n",
    "m2x = np.mean(alf2x)\n",
    "m2y = np.mean(alf2y)\n",
    "# Medias\n",
    "m1x, m1y, m2x, m2y "
   ]
  },
  {
   "cell_type": "code",
   "execution_count": 83,
   "metadata": {},
   "outputs": [
    {
     "data": {
      "image/png": "[encoded data removed]",
      "text/plain": [
       "<Figure size 432x288 with 1 Axes>"
      ]
     },
     "metadata": {
      "needs_background": "light"
     },
     "output_type": "display_data"
    }
   ],
   "source": [
    "plt.plot(alf1x, alf1y, 'ro')\n",
    "plt.plot(alf2x, alf2y, 'bo')\n",
    "\n",
    "plt.plot(m1x, m1y, 'r^')\n",
    "plt.plot(m2x, m2y, 'b^')\n",
    "\n",
    "plt.show()"
   ]
  },
  {
   "cell_type": "code",
   "execution_count": 84,
   "metadata": {},
   "outputs": [
    {
     "data": {
      "text/latex": [
       "$\\displaystyle \\sqrt{\\left(x - y\\right)^{2}}$"
      ],
      "text/plain": [
       "sqrt((x - y)**2)"
      ]
     },
     "execution_count": 84,
     "metadata": {},
     "output_type": "execute_result"
    }
   ],
   "source": [
    "x, y = sp.symbols('x y ')\n",
    "dm = sp.sqrt((x-y)**2)\n",
    "dm # Distancia media"
   ]
  },
  {
   "cell_type": "code",
   "execution_count": 87,
   "metadata": {},
   "outputs": [
    {
     "data": {
      "text/latex": [
       "$\\displaystyle 0.4$"
      ],
      "text/plain": [
       "0.400000000000000"
      ]
     },
     "execution_count": 87,
     "metadata": {},
     "output_type": "execute_result"
    }
   ],
   "source": [
    "f = dm.subs({x:m1x-abs(m2x), y:m1y-abs(m2y)})\n",
    "f"
   ]
  },
  {
   "cell_type": "code",
   "execution_count": 88,
   "metadata": {},
   "outputs": [
    {
     "data": {
      "image/png": "[encoded data removed]",
      "text/plain": [
       "<Figure size 432x288 with 1 Axes>"
      ]
     },
     "metadata": {
      "needs_background": "light"
     },
     "output_type": "display_data"
    }
   ],
   "source": [
    "plt.plot(alf1x, alf1y, 'ro')\n",
    "plt.plot(alf2x, alf2y, 'bo')\n",
    "\n",
    "plt.plot(m1x, m1y, 'r^')\n",
    "plt.plot(m2x, m2y, 'b^')\n",
    "\n",
    "# Recta\n",
    "plt.plot([0.4,0.4], [-2,2], 'g')\n",
    "\n",
    "plt.show()"
   ]
  }
 ],
 "metadata": {
  "kernelspec": {
   "display_name": "Python 3",
   "language": "python",
   "name": "python3"
  },
  "language_info": {
   "codemirror_mode": {
    "name": "ipython",
    "version": 3
   },
   "file_extension": ".py",
   "mimetype": "text/x-python",
   "name": "python",
   "nbconvert_exporter": "python",
   "pygments_lexer": "ipython3",
   "version": "3.7.3"
  }
 },
 "nbformat": 4,
 "nbformat_minor": 2
}
