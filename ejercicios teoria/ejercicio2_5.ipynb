{
 "cells": [
  {
   "cell_type": "code",
   "execution_count": 41,
   "metadata": {},
   "outputs": [],
   "source": [
    "import matplotlib.pyplot as plt\n",
    "import sympy as sp\n",
    "import math\n",
    "import numpy as np\n",
    "\n",
    "a1 = np.array([74, 66, 73, 65, 68, 73])\n",
    "a2 = np.array([151, 149, 149, 151, 149, 151])"
   ]
  },
  {
   "cell_type": "code",
   "execution_count": 37,
   "metadata": {},
   "outputs": [
    {
     "data": {
      "text/latex": [
       "$\\displaystyle \\log{\\left(\\alpha \\right)} - \\log{\\left(\\sigma \\right)} - \\frac{0.5 \\left(- \\upsilon + x\\right)^{2}}{\\sigma^{2}}$"
      ],
      "text/plain": [
       "log(alpha) - log(sigma) - 0.5*(-upsilon + x)**2/sigma**2"
      ]
     },
     "execution_count": 37,
     "metadata": {},
     "output_type": "execute_result"
    }
   ],
   "source": [
    "x, upsilon, sigma, alpha = sp.symbols('x upsilon sigma alpha')\n",
    "cl_eb_apriori_gaus = -(1/2)*((x-upsilon)/sigma)**2 - sp.ln(sigma) + sp.ln(alpha)\n",
    "cl_eb_apriori_gaus \n",
    "# Clasificador estadístico a priori con hipótesis de distribución gaussiana"
   ]
  },
  {
   "cell_type": "code",
   "execution_count": 38,
   "metadata": {},
   "outputs": [
    {
     "data": {
      "text/latex": [
       "$\\displaystyle \\sqrt{\\left(x - y\\right)^{2}}$"
      ],
      "text/plain": [
       "sqrt((x - y)**2)"
      ]
     },
     "execution_count": 38,
     "metadata": {},
     "output_type": "execute_result"
    }
   ],
   "source": [
    "y = sp.symbols('y')\n",
    "cl_de = sp.sqrt((x-y)**2)\n",
    "cl_de\n",
    "# Clasificador distancia Euclídea"
   ]
  },
  {
   "cell_type": "code",
   "execution_count": 39,
   "metadata": {},
   "outputs": [
    {
     "data": {
      "text/latex": [
       "$\\displaystyle \\frac{\\left(x - y\\right)^{2}}{\\sigma^{2}}$"
      ],
      "text/plain": [
       "(x - y)**2/sigma**2"
      ]
     },
     "execution_count": 39,
     "metadata": {},
     "output_type": "execute_result"
    }
   ],
   "source": [
    "cl_dm = ((x-y)/sigma)**2\n",
    "cl_dm\n",
    "# Clasificador distancia de Mahalanobis"
   ]
  },
  {
   "cell_type": "code",
   "execution_count": null,
   "metadata": {},
   "outputs": [],
   "source": []
  },
  {
   "cell_type": "code",
   "execution_count": null,
   "metadata": {},
   "outputs": [],
   "source": []
  }
 ],
 "metadata": {
  "kernelspec": {
   "display_name": "Python 3",
   "language": "python",
   "name": "python3"
  },
  "language_info": {
   "codemirror_mode": {
    "name": "ipython",
    "version": 3
   },
   "file_extension": ".py",
   "mimetype": "text/x-python",
   "name": "python",
   "nbconvert_exporter": "python",
   "pygments_lexer": "ipython3",
   "version": "3.7.3"
  }
 },
 "nbformat": 4,
 "nbformat_minor": 2
}
