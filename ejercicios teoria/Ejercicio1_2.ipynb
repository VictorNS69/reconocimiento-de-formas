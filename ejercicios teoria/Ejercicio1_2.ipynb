{
 "cells": [
  {
   "cell_type": "code",
   "execution_count": 1,
   "metadata": {},
   "outputs": [],
   "source": [
    "# Install with \"pip3 install matplotlib\" in the command line\n",
    "import matplotlib.pyplot as plt"
   ]
  },
  {
   "cell_type": "code",
   "execution_count": 2,
   "metadata": {},
   "outputs": [],
   "source": [
    "# Working Universe\n",
    "alf1x = [1,-1,-1,1]\n",
    "alf1y = [1,1,-1,-1]\n",
    "\n",
    "alf2x = [5,-5,-5,5]\n",
    "alf2y = [5,5,-5,-5]"
   ]
  },
  {
   "cell_type": "code",
   "execution_count": 3,
   "metadata": {},
   "outputs": [
    {
     "data": {
      "image/png": "[encoded data removed]",
      "text/plain": [
       "<Figure size 432x288 with 1 Axes>"
      ]
     },
     "metadata": {
      "needs_background": "light"
     },
     "output_type": "display_data"
    }
   ],
   "source": [
    "plt.plot(alf1x, alf1y, 'ro', alf2x, alf2y, 'bo') # Red alf1 Blue alf2 \n",
    "plt.xlim(-6,6)\n",
    "plt.ylim(-6,6)\n",
    "plt.show()"
   ]
  },
  {
   "cell_type": "markdown",
   "metadata": {},
   "source": [
    "Se puede observar fácilmente que ambos conjuntos _alfa1_ (rojo) y _alfa2_ (azul) no son linealmente separables. Es decir, **no existe ninguna función discriminante lineal que separe ambos conjuntos**."
   ]
  },
  {
   "cell_type": "code",
   "execution_count": null,
   "metadata": {},
   "outputs": [],
   "source": []
  }
 ],
 "metadata": {
  "kernelspec": {
   "display_name": "Python 3",
   "language": "python",
   "name": "python3"
  },
  "language_info": {
   "codemirror_mode": {
    "name": "ipython",
    "version": 3
   },
   "file_extension": ".py",
   "mimetype": "text/x-python",
   "name": "python",
   "nbconvert_exporter": "python",
   "pygments_lexer": "ipython3",
   "version": "3.7.3"
  }
 },
 "nbformat": 4,
 "nbformat_minor": 2
}
