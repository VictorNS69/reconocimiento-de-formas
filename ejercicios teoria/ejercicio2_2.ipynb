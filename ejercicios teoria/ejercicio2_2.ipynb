{
 "cells": [
  {
   "cell_type": "code",
   "execution_count": 1,
   "metadata": {},
   "outputs": [],
   "source": [
    "import numpy as np\n",
    "import sympy as sp\n",
    "X1 = np.array([[0,1],[2,0],[2,3],[4,1]])\n",
    "X2 = np.array([[5,0],[5,-3],[3,-2],[7,-2]])"
   ]
  },
  {
   "cell_type": "code",
   "execution_count": 2,
   "metadata": {},
   "outputs": [
    {
     "name": "stdout",
     "output_type": "stream",
     "text": [
      "mc1 [2.   1.25] \n",
      "mc2 [ 5.   -1.75]\n"
     ]
    }
   ],
   "source": [
    "mc1 = np.mean(X1,axis=0)\n",
    "mc2 = np.mean(X2,axis=0)\n",
    "print(\"mc1\", mc1, '\\nmc2', mc2) # Medias"
   ]
  },
  {
   "cell_type": "code",
   "execution_count": 3,
   "metadata": {},
   "outputs": [
    {
     "name": "stdout",
     "output_type": "stream",
     "text": [
      "c [[2.66666667 0.        ]\n",
      " [0.         1.58333333]] \n",
      "dc 4.222222222222222 \n",
      "ic [[0.375      0.        ]\n",
      " [0.         0.63157895]]\n"
     ]
    }
   ],
   "source": [
    "c = np.cov(X1,rowvar=False)\n",
    "dc = np.linalg.det(c)\n",
    "ic = np.linalg.inv(c)\n",
    "print(\"c\",c,'\\ndc', dc,'\\nic',ic)"
   ]
  },
  {
   "cell_type": "code",
   "execution_count": 4,
   "metadata": {},
   "outputs": [],
   "source": [
    "x1, x2, m1, m2, prior = sp.symbols('x1 x2 m1 m2 prior')\n",
    "vx = np.array([x1,x2])\n",
    "vm =  np.array([m1,m2])"
   ]
  },
  {
   "cell_type": "code",
   "execution_count": 5,
   "metadata": {},
   "outputs": [],
   "source": [
    "# expresion de la distancia euclidea\n",
    "expr_cl_eum = np.dot(vm,vx)-0.5*np.dot(vm,vm)\n",
    "# expresion del clasificador estadistico bayesiano\n",
    "expr_cl_eb = -0.5*np.dot(np.dot((vx-vm), ic),\n",
    "                         (vx-vm))-0.5*np.log(dc)+sp.log(prior)\n",
    "expr_dm = np.dot(np.dot((vx-vm), ic),(vx-vm))"
   ]
  },
  {
   "cell_type": "code",
   "execution_count": 6,
   "metadata": {},
   "outputs": [
    {
     "name": "stdout",
     "output_type": "stream",
     "text": [
      "de1 2.0*x1 + 1.25*x2 - 2.78125 \n",
      "de2 5.0*x1 - 1.75*x2 - 14.03125\n"
     ]
    }
   ],
   "source": [
    "de1 = expr_cl_eum.subs([(m1,mc1[0]),(m2,mc1[1])])\n",
    "de2 = expr_cl_eum.subs([(m1,mc2[0]),(m2,mc2[1])])\n",
    "print(\"de1\",de1, \"\\nde2\", de2)"
   ]
  },
  {
   "cell_type": "code",
   "execution_count": 7,
   "metadata": {},
   "outputs": [
    {
     "data": {
      "text/latex": [
       "$\\displaystyle - 3.0 x_{1} + 3.0 x_{2} + 11.25$"
      ],
      "text/plain": [
       "-3.0*x1 + 3.0*x2 + 11.25"
      ]
     },
     "execution_count": 7,
     "metadata": {},
     "output_type": "execute_result"
    }
   ],
   "source": [
    "frontEucl = sp.simplify(de1 - de2)\n",
    "frontEucl"
   ]
  },
  {
   "cell_type": "code",
   "execution_count": 8,
   "metadata": {},
   "outputs": [
    {
     "data": {
      "text/latex": [
       "$\\displaystyle - 1.125 x_{1} + 1.89473684210526 x_{2} + 4.41118421052632$"
      ],
      "text/plain": [
       "-1.125*x1 + 1.89473684210526*x2 + 4.41118421052632"
      ]
     },
     "execution_count": 8,
     "metadata": {},
     "output_type": "execute_result"
    }
   ],
   "source": [
    "eb1 = expr_cl_eb.subs([(m1,mc1[0]),(m2,mc1[1]),(prior,.5)])\n",
    "eb2 = expr_cl_eb.subs([(m1,mc2[0]),(m2,mc2[1]),(prior,.5)])\n",
    "frontEqPrior = sp.simplify(eb1 - eb2)\n",
    "frontEqPrior"
   ]
  },
  {
   "cell_type": "code",
   "execution_count": 9,
   "metadata": {},
   "outputs": [
    {
     "data": {
      "text/latex": [
       "$\\displaystyle - 1.125 x_{1} + 1.89473684210526 x_{2} + 5.25848207091352$"
      ],
      "text/plain": [
       "-1.125*x1 + 1.89473684210526*x2 + 5.25848207091352"
      ]
     },
     "execution_count": 9,
     "metadata": {},
     "output_type": "execute_result"
    }
   ],
   "source": [
    "eb1 = expr_cl_eb.subs([(m1,mc1[0]),(m2,mc1[1]),(prior,.7)])\n",
    "eb2 = expr_cl_eb.subs([(m1,mc2[0]),(m2,mc2[1]),(prior,.3)])\n",
    "frontDifPrior = sp.simplify(eb1 - eb2)\n",
    "frontDifPrior"
   ]
  },
  {
   "cell_type": "code",
   "execution_count": 16,
   "metadata": {},
   "outputs": [
    {
     "data": {
      "image/png": "[encoded data removed]",
      "text/plain": [
       "<Figure size 432x288 with 1 Axes>"
      ]
     },
     "metadata": {
      "needs_background": "light"
     },
     "output_type": "display_data"
    }
   ],
   "source": [
    "p0 = sp.plot_implicit(sp.Eq(frontEucl), (x1,-2,8), line_color='green',show=False )\n",
    "p1 = sp.plot_implicit(sp.Eq(frontEqPrior), (x1,-2,8), line_color='blue',show=False )\n",
    "p2 = sp.plot_implicit(sp.Eq(frontDifPrior), (x1,-2,8), line_color='red',show=False )\n",
    "\n",
    "em1 = expr_dm.subs([(m1,mc1[0]),(m2,mc1[1])])\n",
    "em2 =  expr_dm.subs([(m1,mc2[0]),(m2,mc2[1])])\n",
    "p3 = sp.plot_implicit(sp.Eq(em1-1), (x1,-2,8), line_color='black',show=False)\n",
    "p4 = sp.plot_implicit(sp.Eq(em2-1), (x1,-2,8), line_color='black',show=False)\n",
    "\n",
    "p0.extend(p1)\n",
    "p0.extend(p2)\n",
    "p0.extend(p3)\n",
    "p0.extend(p4)\n",
    "\n",
    "p0.show()"
   ]
  }
 ],
 "metadata": {
  "kernelspec": {
   "display_name": "Python 3",
   "language": "python",
   "name": "python3"
  },
  "language_info": {
   "codemirror_mode": {
    "name": "ipython",
    "version": 3
   },
   "file_extension": ".py",
   "mimetype": "text/x-python",
   "name": "python",
   "nbconvert_exporter": "python",
   "pygments_lexer": "ipython3",
   "version": "3.7.3"
  }
 },
 "nbformat": 4,
 "nbformat_minor": 2
}
