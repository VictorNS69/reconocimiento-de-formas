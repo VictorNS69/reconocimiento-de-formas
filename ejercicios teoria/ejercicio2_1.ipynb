{
 "cells": [
  {
   "cell_type": "code",
   "execution_count": 1,
   "metadata": {},
   "outputs": [],
   "source": [
    "import numpy as np\n",
    "import sympy as sp\n",
    "X1 = np.array([0,0])\n",
    "X2 = np.array([1,1])\n",
    "X3 = np.array([2,1])\n",
    "X4 = np.array([1,2])"
   ]
  },
  {
   "cell_type": "code",
   "execution_count": 5,
   "metadata": {},
   "outputs": [
    {
     "data": {
      "text/plain": [
       "(0.0, 1.0, 1.5, 1.5)"
      ]
     },
     "execution_count": 5,
     "metadata": {},
     "output_type": "execute_result"
    }
   ],
   "source": [
    "mc1 = np.mean(X1)\n",
    "mc2 = np.mean(X2)\n",
    "mc3 = np.mean(X3)\n",
    "mc4 = np.mean(X4)\n",
    "mc1,mc2,mc3,mc4 # Medias"
   ]
  },
  {
   "cell_type": "code",
   "execution_count": 7,
   "metadata": {},
   "outputs": [
    {
     "data": {
      "text/latex": [
       "$\\displaystyle - 0.5 m_{1}^{2} + m_{1} x_{1} - 0.5 m_{2}^{2} + m_{2} x_{2} - 0.5 m_{3}^{2} + m_{3} x_{3} - 0.5 m_{4}^{2} + m_{4} x_{4}$"
      ],
      "text/plain": [
       "-0.5*m1**2 + m1*x1 - 0.5*m2**2 + m2*x2 - 0.5*m3**2 + m3*x3 - 0.5*m4**2 + m4*x4"
      ]
     },
     "execution_count": 7,
     "metadata": {},
     "output_type": "execute_result"
    }
   ],
   "source": [
    "x1, x2, x3, x4, m1, m2, m3, m4 = sp.symbols('x1 x2 x3 x4 m1 m2 m3 m4')\n",
    "\n",
    "vx = np.array([x1,x2,x3,x4])\n",
    "vm =  np.array([m1,m2,m3,m4])\n",
    "\n",
    "# expresion de la distancia euclidea\n",
    "expr_cl_eum = np.dot(vm,vx)-0.5*np.dot(vm,vm)\n",
    "expr_cl_eum"
   ]
  },
  {
   "cell_type": "code",
   "execution_count": 12,
   "metadata": {},
   "outputs": [
    {
     "data": {
      "text/latex": [
       "$\\displaystyle 1.0 x_{2} + 1.5 x_{3} + 1.5 x_{4} - 2.75$"
      ],
      "text/plain": [
       "1.0*x2 + 1.5*x3 + 1.5*x4 - 2.75"
      ]
     },
     "execution_count": 12,
     "metadata": {},
     "output_type": "execute_result"
    }
   ],
   "source": [
    "de = expr_cl_eum.subs([(m1,mc1),(m2,mc2), (m3, mc3), (m4,mc4)])\n",
    "de"
   ]
  },
  {
   "cell_type": "code",
   "execution_count": 13,
   "metadata": {},
   "outputs": [
    {
     "data": {
      "text/latex": [
       "$\\displaystyle 1.0 x_{2} + 1.5 x_{3} + 1.5 x_{4} - 2.75$"
      ],
      "text/plain": [
       "1.0*x2 + 1.5*x3 + 1.5*x4 - 2.75"
      ]
     },
     "execution_count": 13,
     "metadata": {},
     "output_type": "execute_result"
    }
   ],
   "source": [
    "frontEucl = sp.simplify(de)\n",
    "frontEucl"
   ]
  },
  {
   "cell_type": "code",
   "execution_count": 21,
   "metadata": {},
   "outputs": [],
   "source": [
    "# plot?"
   ]
  },
  {
   "cell_type": "code",
   "execution_count": null,
   "metadata": {},
   "outputs": [],
   "source": []
  }
 ],
 "metadata": {
  "kernelspec": {
   "display_name": "Python 3",
   "language": "python",
   "name": "python3"
  },
  "language_info": {
   "codemirror_mode": {
    "name": "ipython",
    "version": 3
   },
   "file_extension": ".py",
   "mimetype": "text/x-python",
   "name": "python",
   "nbconvert_exporter": "python",
   "pygments_lexer": "ipython3",
   "version": "3.7.3"
  }
 },
 "nbformat": 4,
 "nbformat_minor": 2
}
