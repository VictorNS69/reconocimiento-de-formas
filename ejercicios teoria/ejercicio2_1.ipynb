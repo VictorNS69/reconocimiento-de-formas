{
 "cells": [
  {
   "cell_type": "code",
   "execution_count": 1,
   "metadata": {},
   "outputs": [],
   "source": [
    "import matplotlib.pyplot as plt\n",
    "import sympy as sp\n",
    "X1 = (0,0)\n",
    "X2 = (1,1)\n",
    "X3 = (2,1)\n",
    "X4 = (1,2)"
   ]
  },
  {
   "cell_type": "code",
   "execution_count": 2,
   "metadata": {},
   "outputs": [
    {
     "data": {
      "image/png": "[encoded data removed]",
      "text/plain": [
       "<Figure size 432x288 with 1 Axes>"
      ]
     },
     "metadata": {
      "needs_background": "light"
     },
     "output_type": "display_data"
    }
   ],
   "source": [
    "plt.plot(X1[0], X1[1], 'ro') # X1 - red\n",
    "plt.plot(X2[0], X2[1], 'bo') # X2 - blue\n",
    "plt.plot(X3[0], X3[1], 'go') # X3 - green \n",
    "plt.plot(X4[0], X4[1], 'yo') # X4 - yellow\n",
    "\n",
    "plt.xlim(-0.5,2.5)\n",
    "plt.ylim(-0.5,2.5)\n",
    "plt.show() # Los puntos"
   ]
  },
  {
   "cell_type": "code",
   "execution_count": 3,
   "metadata": {},
   "outputs": [
    {
     "data": {
      "text/latex": [
       "$\\displaystyle \\sqrt{\\left(x - x_{1}\\right)^{2} + \\left(y - y_{1}\\right)^{2}}$"
      ],
      "text/plain": [
       "sqrt((x - x1)**2 + (y - y1)**2)"
      ]
     },
     "execution_count": 3,
     "metadata": {},
     "output_type": "execute_result"
    }
   ],
   "source": [
    "x, x1, y, y1 = sp.symbols('x x1 y y1')\n",
    "dm = sp.sqrt((x-x1)**2 + (y-y1)**2)\n",
    "dm # Distancia media"
   ]
  },
  {
   "cell_type": "code",
   "execution_count": 4,
   "metadata": {},
   "outputs": [],
   "source": [
    "f1 = dm.subs({x1:X1[0], y1:X1[1]})\n",
    "f2 = dm.subs({x1:X2[0], y1:X2[1]})\n",
    "f3 = dm.subs({x1:X3[0], y1:X3[1]})\n",
    "f4 = dm.subs({x1:X4[0], y1:X4[1]})"
   ]
  },
  {
   "cell_type": "code",
   "execution_count": 5,
   "metadata": {},
   "outputs": [
    {
     "data": {
      "text/plain": [
       "([{x: 1 - y}], [{x: 3/2}], [{y: 3/2}])"
      ]
     },
     "execution_count": 5,
     "metadata": {},
     "output_type": "execute_result"
    }
   ],
   "source": [
    "F1_2 = sp.solve(f1-f2)\n",
    "F2_3 = sp.solve(f2-f3)\n",
    "F2_4 = sp.solve(f2-f4)\n",
    "\n",
    "F1_2, F2_3, F2_4"
   ]
  },
  {
   "cell_type": "code",
   "execution_count": 6,
   "metadata": {},
   "outputs": [
    {
     "data": {
      "image/png": "[encoded data removed]",
      "text/plain": [
       "<Figure size 432x288 with 1 Axes>"
      ]
     },
     "metadata": {
      "needs_background": "light"
     },
     "output_type": "display_data"
    }
   ],
   "source": [
    "plt.plot(X1[0], X1[1], 'ro') # X1 - red\n",
    "plt.plot(X2[0], X2[1], 'bo') # X2 - blue\n",
    "plt.plot(X3[0], X3[1], 'go') # X3 - green \n",
    "plt.plot(X4[0], X4[1], 'yo') # X4 - yellow\n",
    "\n",
    "plt.plot([-1,3], [2,-2], 'b') # F1_2\n",
    "plt.plot([3/2,3/2], [-1,3], 'r') #F2_3\n",
    "plt.plot([-1,3], [3/2,3/2], 'g') #F2_4\n",
    "\n",
    "plt.xlim(-0.5,2.5)\n",
    "plt.ylim(-0.5,2.5)\n",
    "plt.show() # Los puntos"
   ]
  }
 ],
 "metadata": {
  "kernelspec": {
   "display_name": "Python 3",
   "language": "python",
   "name": "python3"
  },
  "language_info": {
   "codemirror_mode": {
    "name": "ipython",
    "version": 3
   },
   "file_extension": ".py",
   "mimetype": "text/x-python",
   "name": "python",
   "nbconvert_exporter": "python",
   "pygments_lexer": "ipython3",
   "version": "3.7.3"
  }
 },
 "nbformat": 4,
 "nbformat_minor": 2
}
