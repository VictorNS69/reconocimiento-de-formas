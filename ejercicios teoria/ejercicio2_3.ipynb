{
 "cells": [
  {
   "cell_type": "code",
   "execution_count": 1,
   "metadata": {},
   "outputs": [],
   "source": [
    "import numpy as np\n",
    "import sympy as sp\n",
    "X1=np.array([7,8,7,6,4,7,5,6,6,7])\n",
    "X2=np.array([13, 12, 14, 15, 14, 13, 12, 13, 12, 14])"
   ]
  },
  {
   "cell_type": "code",
   "execution_count": 2,
   "metadata": {},
   "outputs": [
    {
     "data": {
      "text/plain": [
       "(6.3, 13.2)"
      ]
     },
     "execution_count": 2,
     "metadata": {},
     "output_type": "execute_result"
    }
   ],
   "source": [
    "mx1 = np.mean(X1)\n",
    "mx2 = np.mean(X2)\n",
    "mx1, mx2 # Medias"
   ]
  },
  {
   "cell_type": "code",
   "execution_count": 3,
   "metadata": {},
   "outputs": [
    {
     "data": {
      "text/plain": [
       "(1.3444444444444443, 1.0666666666666667)"
      ]
     },
     "execution_count": 3,
     "metadata": {},
     "output_type": "execute_result"
    }
   ],
   "source": [
    "vx1 = np.var(X1,ddof=1)\n",
    "vx2 = np.var(X2,ddof=1)\n",
    "vx1, vx2  # Varianzas"
   ]
  },
  {
   "cell_type": "code",
   "execution_count": 4,
   "metadata": {},
   "outputs": [],
   "source": [
    "x, m, var, prior = sp.symbols('x m var prior')"
   ]
  },
  {
   "cell_type": "code",
   "execution_count": 5,
   "metadata": {},
   "outputs": [],
   "source": [
    "# expresion del clasificador estadistico bayesiano en una dimension\n",
    "expr_cl_eb1d = -0.5*(x-m)**2/var-0.5*sp.log(var)+sp.log(prior)"
   ]
  },
  {
   "cell_type": "code",
   "execution_count": 6,
   "metadata": {},
   "outputs": [],
   "source": [
    "eb1 = expr_cl_eb1d.subs([(m,mx1),(var,vx1),(prior,.5)])\n",
    "eb2 = expr_cl_eb1d.subs([(m,mx2),(var,vx2),(prior,.5)]) \n",
    "# a priori es 0.5 ya que el conjunto son 20 datos entre 2 conjuntos"
   ]
  },
  {
   "cell_type": "code",
   "execution_count": 7,
   "metadata": {},
   "outputs": [
    {
     "data": {
      "text/latex": [
       "$\\displaystyle - 0.371900826446281 \\left(x - 6.3\\right)^{2} - 0.841137618193183$"
      ],
      "text/plain": [
       "-0.371900826446281*(x - 6.3)**2 - 0.841137618193183"
      ]
     },
     "execution_count": 7,
     "metadata": {},
     "output_type": "execute_result"
    }
   ],
   "source": [
    "sp.simplify(eb1)"
   ]
  },
  {
   "cell_type": "code",
   "execution_count": 8,
   "metadata": {},
   "outputs": [
    {
     "data": {
      "text/latex": [
       "$\\displaystyle - 0.46875 \\left(x - 13.2\\right)^{2} - 0.725416441128731$"
      ],
      "text/plain": [
       "-0.46875*(x - 13.2)**2 - 0.725416441128731"
      ]
     },
     "execution_count": 8,
     "metadata": {},
     "output_type": "execute_result"
    }
   ],
   "source": [
    "sp.simplify(eb2)"
   ]
  },
  {
   "cell_type": "code",
   "execution_count": 9,
   "metadata": {},
   "outputs": [
    {
     "data": {
      "text/latex": [
       "$\\displaystyle 0.096849173553719 x^{2} - 7.68904958677686 x + 66.7985350212826$"
      ],
      "text/plain": [
       "0.096849173553719*x**2 - 7.68904958677686*x + 66.7985350212826"
      ]
     },
     "execution_count": 9,
     "metadata": {},
     "output_type": "execute_result"
    }
   ],
   "source": [
    "frontDifPrior = sp.simplify(eb1 - eb2)\n",
    "frontDifPrior"
   ]
  },
  {
   "cell_type": "code",
   "execution_count": 10,
   "metadata": {},
   "outputs": [
    {
     "data": {
      "text/plain": [
       "[9.92931937002520, 69.4626806299748]"
      ]
     },
     "execution_count": 10,
     "metadata": {},
     "output_type": "execute_result"
    }
   ],
   "source": [
    "sp.solve(frontDifPrior)"
   ]
  },
  {
   "cell_type": "code",
   "execution_count": 11,
   "metadata": {},
   "outputs": [
    {
     "data": {
      "text/plain": [
       "[10.0766373653011, 69.3153626346989]"
      ]
     },
     "execution_count": 11,
     "metadata": {},
     "output_type": "execute_result"
    }
   ],
   "source": [
    "eb1 = expr_cl_eb1d.subs([(m,mx1),(var,vx1),(prior,.7)])\n",
    "eb2 = expr_cl_eb1d.subs([(m,mx2),(var,vx2),(prior,.3)])\n",
    "frontDifPrior = sp.simplify(eb1 - eb2)\n",
    "sp.solve(frontDifPrior)"
   ]
  }
 ],
 "metadata": {
  "kernelspec": {
   "display_name": "Python 3",
   "language": "python",
   "name": "python3"
  },
  "language_info": {
   "codemirror_mode": {
    "name": "ipython",
    "version": 3
   },
   "file_extension": ".py",
   "mimetype": "text/x-python",
   "name": "python",
   "nbconvert_exporter": "python",
   "pygments_lexer": "ipython3",
   "version": "3.7.3"
  }
 },
 "nbformat": 4,
 "nbformat_minor": 2
}
