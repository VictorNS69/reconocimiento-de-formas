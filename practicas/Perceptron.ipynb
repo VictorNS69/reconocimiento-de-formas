{
 "cells": [
  {
   "cell_type": "markdown",
   "metadata": {},
   "source": [
    "# Práctica Perceptron Scikitlearn\n",
    "\n",
    "* **Alumno 1**: Javier Barragán Haro\n",
    "* **Alumno 2**: Victor Nieves Sanchez\n"
   ]
  },
  {
   "cell_type": "markdown",
   "metadata": {},
   "source": [
    "## Explicacion de la practica\n",
    "Para esta practica se ha implementado él Perceptron con él uso de las librerias de scikitlearn. En cocnreto se han utilizado la libreria: model_selection, linar_model, preprocessing y metrics para él preprocesamiento de datos y en él entrenamiento de datos Acontinuacion se va a explicar los pasos que se han seguido.\n",
    "\n",
    "Se han dividido los datos en un 90% de datos de entrenamiento y un 10% de datos de test\n",
    "Se han preprocesado los datos para eliminar los datos poco significativos\n",
    "Se ha creado él Perceptron con SciKitLearn y se ha aplicado a los datos de entrenamiento\n"
   ]
  },
  {
   "cell_type": "markdown",
   "metadata": {},
   "source": [
    "# Iris Database\n",
    "Carga, entrenamiento, predicción y evaluación en la base de datos de Iris"
   ]
  },
  {
   "cell_type": "code",
   "execution_count": 1,
   "metadata": {},
   "outputs": [
    {
     "name": "stdout",
     "output_type": "stream",
     "text": [
      "Accuracy: 0.87\n"
     ]
    }
   ],
   "source": [
    "from sklearn import datasets\n",
    "from sklearn.model_selection import train_test_split\n",
    "from sklearn.linear_model import Perceptron\n",
    "from sklearn.preprocessing import StandardScaler\n",
    "from sklearn.metrics import accuracy_score\n",
    "import numpy as np\n",
    "\n",
    "#Perceptron for Iris dataBase\n",
    "iris = datasets.load_iris()\n",
    "\n",
    "X = iris.data\n",
    "y = iris.target\n",
    "\n",
    "# Se divide los datos en 90% datos de entrenamiento y 10% datos de test\n",
    "X_train, X_test, y_train, y_test = train_test_split(X, y, test_size=0.1)\n",
    "\n",
    "#Se preprocesan los datos\n",
    "standardSc = StandardScaler()\n",
    "standardSc.fit(X_train)\n",
    "\n",
    "#Se transforma el formato de los vectores\n",
    "X_train_std = standardSc.transform(X_train)\n",
    "X_test_std = standardSc.transform(X_test)\n",
    "\n",
    "perceptron = Perceptron(max_iter=100,eta0=0.1,random_state=0)\n",
    "perceptron.fit(X_train_std,y_train)\n",
    "\n",
    "y_pred = perceptron.predict(X_test_std)\n",
    "\n",
    "#Se imprime el porcentaje de acierto\n",
    "print('Accuracy: %.2f' % accuracy_score(y_test, y_pred))"
   ]
  },
  {
   "cell_type": "markdown",
   "metadata": {},
   "source": [
    "## Wine Dataset\n",
    "Carga, entrenamiento, predicción y evaluación en la base de datos de Wine"
   ]
  },
  {
   "cell_type": "code",
   "execution_count": 15,
   "metadata": {},
   "outputs": [
    {
     "name": "stdout",
     "output_type": "stream",
     "text": [
      "Accuracy: 0.96\n"
     ]
    }
   ],
   "source": [
    "from sklearn import datasets\n",
    "from sklearn.model_selection import train_test_split\n",
    "from sklearn.linear_model import Perceptron\n",
    "from sklearn.preprocessing import StandardScaler\n",
    "from sklearn.metrics import accuracy_score\n",
    "import numpy as np\n",
    "\n",
    "#Perceptron for Iris dataBase\n",
    "wine = datasets.load_wine()\n",
    "\n",
    "X = wine.data\n",
    "y = wine.target\n",
    "\n",
    "# Se divide los datos en 70% datos de entrenamiento y 30% datos de test\n",
    "X_train, X_test, y_train, y_test = train_test_split(X, y, test_size=0.1)\n",
    "\n",
    "#Se preprocesan los datos\n",
    "standardSc = StandardScaler()\n",
    "standardSc.fit(X_train)\n",
    "\n",
    "#Se transforma el formato de los vectores\n",
    "X_train_std = standardSc.transform(X_train)\n",
    "X_test_std = standardSc.transform(X_test)\n",
    "\n",
    "perceptron = Perceptron(max_iter=100,eta0=0.1,random_state=0)\n",
    "perceptron.fit(X_train_std,y_train)\n",
    "\n",
    "y_pred = perceptron.predict(X_test_std)\n",
    "\n",
    "#Se imprime el porcentaje de acierto\n",
    "print('Accuracy: %.2f' % accuracy_score(y_test, y_pred))"
   ]
  },
  {
   "cell_type": "markdown",
   "metadata": {},
   "source": [
    "# Breast Cancer Dataset\n",
    "Carga, entrenamiento, predicción y evaluación en la base de datos de Breast Cancer Dataset"
   ]
  },
  {
   "cell_type": "code",
   "execution_count": 2,
   "metadata": {},
   "outputs": [
    {
     "name": "stdout",
     "output_type": "stream",
     "text": [
      "Accuracy: 0.98\n"
     ]
    }
   ],
   "source": [
    "from sklearn import datasets\n",
    "from sklearn.model_selection import train_test_split\n",
    "from sklearn.linear_model import Perceptron\n",
    "from sklearn.preprocessing import StandardScaler\n",
    "from sklearn.metrics import accuracy_score\n",
    "import numpy as np\n",
    "\n",
    "#Perceptron for Cancer dataBase\n",
    "cancer = datasets.load_breast_cancer()\n",
    "\n",
    "X = cancer.data\n",
    "y = cancer.target\n",
    "\n",
    "# Se divide los datos en 90% datos de entrenamiento y 10% datos de test\n",
    "X_train, X_test, y_train, y_test = train_test_split(X, y, test_size=0.1)\n",
    "\n",
    "#Se preprocesan los datos\n",
    "standardSc = StandardScaler()\n",
    "standardSc.fit(X_train)\n",
    "\n",
    "#Se transforma el formato de los vectores\n",
    "X_train_std = standardSc.transform(X_train)\n",
    "X_test_std = standardSc.transform(X_test)\n",
    "\n",
    "perceptron = Perceptron(max_iter=100,eta0=0.1,random_state=0)\n",
    "perceptron.fit(X_train_std,y_train)\n",
    "\n",
    "y_pred = perceptron.predict(X_test_std)\n",
    "\n",
    "#Se imprime el porcentaje de acierto\n",
    "print('Accuracy: %.2f' % accuracy_score(y_test, y_pred))"
   ]
  },
  {
   "cell_type": "markdown",
   "metadata": {},
   "source": [
    "## Isolet Dataset (Isolated Letter Speech Recognition)\n",
    "Carga, entrenamiento, predicción y evaluación en la base de datos de Isolet"
   ]
  },
  {
   "cell_type": "code",
   "execution_count": 23,
   "metadata": {},
   "outputs": [
    {
     "name": "stdout",
     "output_type": "stream",
     "text": [
      "Accuracy: 0.92\n"
     ]
    }
   ],
   "source": [
    "import pandas as pd\n",
    "from sklearn import datasets\n",
    "from sklearn.model_selection import train_test_split\n",
    "from sklearn.linear_model import Perceptron\n",
    "from sklearn.preprocessing import StandardScaler\n",
    "from sklearn.metrics import accuracy_score\n",
    "import numpy as np\n",
    "\n",
    "# 1. Cargar los datos de la base de datos de entrenamiento\n",
    "X, y = fetch_openml('isolet', version=1, return_X_y=True, cache=True)\n",
    "y = pd.factorize(y)[0]\n",
    "\n",
    "# Se divide los datos en 70% datos de entrenamiento y 30% datos de test\n",
    "X_train, X_test, y_train, y_test = train_test_split(X, y, test_size=0.3)\n",
    "\n",
    "#Se preprocesan los datos\n",
    "standardSc = StandardScaler()\n",
    "standardSc.fit(X_train)\n",
    "\n",
    "#Se transforma el formato de los vectores\n",
    "X_train_std = standardSc.transform(X_train)\n",
    "X_test_std = standardSc.transform(X_test)\n",
    "\n",
    "perceptron = Perceptron(max_iter=100,eta0=0.1,random_state=0)\n",
    "perceptron.fit(X_train_std,y_train)\n",
    "\n",
    "y_pred = perceptron.predict(X_test_std)\n",
    "\n",
    "#Se imprime el porcentaje de acierto\n",
    "print('Accuracy: %.2f' % accuracy_score(y_test, y_pred))"
   ]
  },
  {
   "cell_type": "markdown",
   "metadata": {},
   "source": [
    "# # MNIST \n",
    "Prueba del perceptron para la base de datos MNIST"
   ]
  },
  {
   "cell_type": "code",
   "execution_count": 3,
   "metadata": {},
   "outputs": [
    {
     "name": "stdout",
     "output_type": "stream",
     "text": [
      "Accuracy: 0.88\n"
     ]
    }
   ],
   "source": [
    "from sklearn.model_selection import train_test_split\n",
    "from sklearn.linear_model import Perceptron\n",
    "from sklearn.preprocessing import StandardScaler\n",
    "from sklearn.metrics import accuracy_score\n",
    "import numpy as np\n",
    "import pandas as pd\n",
    "from sklearn.datasets import fetch_openml\n",
    "\n",
    "# Cargamos MNIST desde internet ( https://www.openml.org/d/554 )\n",
    "all_X, all_y = fetch_openml('mnist_784', version=1, return_X_y=True, cache=True)\n",
    "X = all_X[:60000]\n",
    "y = all_y[:60000]\n",
    "y = pd.factorize(y)[0]\n",
    "\n",
    "# Se divide los datos en 90% datos de entrenamiento y 10% datos de test\n",
    "X_train, X_test, y_train, y_test = train_test_split(X, y, test_size=0.1)\n",
    "\n",
    "#Se preprocesan los datos\n",
    "standardSc = StandardScaler()\n",
    "standardSc.fit(X_train)\n",
    "\n",
    "#Se transforma el formato de los vectores\n",
    "X_train_std = standardSc.transform(X_train)\n",
    "X_test_std = standardSc.transform(X_test)\n",
    "\n",
    "perceptron = Perceptron(max_iter=100,eta0=0.1,random_state=0)\n",
    "perceptron.fit(X_train_std,y_train)\n",
    "\n",
    "y_pred = perceptron.predict(X_test_std)\n",
    "\n",
    "#Se imprime el porcentaje de acierto\n",
    "print('Accuracy: %.2f' % accuracy_score(y_test, y_pred))"
   ]
  },
  {
   "cell_type": "markdown",
   "metadata": {},
   "source": [
    "## Conclusiones y Problemas\n",
    "En funcion de los datos obtenidos se puede ver que el indice de acierto es en todos los casos superior al 85% llegando en algunas casos a ser superior al 90%\n",
    "\n",
    "Los mayores problemas que nos hemos encontrado en esta practica ha sido la comprension del uso del Perceptronde SciKitLearn y de como aplicar eficazmente sus parametros para obtener los mejores resultados posibles. Ademas ha sido necesario comprender bien él funcionamiento del perceptron para poder hacerlo funcionar de manera correcta.\n"
   ]
  }
 ],
 "metadata": {
  "kernelspec": {
   "display_name": "Python 3",
   "language": "python",
   "name": "python3"
  },
  "language_info": {
   "codemirror_mode": {
    "name": "ipython",
    "version": 3
   },
   "file_extension": ".py",
   "mimetype": "text/x-python",
   "name": "python",
   "nbconvert_exporter": "python",
   "pygments_lexer": "ipython3",
   "version": "3.7.3"
  }
 },
 "nbformat": 4,
 "nbformat_minor": 2
}
