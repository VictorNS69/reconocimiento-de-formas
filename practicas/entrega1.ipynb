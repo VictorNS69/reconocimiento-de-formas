{
 "cells": [
  {
   "cell_type": "markdown",
   "metadata": {
    "colab_type": "text",
    "id": "AfaNEPeRXCe8"
   },
   "source": [
    "# Práctica 1 Reconocimiento de Formas: Clasificador de la distancia euclídea \n",
    "\n",
    "* **Alumno 1**: Javier Barragán Haro\n",
    "* **Alumno 2**: Victor Nieves Sanchez\n"
   ]
  },
  {
   "cell_type": "code",
   "execution_count": 4,
   "metadata": {
    "colab": {},
    "colab_type": "code",
    "id": "FsWqPK6l2flD"
   },
   "outputs": [],
   "source": [
    "\n",
    "import numpy as np\n",
    "from abc import abstractmethod\n",
    "from scipy.spatial import distance\n",
    "\n",
    "class Classifier:\n",
    "\n",
    "    @abstractmethod\n",
    "    def fit(self,X,y):\n",
    "        pass\n",
    "\n",
    "    @abstractmethod\n",
    "    def predict(self,X):\n",
    "        pass\n",
    "\n",
    "\n",
    "class ClassifEuclid(Classifier):\n",
    "    def __init__(self, labels=[]):\n",
    "        \"\"\"Constructor de la clase\n",
    "        labels: lista de etiquetas de esta clase\"\"\"\n",
    "        self.labels = labels\n",
    "        self.coordinates = []\n",
    "        self.occurrences = []\n",
    "        pass\n",
    "\n",
    "    def fit(self, x, y):\n",
    "        \"\"\"Entrena el clasificador\n",
    "        X: matriz numpy cada fila es un dato, cada columna una medida\n",
    "        y: vector de etiquetas, tantos elementos como filas en X\n",
    "        retorna objeto clasificador\"\"\"\n",
    "        self.occurrences = np.unique(self.labels, return_counts=True)\n",
    "        begin = 0\n",
    "        for e in enumerate(self.occurrences[1]):\n",
    "            self.coordinates.append((np.mean(x[begin:begin + e[1]], axis=0)))\n",
    "            begin += e[1]\n",
    "        \"\"\"    \n",
    "        predict_matrix = self.predict(x)\n",
    "        labels_matrix = self.pred_label(predict_matrix)\n",
    "        self.num_aciertos(labels_matrix, self.labels)\n",
    "        \"\"\"\n",
    "        return self\n",
    "\n",
    "    def predict(self, x):\n",
    "        \"\"\"Estima el grado de pertenencia de cada dato a todas las clases\n",
    "        X: matriz numpy cada fila es un dato, cada columna una medida del vector de caracteristicas.\n",
    "        Retorna una matriz, con tantas filas como datos y tantas columnas como clases tenga\n",
    "        el problema, cada fila almacena los valores pertenencia de un dato a cada clase\"\"\"\n",
    "        result = np.zeros((x.shape[0], self.occurrences[0].size))\n",
    "\n",
    "        for j in range(0, len(self.occurrences[1])):\n",
    "            for i in range(0, len(x)):\n",
    "                result[i, j] = distance.euclidean(x[i], self.coordinates[j])\n",
    "\n",
    "        return result\n",
    "\n",
    "    def pred_label(self, x):\n",
    "        \"\"\"Estima la etiqueta de cada dato. La etiqueta puede ser un entero o bien un string.\n",
    "        X: matriz numpy cada fila es un dato, cada columna una medida\n",
    "        retorna un vector con las etiquetas de cada dato\"\"\"\n",
    "        result = []\n",
    "        [result.append((e - 1).argmin()) for e in x]\n",
    "\n",
    "        return result\n",
    "\n",
    "    def num_aciertos(self, x, y):\n",
    "        \"\"\"Cuenta el numero de aciertos del clasificador para un conjunto de datos X.\n",
    "        X: matriz de datos a clasificar\n",
    "        y: vector de etiquetas correctas\"\"\"\n",
    "        same_values = []\n",
    "        [same_values.append(x[i] == y[i]) for i in range(0, len(self.labels))]\n",
    "        number = same_values.count(True)\n",
    "\n",
    "        return number, (number / len(x)) * 100\n",
    "\n"
   ]
  },
  {
   "cell_type": "markdown",
   "metadata": {
    "colab_type": "text",
    "id": "6VRuI00dW2cU"
   },
   "source": [
    "## Código para cargar la base de datos desde un fichero en drive:"
   ]
  },
  {
   "cell_type": "code",
   "execution_count": 5,
   "metadata": {
    "colab": {},
    "colab_type": "code",
    "id": "HXE9uaPR63vh"
   },
   "outputs": [],
   "source": [
    "# from google.colab import drive\n",
    "# from sklearn.datasets import load_iris\n",
    "\n",
    "# drive.mount('/content/gdrive')\n",
    "# drive_dir = '/content/gdrive/My Drive/Colab Notebooks/'\n",
    "\n",
    "# import pandas as pd\n",
    "# # Cargar las características de la BD\n",
    "# X = np.genfromtxt(drive_dir + 'irisData.txt', delimiter='\\t')[:, :-1]\n",
    "# print(\"X: \\n\" + str(X))\n",
    "\n",
    "# # Leer las etiquetas y convertirlas a enteros\n",
    "# y = np.genfromtxt(drive_dir + 'irisData.txt', dtype=str, delimiter='\\t')[:, -1]\n",
    "# y = pd.factorize(y)[0]\n",
    "# print(\"y: \\n\" + str(y))"
   ]
  },
  {
   "cell_type": "markdown",
   "metadata": {
    "colab_type": "text",
    "id": "Jry9Y_njWsg6"
   },
   "source": [
    "## Código para cargar la base de datos Iris directamente desde sklearn:"
   ]
  },
  {
   "cell_type": "code",
   "execution_count": 6,
   "metadata": {
    "colab": {
     "base_uri": "https://localhost:8080/",
     "height": 1000
    },
    "colab_type": "code",
    "executionInfo": {
     "elapsed": 906,
     "status": "ok",
     "timestamp": 1568323676443,
     "user": {
      "displayName": "Iago Suárez",
      "photoUrl": "https://lh3.googleusercontent.com/a-/AAuE7mCIoiLrUWgbOZ6jr3DHdz3G66zRmqqPBdVeoM8yEA=s64",
      "userId": "13725843249013938636"
     },
     "user_tz": -120
    },
    "id": "LmA70vaCWgzI",
    "outputId": "0eba7d4e-2b19-4ccf-eb44-549a1f745948"
   },
   "outputs": [
    {
     "name": "stdout",
     "output_type": "stream",
     "text": [
      "Sample matrix dimension: (150, 4)\n",
      "Labels matrix dimension: (150, 1)\n",
      "Correct answers: 139 / 150\n",
      "Success rate: 92.66666666666666\n"
     ]
    }
   ],
   "source": [
    "from sklearn.datasets import load_iris\n",
    "import numpy as np\n",
    "\n",
    "if __name__ == \"__main__\":\n",
    "    # Load the data\n",
    "    dataset = load_iris()\n",
    "    samples = dataset.data\n",
    "    labels = dataset.target\n",
    "    \n",
    "    unique = list(np.unique(labels))\n",
    "    aux_labels = []\n",
    "\n",
    "    for index, element in enumerate(labels):\n",
    "        aux_labels.append(unique.index(element))\n",
    "    labels = aux_labels\n",
    "    del aux_labels\n",
    "\n",
    "    print(\"Sample matrix dimension:\", samples.shape)\n",
    "    print(\"Labels matrix dimension:\", \"(\" + str(len(labels)) + \", 1)\")\n",
    "\n",
    "    classifEuclid = ClassifEuclid(labels)\n",
    "\n",
    "    classifEuclid.fit(samples, labels)\n",
    "\n",
    "    predict_matrix = classifEuclid.predict(samples)\n",
    "\n",
    "    labels_matrix = classifEuclid.pred_label(predict_matrix)\n",
    "\n",
    "    correct = classifEuclid.num_aciertos(labels_matrix, labels)\n",
    "\n",
    "    print(\"Correct answers:\", correct[0], \"/\", len(labels))\n",
    "    print(\"Success rate:\", correct[1])\n",
    "\n",
    "    "
   ]
  },
  {
   "cell_type": "markdown",
   "metadata": {
    "colab_type": "text",
    "id": "T0U0Awu0X01F"
   },
   "source": [
    "Entrenamiento, predicción y evaluación"
   ]
  },
  {
   "cell_type": "code",
   "execution_count": 105,
   "metadata": {
    "colab": {},
    "colab_type": "code",
    "id": "xasWFNlhX85L"
   },
   "outputs": [],
   "source": [
    "# 1. Cargar los datos de la base de datos de entrenamiento\n",
    "\n",
    "# 2. Entrenar el clasificador\n",
    "\n",
    "# 3. Predecir empleando la base de datos de entrenamiento (X)\n",
    "\n",
    "# 4. Evaluar el clasificador calculando el porcentaje de datos correctamente clasificados"
   ]
  },
  {
   "cell_type": "markdown",
   "metadata": {},
   "source": [
    "Pruebas con la base de datos wine "
   ]
  },
  {
   "cell_type": "code",
   "execution_count": 9,
   "metadata": {},
   "outputs": [
    {
     "name": "stdout",
     "output_type": "stream",
     "text": [
      "Sample matrix dimension: (178, 13)\n",
      "Labels matrix dimension: (178, 1)\n",
      "Correct answers: 129 / 178\n",
      "Success rate: 72.47191011235955\n"
     ]
    }
   ],
   "source": [
    "from sklearn.datasets import load_wine\n",
    "import numpy as np\n",
    "\n",
    "if __name__ == \"__main__\":\n",
    "    # Load the data\n",
    "    dataset = load_wine()\n",
    "    samples = dataset.data\n",
    "    labels = dataset.target\n",
    "    \n",
    "    unique = list(np.unique(labels))\n",
    "    aux_labels = []\n",
    "\n",
    "    for index, element in enumerate(labels):\n",
    "        aux_labels.append(unique.index(element))\n",
    "    labels = aux_labels\n",
    "    del aux_labels\n",
    "\n",
    "    print(\"Sample matrix dimension:\", samples.shape)\n",
    "    print(\"Labels matrix dimension:\", \"(\" + str(len(labels)) + \", 1)\")\n",
    "\n",
    "    classifEuclid = ClassifEuclid(labels)\n",
    "\n",
    "    classifEuclid.fit(samples, labels)\n",
    "\n",
    "    predict_matrix = classifEuclid.predict(samples)\n",
    "\n",
    "    labels_matrix = classifEuclid.pred_label(predict_matrix)\n",
    "\n",
    "    correct = classifEuclid.num_aciertos(labels_matrix, labels)\n",
    "\n",
    "    print(\"Correct answers:\", correct[0], \"/\", len(labels))\n",
    "    print(\"Success rate:\", correct[1])\n"
   ]
  },
  {
   "cell_type": "markdown",
   "metadata": {},
   "source": [
    "Pruebas con la base de datos cancer"
   ]
  },
  {
   "cell_type": "code",
   "execution_count": 11,
   "metadata": {},
   "outputs": [
    {
     "name": "stdout",
     "output_type": "stream",
     "text": [
      "Sample matrix dimension: (569, 30)\n",
      "Labels matrix dimension: (569, 1)\n",
      "Correct answers: 519 / 569\n",
      "Success rate: 91.21265377855887\n"
     ]
    }
   ],
   "source": [
    "from sklearn.datasets import load_breast_cancer\n",
    "import numpy as np\n",
    "\n",
    "if __name__ == \"__main__\":\n",
    "    # Load the data\n",
    "    dataset = load_breast_cancer()\n",
    "    samples = dataset.data\n",
    "    labels = dataset.target\n",
    "    \n",
    "    unique = list(np.unique(labels))\n",
    "    aux_labels = []\n",
    "\n",
    "    for index, element in enumerate(labels):\n",
    "        aux_labels.append(unique.index(element))\n",
    "    labels = aux_labels\n",
    "    del aux_labels\n",
    "\n",
    "    print(\"Sample matrix dimension:\", samples.shape)\n",
    "    print(\"Labels matrix dimension:\", \"(\" + str(len(labels)) + \", 1)\")\n",
    "\n",
    "    classifEuclid = ClassifEuclid(labels)\n",
    "\n",
    "    classifEuclid.fit(samples, labels)\n",
    "\n",
    "    predict_matrix = classifEuclid.predict(samples)\n",
    "\n",
    "    labels_matrix = classifEuclid.pred_label(predict_matrix)\n",
    "\n",
    "    correct = classifEuclid.num_aciertos(labels_matrix, labels)\n",
    "\n",
    "    print(\"Correct answers:\", correct[0], \"/\", len(labels))\n",
    "    print(\"Success rate:\", correct[1])\n"
   ]
  },
  {
   "cell_type": "markdown",
   "metadata": {},
   "source": [
    "Resultados de los tres experimentos:\n",
    "\n",
    "| Base de datos | Número de aciertos | Porcentaje de aciertos | \n",
    "| --- | --- | --- |\n",
    "| Iris   |  139 / 150 | 92.66 |\n",
    "| Wine   | 129/178 | 72.47191011235955  |\n",
    "| Cancer | 519/569 | 91.212 |\n"
   ]
  },
  {
   "cell_type": "code",
   "execution_count": null,
   "metadata": {},
   "outputs": [],
   "source": []
  }
 ],
 "metadata": {
  "colab": {
   "collapsed_sections": [],
   "name": "Esqueleto(2).ipynb",
   "provenance": [],
   "version": "0.3.2"
  },
  "kernelspec": {
   "display_name": "Python 3",
   "language": "python",
   "name": "python3"
  },
  "language_info": {
   "codemirror_mode": {
    "name": "ipython",
    "version": 3
   },
   "file_extension": ".py",
   "mimetype": "text/x-python",
   "name": "python",
   "nbconvert_exporter": "python",
   "pygments_lexer": "ipython3",
   "version": "3.7.3"
  },
  "pycharm": {
   "stem_cell": {
    "cell_type": "raw",
    "metadata": {
     "collapsed": false
    },
    "source": []
   }
  }
 },
 "nbformat": 4,
 "nbformat_minor": 1
}
