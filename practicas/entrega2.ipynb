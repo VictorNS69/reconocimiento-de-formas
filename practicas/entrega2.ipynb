{
 "cells": [
  {
   "cell_type": "markdown",
   "metadata": {
    "colab_type": "text",
    "id": "AfaNEPeRXCe8"
   },
   "source": [
    "# Práctica 2 Reconocimiento de Formas: Clasificador de la distancia euclídea\n",
    "\n",
    "* **Alumno 1**: Javier Barragán Haro\n",
    "* **Alumno 2**: Victor Nieves Sanchez\n"
   ]
  },
  {
   "cell_type": "code",
   "execution_count": 1,
   "metadata": {
    "colab": {},
    "colab_type": "code",
    "id": "FsWqPK6l2flD"
   },
   "outputs": [],
   "source": [
    "import numpy as np\n",
    "from abc import abstractmethod\n",
    "\n",
    "class Classifier:\n",
    "\n",
    "    @abstractmethod\n",
    "    def fit(self,X,y):\n",
    "        pass\n",
    "\n",
    "    @abstractmethod\n",
    "    def predict(self,X):\n",
    "        pass\n",
    "\n",
    "\n",
    "class ClassifEuclid(Classifier):\n",
    "    def __init__(self, labels=[]):\n",
    "        \"\"\"Constructor de la clase\n",
    "        labels: lista de etiquetas de esta clase\"\"\"\n",
    "        self.labels = labels\n",
    "        self.centroids = []\n",
    "        pass\n",
    "\n",
    "    def fit(self, x, y):\n",
    "        \"\"\"Entrena el clasificador\n",
    "        X: matriz numpy cada fila es un dato, cada columna una medida\n",
    "        y: vector de etiquetas, tantos elementos como filas en X\n",
    "        retorna objeto clasificador\"\"\"\n",
    "        self.centroids = np.array([np.mean(x[y==i], axis=0) for i in np.unique(y)])\n",
    "        return self\n",
    "\n",
    "    def predict(self, x):\n",
    "        \"\"\"Estima el grado de pertenencia de cada dato a todas las clases\n",
    "        X: matriz numpy cada fila es un dato, cada columna una medida del vector de caracteristicas.\n",
    "        Retorna una matriz, con tantas filas como datos y tantas columnas como clases tenga\n",
    "        el problema, cada fila almacena los valores pertenencia de un dato a cada clase\"\"\"\n",
    "        return np.linalg.norm(self.centroids[:, np.newaxis] - x, axis=2)\n",
    "\n",
    "    def pred_label(self, x):\n",
    "        \"\"\"Estima la etiqueta de cada dato. La etiqueta puede ser un entero o bien un string.\n",
    "        X: matriz numpy cada fila es un dato, cada columna una medida\n",
    "        retorna un vector con las etiquetas de cada dato\"\"\"\n",
    "        return np.argmin(x,axis=0)\n",
    "\n",
    "    def num_aciertos(self, x, y):\n",
    "        \"\"\"Cuenta el numero de aciertos del clasificador para un conjunto de datos X.\n",
    "        X: matriz de datos a clasificar\n",
    "        y: vector de etiquetas correctas\"\"\"\n",
    "        same_values = []\n",
    "        [same_values.append(x[i] == y[i]) for i in range(0, len(self.labels))]\n",
    "        number = same_values.count(True)\n",
    "\n",
    "        return number, (number / len(x)) * 100"
   ]
  },
  {
   "cell_type": "markdown",
   "metadata": {
    "colab_type": "text",
    "id": "RABsoBjy07XN"
   },
   "source": [
    "## MNIST Database (Modified National Institute of Standards and Technology database)\n",
    "MNIST es una base de datos de texto manuscrito, que se usa de forma clásica para entrenar sistemas de procesado de imágenes. En esta práctica debes tratar de predecir el dígito de cada imagen."
   ]
  },
  {
   "cell_type": "code",
   "execution_count": 2,
   "metadata": {
    "colab": {},
    "colab_type": "code",
    "id": "PfO9Ch2e05jF"
   },
   "outputs": [],
   "source": [
    "# # Loading MNIST from Drive\n",
    "# from google.colab import drive\n",
    "# from sklearn.datasets import load_iris\n",
    "\n",
    "# drive.mount('/content/gdrive')\n",
    "# drive_dir = '/content/gdrive/My Drive/Colab Notebooks/MNIST/'\n",
    "\n",
    "# # Isntall idx2numpy to read the data\n",
    "# !pip install idx2numpy \n",
    "# import idx2numpy\n",
    "# import numpy as np\n",
    "\n",
    "# # Load the images\n",
    "# file = drive_dir + 'train-images-idx3-ubyte/data'\n",
    "# X = idx2numpy.convert_from_file(file)\n",
    "\n",
    "# # Reshape the data. Each pixel is considered as a feature. 28 x 28 = 784\n",
    "# X = X.reshape(X.shape[0], -1)\n",
    "# print(\"X: \\n\" + str(X))\n",
    "\n",
    "# # Load the labels\n",
    "# file = drive_dir + 'train-labels-idx1-ubyte/data'\n",
    "# y = idx2numpy.convert_from_file(file)\n",
    "\n",
    "# print(\"y: \\n\" + str(y))\n"
   ]
  },
  {
   "cell_type": "code",
   "execution_count": 3,
   "metadata": {
    "colab": {
     "base_uri": "https://localhost:8080/",
     "height": 191
    },
    "colab_type": "code",
    "id": "Vd2TXXXH1MJY",
    "outputId": "a5e51ce9-b59c-4ddc-bbca-227457f147f3"
   },
   "outputs": [
    {
     "name": "stdout",
     "output_type": "stream",
     "text": [
      "X: \n",
      "[[0. 0. 0. ... 0. 0. 0.]\n",
      " [0. 0. 0. ... 0. 0. 0.]\n",
      " [0. 0. 0. ... 0. 0. 0.]\n",
      " ...\n",
      " [0. 0. 0. ... 0. 0. 0.]\n",
      " [0. 0. 0. ... 0. 0. 0.]\n",
      " [0. 0. 0. ... 0. 0. 0.]]\n",
      "y: \n",
      "['5' '0' '4' ... '5' '6' '8']\n"
     ]
    }
   ],
   "source": [
    "import numpy as np\n",
    "from sklearn.datasets import fetch_openml\n",
    "\n",
    "# Cargamos MNIST desde internet ( https://www.openml.org/d/554 )\n",
    "all_X, all_y = fetch_openml('mnist_784', version=1, return_X_y=True, cache=True)\n",
    "X = all_X[:60000]\n",
    "y = all_y[:60000]\n",
    "print(\"X: \\n\" + str(X))\n",
    "print(\"y: \\n\" + str(y))\n"
   ]
  },
  {
   "cell_type": "code",
   "execution_count": 5,
   "metadata": {
    "colab": {
     "base_uri": "https://localhost:8080/",
     "height": 286
    },
    "colab_type": "code",
    "id": "Nem5x_TI2eFq",
    "outputId": "1d7e8c2a-4e4a-4bb6-cda2-516afab18087"
   },
   "outputs": [
    {
     "name": "stdout",
     "output_type": "stream",
     "text": [
      "Label: 5\n"
     ]
    },
    {
     "data": {
      "image/png": "[encoded data removed]",
      "text/plain": [
       "<Figure size 432x288 with 1 Axes>"
      ]
     },
     "metadata": {
      "needs_background": "light"
     },
     "output_type": "display_data"
    }
   ],
   "source": [
    "# Vamos a visualizar alguna de las imágenes de la BD de MNIST\n",
    "import matplotlib.pyplot as plt\n",
    "\n",
    "# Imprimamos el primer ejemplo\n",
    "plt.imshow(X[0].reshape(28, 28), cmap='gray')\n",
    "print(\"Label: \" + str(y[0]))"
   ]
  },
  {
   "cell_type": "markdown",
   "metadata": {
    "colab_type": "text",
    "id": "z4NRE88w-DOx"
   },
   "source": [
    "Ahora usamos nuestro clasificador de la distancia euclídea para predecir la base de datos:"
   ]
  },
  {
   "cell_type": "code",
   "execution_count": 6,
   "metadata": {},
   "outputs": [
    {
     "name": "stdout",
     "output_type": "stream",
     "text": [
      "Correct answers: 48479 / 60000\n",
      "Success rate: 80.79833333333333\n"
     ]
    }
   ],
   "source": [
    "# ------ MNIST Database ------\n",
    "# 1. Cargar los datos de la base de datos de entrenamiento\n",
    "all_X, all_y = fetch_openml('mnist_784', version=1, return_X_y=True, cache=True)\n",
    "X = all_X[:60000]\n",
    "y = all_y[:60000].astype(int)\n",
    "\n",
    "# 2. Entrenar el clasificador\n",
    "classifEuclid = ClassifEuclid(y)\n",
    "classifEuclid.fit(X, y)\n",
    "\n",
    "# 3. Predecir empleando la base de datos de entrenamiento (X)\n",
    "predict_matrix = classifEuclid.predict(X)\n",
    "\n",
    "# 4. Evaluar el clasificador calculando el porcentaje de datos correctamente clasificados\n",
    "labels_matrix = classifEuclid.pred_label(predict_matrix)\n",
    "\n",
    "correct = classifEuclid.num_aciertos(labels_matrix, list(y))\n",
    "print(\"Correct answers:\", correct[0], \"/\", len(y))\n",
    "print(\"Success rate:\", correct[1])"
   ]
  },
  {
   "cell_type": "markdown",
   "metadata": {
    "colab_type": "text",
    "id": "1Xn7msweCDk5"
   },
   "source": [
    "## Isolet Dataset (Isolated Letter Speech Recognition)\n",
    "Tratar de predecir ahora esta otra base de datos sobre reconociento de voz."
   ]
  },
  {
   "cell_type": "code",
   "execution_count": 7,
   "metadata": {
    "colab": {
     "base_uri": "https://localhost:8080/",
     "height": 52
    },
    "colab_type": "code",
    "id": "QmefmuvR-33P",
    "outputId": "e79b4b59-4132-4130-e468-1b458c851445"
   },
   "outputs": [
    {
     "name": "stdout",
     "output_type": "stream",
     "text": [
      "Correct answers: 6843 / 7797\n",
      "Success rate: 87.7645248172374\n"
     ]
    }
   ],
   "source": [
    "import pandas as pd\n",
    "\n",
    "# ------ Isolet Database ------\n",
    "# 1. Cargar los datos de la base de datos de entrenamiento\n",
    "X, y = fetch_openml('isolet', version=1, return_X_y=True, cache=True)\n",
    "y = pd.factorize(y)[0]\n",
    "\n",
    "# 2. Entrenar el clasificador\n",
    "classifEuclid = ClassifEuclid(y)\n",
    "classifEuclid.fit(X, y)\n",
    "\n",
    "# 3. Predecir empleando la base de datos de entrenamiento (X)\n",
    "predict_matrix = classifEuclid.predict(X)\n",
    "\n",
    "# 4. Evaluar el clasificador calculando el porcentaje de datos correctamente clasificados\n",
    "labels_matrix = classifEuclid.pred_label(predict_matrix)\n",
    "correct = classifEuclid.num_aciertos(labels_matrix, y)\n",
    "print(\"Correct answers:\", correct[0], \"/\", len(y))\n",
    "print(\"Success rate:\", correct[1])"
   ]
  },
  {
   "cell_type": "markdown",
   "metadata": {},
   "source": [
    "## Iris, Wine y Cancer Dataset\n"
   ]
  },
  {
   "cell_type": "code",
   "execution_count": 8,
   "metadata": {},
   "outputs": [
    {
     "name": "stdout",
     "output_type": "stream",
     "text": [
      "Correct answers: 139 / 150\n",
      "Success rate: 92.66666666666666\n"
     ]
    }
   ],
   "source": [
    "# --------- Iris database ---------\n",
    "from sklearn.datasets import load_iris\n",
    "\n",
    "dataset = load_iris()\n",
    "samples = dataset.data\n",
    "labels = dataset.target\n",
    "\n",
    "classifEuclid = ClassifEuclid(labels)\n",
    "\n",
    "classifEuclid.fit(samples, labels)\n",
    "\n",
    "predict_matrix = classifEuclid.predict(samples)\n",
    "\n",
    "labels_matrix = classifEuclid.pred_label(predict_matrix)\n",
    "\n",
    "correct = classifEuclid.num_aciertos(labels_matrix, labels)\n",
    "\n",
    "print(\"Correct answers:\", correct[0], \"/\", len(labels))\n",
    "print(\"Success rate:\", correct[1])"
   ]
  },
  {
   "cell_type": "code",
   "execution_count": 9,
   "metadata": {},
   "outputs": [
    {
     "name": "stdout",
     "output_type": "stream",
     "text": [
      "Correct answers: 129 / 178\n",
      "Success rate: 72.47191011235955\n"
     ]
    }
   ],
   "source": [
    "# --------- Wine database ---------\n",
    "from sklearn.datasets import load_wine\n",
    "\n",
    "dataset = load_wine()\n",
    "samples = dataset.data\n",
    "labels = dataset.target\n",
    "\n",
    "classifEuclid = ClassifEuclid(labels)\n",
    "\n",
    "classifEuclid.fit(samples, labels)\n",
    "\n",
    "predict_matrix = classifEuclid.predict(samples)\n",
    "\n",
    "labels_matrix = classifEuclid.pred_label(predict_matrix)\n",
    "\n",
    "correct = classifEuclid.num_aciertos(labels_matrix, labels)\n",
    "\n",
    "print(\"Correct answers:\", correct[0], \"/\", len(labels))\n",
    "print(\"Success rate:\", correct[1])"
   ]
  },
  {
   "cell_type": "code",
   "execution_count": 10,
   "metadata": {},
   "outputs": [
    {
     "name": "stdout",
     "output_type": "stream",
     "text": [
      "Correct answers: 507 / 569\n",
      "Success rate: 89.103690685413\n"
     ]
    }
   ],
   "source": [
    "# --------- Cancer database ---------\n",
    "from sklearn.datasets import load_breast_cancer\n",
    "\n",
    "dataset = load_breast_cancer()\n",
    "samples = dataset.data\n",
    "labels = dataset.target\n",
    "\n",
    "classifEuclid = ClassifEuclid(labels)\n",
    "\n",
    "classifEuclid.fit(samples, labels)\n",
    "\n",
    "predict_matrix = classifEuclid.predict(samples)\n",
    "\n",
    "labels_matrix = classifEuclid.pred_label(predict_matrix)\n",
    "\n",
    "correct = classifEuclid.num_aciertos(labels_matrix, labels)\n",
    "\n",
    "print(\"Correct answers:\", correct[0], \"/\", len(labels))\n",
    "print(\"Success rate:\", correct[1])"
   ]
  },
  {
   "cell_type": "markdown",
   "metadata": {
    "colab_type": "text",
    "id": "p_kQ7OJd9fqD"
   },
   "source": [
    "Resultados de los tres experimentos:\n",
    "\n",
    "| Base de datos | Número de aciertos | Porcentaje de aciertos |\n",
    "| --- | --- | --- |\n",
    "| Iris   |  139 / 150 | 92.66 |\n",
    "| Wine   | 129/178 | 72.47  |\n",
    "| Cancer | 507/569 | 89.10 |\n",
    "| **MNIST**  | 48479 / 60000 |80.80|\n",
    "| **Isolet** | 6843 / 7797 | 87.76 |"
   ]
  }
 ],
 "metadata": {
  "colab": {
   "collapsed_sections": [],
   "name": "EsqueletoPractica2.ipynb",
   "provenance": [],
   "version": "0.3.2"
  },
  "kernelspec": {
   "display_name": "Python 3",
   "language": "python",
   "name": "python3"
  },
  "language_info": {
   "codemirror_mode": {
    "name": "ipython",
    "version": 3
   },
   "file_extension": ".py",
   "mimetype": "text/x-python",
   "name": "python",
   "nbconvert_exporter": "python",
   "pygments_lexer": "ipython3",
   "version": "3.7.3"
  }
 },
 "nbformat": 4,
 "nbformat_minor": 1
}
