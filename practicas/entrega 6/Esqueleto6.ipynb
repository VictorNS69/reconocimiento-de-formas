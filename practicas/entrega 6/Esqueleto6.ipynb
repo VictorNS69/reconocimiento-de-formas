{
 "cells": [
  {
   "cell_type": "markdown",
   "metadata": {
    "colab_type": "text",
    "id": "wyjOTFnys8qF"
   },
   "source": [
    "# Reconocimiento de Formas: Práctica Final (6) - OCR\n",
    "\n",
    "En esta práctica final implementarás un OCR capaz de leer una hoja con texto escrito a máquina.\n",
    "\n",
    "* **alumno 1**: Víctor Nieves Sánchez\n",
    "* **alumno 2**: Javier Barragán Haro\n"
   ]
  },
  {
   "cell_type": "markdown",
   "metadata": {
    "colab_type": "text",
    "id": "dcaqXMqas8qJ"
   },
   "source": [
    "Las utilidades **upm_imshow** y **upm_rectangle** te permiten respectivamente mostrar una ventana re-escalable de un tamaño determinado y dibujan un rectángulo representado como [x, y, width, height]."
   ]
  },
  {
   "cell_type": "code",
   "execution_count": 1,
   "metadata": {
    "colab": {
     "base_uri": "https://localhost:8080/",
     "height": 34
    },
    "colab_type": "code",
    "id": "iyglxe27s8qM",
    "outputId": "47ba04a8-ac31-431d-e843-4d0b90d30894"
   },
   "outputs": [],
   "source": [
    "import cv2\n",
    "\n",
    "# %matplotlib notebook\n",
    "# %matplotlib inline\n",
    "import matplotlib.pyplot as plt\n",
    "plt.rcParams[\"figure.figsize\"] = (20,30)\n",
    "\n",
    "# %pip install mpld3\n",
    "import mpld3\n",
    "mpld3.enable_notebook()\n",
    "\n",
    "# ##############################################################################\n",
    "# ################################## Utilities #################################\n",
    "# ##############################################################################\n",
    "\n",
    "fig_counter = [0]\n",
    "    \n",
    "def upm_imshow(win_name, img, win_size=800):\n",
    "    \"\"\"Shows a resizable window with a fixed size. No matters the image size\"\"\"\n",
    "#     cv2.namedWindow(win_name, cv2.WINDOW_KEEPRATIO)\n",
    "#     cv2.imshow(win_name, img)\n",
    "#     h = img.shape[0]\n",
    "#     w = img.shape[1]\n",
    "#     max_dim = w if w > h else h\n",
    "#     win_scale = win_size / max_dim\n",
    "#     cv2.resizeWindow(win_name, int(w * win_scale), int(h * win_scale))\n",
    "\n",
    "    plt.figure()\n",
    "    plt.imshow(cv2.cvtColor(img, cv2.COLOR_BGR2RGB))\n",
    "\n",
    "\n",
    "def upm_rectangle(img, box, color, thickness):\n",
    "    \"\"\"Draws a rectangle based on a box. The box should be: [x, y, width, height]\"\"\"\n",
    "    cv2.rectangle(img, (int(box[0]), int(box[1])), (int(box[0] + box[2]), int(box[1] + box[3])), color, thickness)"
   ]
  },
  {
   "cell_type": "markdown",
   "metadata": {
    "colab_type": "text",
    "id": "wzqZsqWNs8qf"
   },
   "source": [
    "## Clasificadores\n",
    "\n",
    "Implementa aquí los clasificadores que vaya a emplear para reconocer cada caracter de forma individual. "
   ]
  },
  {
   "cell_type": "code",
   "execution_count": null,
   "metadata": {
    "colab": {},
    "colab_type": "code",
    "id": "ngYX5y4Ps8qh"
   },
   "outputs": [],
   "source": []
  },
  {
   "cell_type": "markdown",
   "metadata": {
    "colab_type": "text",
    "id": "W8l1ahgaw7Sf"
   },
   "source": [
    "# Reconocedor de texto\n",
    "La clase **TextRecognizer** es la encargada de detectar el texto en la imagen con la ayuda de tu reconocedor de caracteres. El reconocimiento de texto tiene los siguientes pasos báásicos:\n",
    "\n",
    "1. Detectar los caracteres como manchas negras sobre el fondo blanco (método **detect_chars**).\n",
    "2. Reconocer el caracter a partir de el trocito de imagen (méétdos **predict_char** y **standardize_char_size**).\n",
    "3. Agrupar los caracteres formando palabras (método **detect_words**)\n",
    "4. Agrupar las palabras formando lineas de texto (método **detect_lines**)\n",
    "\n",
    "Esta clase emplea métodos de visión por computador que están fuera del alcance de la asignatura de reconocimiento de formas. Por este motivo no es necesario que modifiques esta clase, aunque si crees que con ello puedes mejorar de alguna manera tus ratios de detección, te animamos a hacerlo!"
   ]
  },
  {
   "cell_type": "code",
   "execution_count": 2,
   "metadata": {
    "colab": {},
    "colab_type": "code",
    "id": "fCA5TJsMs8ql"
   },
   "outputs": [
    {
     "ename": "NameError",
     "evalue": "name 'Classifier' is not defined",
     "output_type": "error",
     "traceback": [
      "\u001b[0;31m------------------------------------------\u001b[0m",
      "\u001b[0;31mNameError\u001b[0mTraceback (most recent call last)",
      "\u001b[0;32m<ipython-input-2-d5f29cf535a9>\u001b[0m in \u001b[0;36m<module>\u001b[0;34m()\u001b[0m\n\u001b[1;32m     14\u001b[0m \u001b[0;31m# ##############################################################################\u001b[0m\u001b[0;34m\u001b[0m\u001b[0;34m\u001b[0m\u001b[0;34m\u001b[0m\u001b[0m\n\u001b[1;32m     15\u001b[0m \u001b[0;34m\u001b[0m\u001b[0m\n\u001b[0;32m---> 16\u001b[0;31m \u001b[0;32mclass\u001b[0m \u001b[0mTextRecognizer\u001b[0m\u001b[0;34m:\u001b[0m\u001b[0;34m\u001b[0m\u001b[0;34m\u001b[0m\u001b[0m\n\u001b[0m\u001b[1;32m     17\u001b[0m     \"\"\"\n\u001b[1;32m     18\u001b[0m     \u001b[0mThe\u001b[0m \u001b[0mTextRecognizer\u001b[0m \u001b[0;32mclass\u001b[0m \u001b[0;32mis\u001b[0m \u001b[0ma\u001b[0m \u001b[0mutility\u001b[0m \u001b[0mthat\u001b[0m \u001b[0mallows\u001b[0m \u001b[0mto\u001b[0m \u001b[0mdetect\u001b[0m \u001b[0mtext\u001b[0m \u001b[0;32min\u001b[0m \u001b[0ma\u001b[0m \u001b[0mscanned\u001b[0m \u001b[0mpaper\u001b[0m\u001b[0;34m.\u001b[0m\u001b[0;34m\u001b[0m\u001b[0;34m\u001b[0m\u001b[0m\n",
      "\u001b[0;32m<ipython-input-2-d5f29cf535a9>\u001b[0m in \u001b[0;36mTextRecognizer\u001b[0;34m()\u001b[0m\n\u001b[1;32m     24\u001b[0m     \"\"\"\n\u001b[1;32m     25\u001b[0m \u001b[0;34m\u001b[0m\u001b[0m\n\u001b[0;32m---> 26\u001b[0;31m     \u001b[0;32mdef\u001b[0m \u001b[0m__init__\u001b[0m\u001b[0;34m(\u001b[0m\u001b[0mself\u001b[0m\u001b[0;34m,\u001b[0m \u001b[0mchar_classifier\u001b[0m\u001b[0;34m:\u001b[0m \u001b[0;34m(\u001b[0m\u001b[0mClassifier\u001b[0m\u001b[0;34m,\u001b[0m \u001b[0mBaseEstimator\u001b[0m\u001b[0;34m)\u001b[0m\u001b[0;34m,\u001b[0m \u001b[0mclassifier_mapping\u001b[0m\u001b[0;34m:\u001b[0m \u001b[0mnp\u001b[0m\u001b[0;34m.\u001b[0m\u001b[0mndarray\u001b[0m\u001b[0;34m)\u001b[0m\u001b[0;34m:\u001b[0m\u001b[0;34m\u001b[0m\u001b[0;34m\u001b[0m\u001b[0m\n\u001b[0m\u001b[1;32m     27\u001b[0m         \"\"\"\n\u001b[1;32m     28\u001b[0m         \u001b[0;34m:\u001b[0m\u001b[0mparam\u001b[0m \u001b[0mchar_classifier\u001b[0m\u001b[0;34m:\u001b[0m \u001b[0mThe\u001b[0m \u001b[0mclassifier\u001b[0m \u001b[0mthat\u001b[0m \u001b[0mwill\u001b[0m \u001b[0mbe\u001b[0m \u001b[0mused\u001b[0m \u001b[0mto\u001b[0m \u001b[0mrecognize\u001b[0m \u001b[0mcharacters\u001b[0m\u001b[0;34m.\u001b[0m\u001b[0;34m\u001b[0m\u001b[0;34m\u001b[0m\u001b[0m\n",
      "\u001b[0;31mNameError\u001b[0m: name 'Classifier' is not defined"
     ]
    }
   ],
   "source": [
    "import functools\n",
    "import os\n",
    "import random\n",
    "import sys\n",
    "from typing import Callable\n",
    "import cv2\n",
    "import numpy as np\n",
    "from sklearn.base import BaseEstimator\n",
    "\n",
    "\n",
    "\n",
    "# ##############################################################################\n",
    "# ############################# Text Recognition ###############################\n",
    "# ##############################################################################\n",
    "\n",
    "class TextRecognizer:\n",
    "    \"\"\"\n",
    "    The TextRecognizer class is a utility that allows to detect text in a scanned paper.\n",
    "    The class uses computer vision classical methods to detect characters, words and lines of text.\n",
    "    Characters are detected as dark blobs in the light background. A classifier specified in the\n",
    "    constructor is used to recognize each character individually. Words are detected as big\n",
    "    blobs and its letters are detected as the recognized chars that fall inside the word box.\n",
    "    Last, line text are detected as groups of horizontally aligned word boxes.\n",
    "    \"\"\"\n",
    "\n",
    "    def __init__(self, char_classifier: (Classifier, BaseEstimator), classifier_mapping: np.ndarray):\n",
    "        \"\"\"\n",
    "        :param char_classifier: The classifier that will be used to recognize characters.\n",
    "        :param classifier_mapping: The mapping from the output of the classifier (number) to chars\n",
    "        \"\"\"\n",
    "        self.char_classifier = None\n",
    "        self.classifier_mapping = classifier_mapping\n",
    "        self.char_classifier = char_classifier\n",
    "\n",
    "    def predict_char(self, X: np.ndarray):\n",
    "        \"\"\"\n",
    "        Predicts a char based on the input bitmap X. Since the char_classifier predicts\n",
    "        a index, this function converts the returned intex into a char.\n",
    "        :param X: The input image with a character to recognize. Should be of type float.\n",
    "        :return: The predicted char.\n",
    "        \"\"\"\n",
    "        assert X.dtype in (float, np.float32, np.float64)\n",
    "        return self.classifier_mapping[self.char_classifier.predict(X.reshape(1, -1))][0]\n",
    "\n",
    "    @staticmethod\n",
    "    def standardize_char_size(img: np.ndarray, dst_shape: tuple = (28, 28)):\n",
    "        \"\"\"\n",
    "        Centers and scales the input image (img) to fit it in a image of shape dst_shape with a small border.\n",
    "        :param img: The input image\n",
    "        :param dst_shape: The destination shape. This defines also the number of features used in the classifier.\n",
    "        :return: a new image where the input image has been scaled and centered.\n",
    "        \"\"\"\n",
    "        dst = np.zeros(dst_shape, dtype=float)\n",
    "        h, w = img.shape\n",
    "        margin = 2\n",
    "        # Scale the image to fit in the destination shape\n",
    "        scale_factor = (dst_shape[0] - 2 * margin) / h if h > w else (dst_shape[1] - 2 * margin) / w\n",
    "        resized = cv2.resize(img, (int(scale_factor * w), int(scale_factor * h)))\n",
    "        # Convert from white background to black background\n",
    "        resized = 255 - resized.astype(float)\n",
    "        # Paste in the output image\n",
    "        x_margin = (dst_shape[1] - resized.shape[1]) // 2\n",
    "        y_margin = (dst_shape[0] - resized.shape[0]) // 2\n",
    "        dst[y_margin:y_margin + resized.shape[0], x_margin:x_margin + resized.shape[1]] = resized\n",
    "        return dst\n",
    "\n",
    "    @staticmethod\n",
    "    def detect_chars(bin_img: np.ndarray, predict_function: Callable):\n",
    "        \"\"\"\n",
    "        Detects chars in the input image.\n",
    "        :param bin_img: A binary image(black and white image with white background)\n",
    "        where the letters are clearly visible and there is no noise!\n",
    "        :param predict_function: A function to date a standardize char image and predict a letter from it.\n",
    "        :return: A numpy array with the char boxes (format [x, y, width , height])\n",
    "        and other numpy array with chars of each box.\n",
    "        \"\"\"\n",
    "        # Reduce the letters thickness to make easier the segmentation\n",
    "        bin_img = cv2.dilate(bin_img, np.ones((3, 3), np.uint8))\n",
    "\n",
    "        # Find the contours of the letters. Chains of pixels around them\n",
    "        _, contours, hierarchy = cv2.findContours(bin_img, cv2.RETR_TREE, cv2.CHAIN_APPROX_SIMPLE)\n",
    "        dbg_img = cv2.cvtColor(bin_img, cv2.COLOR_GRAY2BGR)\n",
    "        dbg_img = cv2.drawContours(dbg_img, contours, -1, (0, 0, 255), 1)\n",
    "\n",
    "        # Get the most frequently parent as the one of the letters\n",
    "        poss_hierarchy = np.squeeze(hierarchy)[:, 3][np.squeeze(hierarchy)[:, 3] >= 0]\n",
    "        most_freq_parent = np.argmax(np.bincount(poss_hierarchy))\n",
    "        # Discard internal contours\n",
    "        contours = np.array(contours)[np.squeeze(hierarchy)[:, 3] == most_freq_parent]\n",
    "        # Discard small contours that use to be commas, points, accents etc.\n",
    "        contours = contours[np.array(list(map(cv2.contourArea, contours))) > 120]\n",
    "        # Draw the contours in the debug image\n",
    "        dbg_img = cv2.drawContours(dbg_img, contours, -1, (0, 255, 0), 1)\n",
    "\n",
    "        # Obtain the bounding boxes that surround each contour(letter)\n",
    "        char_boxes = list(map(cv2.boundingRect, contours))\n",
    "        if len(char_boxes) == 0:\n",
    "            raise ValueError(\"Cannot detect any character!\")\n",
    "\n",
    "        CHAR_ASPECT_RATIO = 0.66  # Width / height\n",
    "        for box in char_boxes:\n",
    "            n_splits = round((box[2] / box[3]) / CHAR_ASPECT_RATIO)\n",
    "            if n_splits > 2:\n",
    "                # We have detected a box that clearly contains two chars\n",
    "                char_boxes.remove(box)\n",
    "                for i in range(n_splits):\n",
    "                    char_boxes.append([int(box[0] + (box[2] / n_splits) * i), box[1], int(box[2] / n_splits), box[3]])\n",
    "\n",
    "        detected_chars = []\n",
    "        for box in char_boxes:\n",
    "            # Crop the char from the full image, standardize the image size and predict its char\n",
    "            cropped_image = bin_img[box[1]:box[1] + box[3], box[0]:box[0] + box[2]]\n",
    "            cropped_image = TextRecognizer.standardize_char_size(cropped_image)\n",
    "            # upm_imshow(\"Letter\", cropped_image)\n",
    "            # cv2.waitKey()\n",
    "            pred_char = predict_function(cropped_image)\n",
    "            detected_chars.append(pred_char)\n",
    "\n",
    "            # Draw the result\n",
    "            upm_rectangle(dbg_img, box, (255, 0, 255), 1)\n",
    "            cv2.putText(dbg_img, pred_char, (box[0], box[1] - 4), 0, 0.7, (255, 0, 255), 2)\n",
    "\n",
    "        # Debug imshows\n",
    "        cv2.circle(dbg_img, (30, 40), 25, (0, 0, 255), -1)\n",
    "        cv2.putText(dbg_img, \"Discarded Contours\", (70, 65), cv2.FONT_HERSHEY_PLAIN, 3, (0, 0, 255), 4)\n",
    "        cv2.circle(dbg_img, (30, 100), 25, (0, 255, 0), -1)\n",
    "        cv2.putText(dbg_img, \"Contours considered Letters\", (70, 125), cv2.FONT_HERSHEY_PLAIN, 3, (0, 255, 0), 4)\n",
    "        upm_imshow(\"Detected Chars\", dbg_img)\n",
    "\n",
    "        # Join all the characters in a str\n",
    "        return np.array(char_boxes), np.array(detected_chars)\n",
    "\n",
    "    @staticmethod\n",
    "    def detect_words(bin_img: np.ndarray, char_boxes: np.ndarray, detected_chars: np.ndarray):\n",
    "        \"\"\"\n",
    "        Detects words in the input image given a set of pre-recognized chars.\n",
    "        :param bin_img: A binary image(black and white image with white background)\n",
    "        where the words are clearly visible and there is no noise!\n",
    "        :param char_boxes: A numpy array containing at each row the information of a\n",
    "        char box in format [x, y, width, height].\n",
    "        :param detected_chars: A numpy array with the char of each box.\n",
    "        :return:  A numpy array with the boxes around each word\n",
    "        and other numpy array with the text of each word.\n",
    "        \"\"\"\n",
    "        assert len(char_boxes > 0) and len(detected_chars) == len(char_boxes)\n",
    "\n",
    "        # Take a color copy of the input image for debug purposes\n",
    "        dbg_img = cv2.cvtColor(bin_img, cv2.COLOR_GRAY2BGR)\n",
    "\n",
    "        erode_kernel = np.ones((3, 17), np.uint8)\n",
    "        bin_img = cv2.erode(bin_img, erode_kernel)\n",
    "        # upm_imshow(\"Words dilated Image\", bin_img)\n",
    "\n",
    "        # Find the contours of the letters. Chains of pixels around them\n",
    "        _, contours, hierarchy = cv2.findContours(bin_img, cv2.RETR_TREE, cv2.CHAIN_APPROX_SIMPLE)\n",
    "\n",
    "        # Discard internal contours\n",
    "        # Get the most frequently parent as the one of the words\n",
    "        poss_hierarchy = np.squeeze(hierarchy)[:, 3][np.squeeze(hierarchy)[:, 3] >= 0]\n",
    "        most_freq_parent = np.argmax(np.bincount(poss_hierarchy))\n",
    "        contours = np.array(contours)[np.squeeze(hierarchy)[:, 3] == most_freq_parent]\n",
    "        word_boxes = list(map(cv2.boundingRect, contours))\n",
    "\n",
    "        if len(word_boxes) == 0:\n",
    "            raise ValueError(\"Cannot detect any word!\")\n",
    "\n",
    "        detected_words = []\n",
    "        # Convert the char boxes to a numpy array\n",
    "        char_boxes = np.squeeze(np.array([char_boxes]))\n",
    "        for box in word_boxes:\n",
    "            inside = np.logical_and(np.logical_and(char_boxes[:, 0] >= box[0],\n",
    "                                                   char_boxes[:, 1] >= box[1]),\n",
    "                                    np.logical_and(char_boxes[:, 0] + char_boxes[:, 2] <= box[0] + box[2],\n",
    "                                                   char_boxes[:, 1] + char_boxes[:, 3] <= box[1] + box[3]))\n",
    "\n",
    "            # Take the order of the boxes by its x-coordinate\n",
    "            chars_order = np.argsort(char_boxes[inside, 0])\n",
    "            # Sort the chars by the ordered indices\n",
    "            word = ''.join(detected_chars[inside][chars_order])\n",
    "            detected_words.append(word)\n",
    "\n",
    "            # Draw the result\n",
    "            upm_rectangle(dbg_img, box, (255, 0, 0), 2)\n",
    "            cv2.putText(dbg_img, word, (box[0], box[1] - 4), 0, 1.2, (255, 0, 0), 3)\n",
    "\n",
    "        upm_imshow(\"Detected Words\", dbg_img)\n",
    "        return np.array(word_boxes), np.array(detected_words)\n",
    "\n",
    "    @staticmethod\n",
    "    def detect_lines(bin_img: np.ndarray, word_boxes: np.ndarray, detected_words: np.ndarray):\n",
    "        \"\"\"\n",
    "        Detects lines in the input image given a set of pre-recognized words.\n",
    "        :param bin_img: A binary image(black and white image with white background).\n",
    "        :param word_boxes: A numpy array with the boxes around each word. Format [x, y, width, height]\n",
    "        :param detected_words: Numpy array with the text of each word.\n",
    "        :return: A list with each text line detected in the document. A text line is\n",
    "         represented by a dictionary with the following entries:\n",
    "         - line_box: A box around the words in the text line. Format: [x, y, width, height]\n",
    "         - word_boxes: A numpy array with the word boxes inside the text line.\n",
    "         - words: A numpy array with the words in the line.\n",
    "        \"\"\"\n",
    "        assert len(word_boxes > 0) and len(detected_words) == len(word_boxes)\n",
    "\n",
    "        # Sort the words by its X coordinate\n",
    "        left_order_idx = np.argsort(word_boxes[:, 0])\n",
    "        boxes_to_take = word_boxes[left_order_idx].copy()\n",
    "        words_to_take = detected_words[left_order_idx].copy()\n",
    "\n",
    "        dbg_img = cv2.cvtColor(bin_img, cv2.COLOR_GRAY2BGR)\n",
    "        lines = []\n",
    "        # For each line in the document\n",
    "        while len(boxes_to_take) > 0:\n",
    "            initial_center = boxes_to_take[0, :2] + boxes_to_take[0, 2:] / 2\n",
    "\n",
    "            # Select the boxes at the same height that the initial_box\n",
    "            aligned = np.logical_and(boxes_to_take[:, 1] <= initial_center[1],\n",
    "                                     boxes_to_take[:, 1] + boxes_to_take[:, 3] >= initial_center[1])\n",
    "            aligned = np.argwhere(aligned).flatten()\n",
    "\n",
    "            # Sort selected words from left to right\n",
    "            selected_indices = np.argsort(boxes_to_take[aligned, 0].flatten())\n",
    "            selected_boxes = boxes_to_take[aligned][selected_indices]\n",
    "            selected_words = words_to_take[aligned][selected_indices]\n",
    "            # Create line bix in format: [x, y, width, height]\n",
    "            line_box = [selected_boxes[:, 0].min(),\n",
    "                        selected_boxes[:, 1].min(),\n",
    "                        np.max(selected_boxes[:, 0] + selected_boxes[:, 2]) - selected_boxes[:, 0].min(),\n",
    "                        np.max(selected_boxes[:, 1] + selected_boxes[:, 3]) - selected_boxes[:, 1].min()]\n",
    "\n",
    "            if line_box[2] * line_box[3] > 1500:\n",
    "                # Append the line to the list if it is big\n",
    "                lines.append({'line_box': line_box, 'word_boxes': selected_boxes, 'words': selected_words})\n",
    "\n",
    "                # Draw the result\n",
    "                upm_rectangle(dbg_img, line_box, (255, 0, 255), 3)\n",
    "                line_text = functools.reduce(lambda a, b: a + ' ' + b, selected_words)\n",
    "                cv2.putText(dbg_img, line_text, (line_box[0], line_box[1] - 6), 0, 1.2, (255, 0, 255), 3)\n",
    "\n",
    "            # Delete selected element\n",
    "            mask = np.ones(len(boxes_to_take), np.bool)\n",
    "            mask[aligned] = 0\n",
    "            boxes_to_take = boxes_to_take[mask]\n",
    "            words_to_take = words_to_take[mask]\n",
    "\n",
    "        upm_imshow(\"Detected Lines\", dbg_img)\n",
    "        # Sort the lines by its Y coordinates\n",
    "        lines.sort(key=lambda l: l['line_box'][1])\n",
    "        return lines\n",
    "\n",
    "    def detect_image_text(self, image_path: str):\n",
    "        \"\"\"\n",
    "        Detects text in an image of a scanned sheet paper. Text should be written in\n",
    "        :param image_path: The path where the image is stored on disk.\n",
    "        :return: The detected text lines and the full text.\n",
    "        \"\"\"\n",
    "        # Read the input image\n",
    "        img = cv2.imread(image_path, cv2.IMREAD_GRAYSCALE)\n",
    "        if img is None:\n",
    "            raise FileNotFoundError(\"Cannot find file \\\"{}\\\"\".format(image_path))\n",
    "        assert img.shape[0] > img.shape[1], \"Error: The image should be a portrait paper.\"\n",
    "\n",
    "        # Resize image to a fixed processing size\n",
    "        IMG_WIDTH = 2500.0  # pixels\n",
    "        scale_factor = IMG_WIDTH / img.shape[1]\n",
    "        img = cv2.resize(img, (int(scale_factor * img.shape[1]), int(scale_factor * img.shape[0])))\n",
    "\n",
    "        # Blur image to remove some noise\n",
    "        blur = cv2.GaussianBlur(img, (5, 3), 1)\n",
    "        # upm_imshow(\"Blurred Image\", blur)\n",
    "\n",
    "        # Binarize image using the smart Otsu binarization method\n",
    "        bin_img = cv2.threshold(blur, 0, 255, cv2.THRESH_BINARY + cv2.THRESH_OTSU)[1]\n",
    "        # upm_imshow(\"Binary Image\", bin_img)\n",
    "\n",
    "        # Detect individual chars\n",
    "        char_boxes, detected_chars = self.detect_chars(bin_img, self.predict_char)\n",
    "        # Detect words based on the detected chars\n",
    "        word_boxes, detected_words = self.detect_words(bin_img, char_boxes, detected_chars)\n",
    "        # Detect text lines based on the detected words\n",
    "        lines = self.detect_lines(bin_img, word_boxes, detected_words)\n",
    "\n",
    "        # convert from the lines dictionary format to a string with all the text\n",
    "        text = ''\n",
    "        line_words = []\n",
    "        for l in lines:\n",
    "            line_words.append(l['words'])\n",
    "            text += functools.reduce(lambda a, b: a + ' ' + b, l['words']) + '\\n'\n",
    "\n",
    "        return line_words, text\n"
   ]
  },
  {
   "cell_type": "markdown",
   "metadata": {
    "colab_type": "text",
    "id": "vdYogJJ3y5A_"
   },
   "source": [
    "## Entrenamiento del reconocedor de caracteres\n",
    "\n",
    "Dado que no siempre existe una base de datos que cumpla todos nuestros requisitos, en esta prááctica os proporcionamos el cóódigo para que generééis vuestra propia base de datos de caracteres. La aproximación que os proponemos es la más inocente de todas: una base de datos sintéética.\n",
    "\n",
    "En este código se genera una base de datos donde cada ejemplo es la imagen de un caracter. Las imágenes se generan empleando la librería de python **PIL** en el méétdo **generate_ttf_images**. Para dotar de un poco de realismo a la base de datos se añaden distintos tipos de ruido con la función **add_noise_to_img**. Por úúltimo las imágenes se binarizan y se escalan a una imagen de 28 x 28, empleando el mismo método que se emplea en la clase TextRecognizer."
   ]
  },
  {
   "cell_type": "code",
   "execution_count": 5,
   "metadata": {
    "colab": {},
    "colab_type": "code",
    "id": "LpJJpnzVs8qq"
   },
   "outputs": [],
   "source": [
    "# ##############################################################################\n",
    "# ########################### Dataset Generation ###############################\n",
    "# ##############################################################################\n",
    "\n",
    "def add_noise_to_img(img, rot_noise_level=3, scale_noise_level=0.06, gauss_noise_level=20, blur_noise_level=6,\n",
    "                     salt_level=1, dilate_level=11):\n",
    "\n",
    "    img = cv2.dilate(img, np.ones((dilate_level, dilate_level), np.uint8))\n",
    "\n",
    "    # salt and pepper\n",
    "    for _ in range(int(img.shape[0] * salt_level)):\n",
    "        img[np.random.randint(0, img.shape[0]), np.random.randint(0, img.shape[1])] = random.randint(0, 255)\n",
    "\n",
    "    blur_level = random.randint(0, blur_noise_level) * 2 + 1\n",
    "    img = cv2.GaussianBlur(img, (blur_level, blur_level), 1)\n",
    "    rot_noise = 2 * rot_noise_level * np.random.normal() - rot_noise_level\n",
    "    scale_noise = 1 + 2 * scale_noise_level * np.random.normal() - scale_noise_level\n",
    "    A = cv2.getRotationMatrix2D((img.shape[1] / 2, img.shape[0] / 2), rot_noise, scale_noise)\n",
    "    noisy = cv2.warpAffine(img, A, (img.shape[1], img.shape[0]))\n",
    "\n",
    "    pixel_noise = np.random.normal(size=noisy.shape) * gauss_noise_level\n",
    "    noisy = np.clip(noisy.astype(float) + pixel_noise, 0, 255).astype(np.uint8)\n",
    "    # upm_imshow(\"After\", noisy)\n",
    "    # cv2.waitKey()\n",
    "\n",
    "    return noisy\n",
    "\n",
    "\n",
    "def generate_ttf_images(ttf_filename, n_samples, chars_to_gen):\n",
    "    from PIL import ImageDraw, Image, ImageFont\n",
    "\n",
    "    font = ImageFont.truetype(ttf_filename, 220)\n",
    "\n",
    "    X = []\n",
    "    labels = []\n",
    "    for i in range(len(chars_to_gen)):\n",
    "        for _ in range(n_samples):\n",
    "            c = chars_to_gen[i]\n",
    "            gen_shape = (200, 200)\n",
    "            image = Image.new('RGB', gen_shape)\n",
    "            draw = ImageDraw.Draw(image)\n",
    "\n",
    "            draw.text((25, 20), c, font=font)\n",
    "            img = cv2.cvtColor(np.array(image), cv2.COLOR_RGB2GRAY)\n",
    "\n",
    "            # Add noise\n",
    "            img = add_noise_to_img(img)\n",
    "\n",
    "            img = cv2.threshold(img, 0, 255, cv2.THRESH_BINARY + cv2.THRESH_OTSU)[1]\n",
    "            _, contours, hierarchy = cv2.findContours(img, cv2.RETR_TREE, cv2.CHAIN_APPROX_SIMPLE)\n",
    "            contours = np.array(contours)\n",
    "            contours = contours[np.array(list(map(cv2.contourArea, contours))) > 20]\n",
    "            char_box = cv2.boundingRect(contours[0])\n",
    "            char_crop = img[char_box[1]:char_box[1] + char_box[3], char_box[0]:char_box[0] + char_box[2]]\n",
    "            img = TextRecognizer.standardize_char_size(255 - char_crop)\n",
    "            X.append(img)\n",
    "            labels.append(i)\n",
    "            # upm_imshow(\"Img\", img)\n",
    "            # cv2.waitKey()\n",
    "\n",
    "    return np.array(X), np.array(labels)\n"
   ]
  },
  {
   "cell_type": "code",
   "execution_count": 13,
   "metadata": {
    "colab": {
     "base_uri": "https://localhost:8080/",
     "height": 121
    },
    "colab_type": "code",
    "id": "XdhMGUrgs8qy",
    "outputId": "e7cd1a2c-f8e1-4b98-9438-9094fe20b198",
    "scrolled": true
   },
   "outputs": [
    {
     "name": "stdout",
     "output_type": "stream",
     "text": [
      "/home/victor/Descargas/asignaturas/reconocimiento de formas/reconocimiento-de-formas/practicas/Reconocimiento de texto/resources\n",
      "################################################################################\n",
      "########################## Text Recognition Example ############################\n",
      "################################################################################\n",
      "--> Generating training dataset\n"
     ]
    },
    {
     "ename": "ValueError",
     "evalue": "not enough values to unpack (expected 3, got 2)",
     "output_type": "error",
     "traceback": [
      "\u001b[0;31m------------------------------------------\u001b[0m",
      "\u001b[0;31mValueError\u001b[0mTraceback (most recent call last)",
      "\u001b[0;32m<ipython-input-13-d96a35d4d084>\u001b[0m in \u001b[0;36m<module>\u001b[0;34m()\u001b[0m\n\u001b[1;32m     23\u001b[0m                    ])\n\u001b[1;32m     24\u001b[0m \u001b[0mfont_filename\u001b[0m \u001b[0;34m=\u001b[0m \u001b[0mos\u001b[0m\u001b[0;34m.\u001b[0m\u001b[0mpath\u001b[0m\u001b[0;34m.\u001b[0m\u001b[0mjoin\u001b[0m\u001b[0;34m(\u001b[0m\u001b[0mresources_dir\u001b[0m\u001b[0;34m,\u001b[0m \u001b[0;34m\"AndaleMono.ttf\"\u001b[0m\u001b[0;34m)\u001b[0m\u001b[0;34m\u001b[0m\u001b[0;34m\u001b[0m\u001b[0m\n\u001b[0;32m---> 25\u001b[0;31m \u001b[0mX_train\u001b[0m\u001b[0;34m,\u001b[0m \u001b[0my_train\u001b[0m \u001b[0;34m=\u001b[0m \u001b[0mgenerate_ttf_images\u001b[0m\u001b[0;34m(\u001b[0m\u001b[0mfont_filename\u001b[0m\u001b[0;34m,\u001b[0m \u001b[0;36m50\u001b[0m\u001b[0;34m,\u001b[0m \u001b[0mlabels\u001b[0m\u001b[0;34m)\u001b[0m\u001b[0;34m\u001b[0m\u001b[0;34m\u001b[0m\u001b[0m\n\u001b[0m\u001b[1;32m     26\u001b[0m \u001b[0mX_train\u001b[0m \u001b[0;34m=\u001b[0m \u001b[0mX_train\u001b[0m\u001b[0;34m.\u001b[0m\u001b[0mreshape\u001b[0m\u001b[0;34m(\u001b[0m\u001b[0mlen\u001b[0m\u001b[0;34m(\u001b[0m\u001b[0mX_train\u001b[0m\u001b[0;34m)\u001b[0m\u001b[0;34m,\u001b[0m \u001b[0;34m-\u001b[0m\u001b[0;36m1\u001b[0m\u001b[0;34m)\u001b[0m\u001b[0;34m.\u001b[0m\u001b[0mastype\u001b[0m\u001b[0;34m(\u001b[0m\u001b[0mfloat\u001b[0m\u001b[0;34m)\u001b[0m\u001b[0;34m\u001b[0m\u001b[0;34m\u001b[0m\u001b[0m\n\u001b[1;32m     27\u001b[0m \u001b[0;34m\u001b[0m\u001b[0m\n",
      "\u001b[0;32m<ipython-input-5-4a4408ec95bf>\u001b[0m in \u001b[0;36mgenerate_ttf_images\u001b[0;34m(ttf_filename, n_samples, chars_to_gen)\u001b[0m\n\u001b[1;32m     48\u001b[0m \u001b[0;34m\u001b[0m\u001b[0m\n\u001b[1;32m     49\u001b[0m             \u001b[0mimg\u001b[0m \u001b[0;34m=\u001b[0m \u001b[0mcv2\u001b[0m\u001b[0;34m.\u001b[0m\u001b[0mthreshold\u001b[0m\u001b[0;34m(\u001b[0m\u001b[0mimg\u001b[0m\u001b[0;34m,\u001b[0m \u001b[0;36m0\u001b[0m\u001b[0;34m,\u001b[0m \u001b[0;36m255\u001b[0m\u001b[0;34m,\u001b[0m \u001b[0mcv2\u001b[0m\u001b[0;34m.\u001b[0m\u001b[0mTHRESH_BINARY\u001b[0m \u001b[0;34m+\u001b[0m \u001b[0mcv2\u001b[0m\u001b[0;34m.\u001b[0m\u001b[0mTHRESH_OTSU\u001b[0m\u001b[0;34m)\u001b[0m\u001b[0;34m[\u001b[0m\u001b[0;36m1\u001b[0m\u001b[0;34m]\u001b[0m\u001b[0;34m\u001b[0m\u001b[0;34m\u001b[0m\u001b[0m\n\u001b[0;32m---> 50\u001b[0;31m             \u001b[0m_\u001b[0m\u001b[0;34m,\u001b[0m \u001b[0mcontours\u001b[0m\u001b[0;34m,\u001b[0m \u001b[0mhierarchy\u001b[0m \u001b[0;34m=\u001b[0m \u001b[0mcv2\u001b[0m\u001b[0;34m.\u001b[0m\u001b[0mfindContours\u001b[0m\u001b[0;34m(\u001b[0m\u001b[0mimg\u001b[0m\u001b[0;34m,\u001b[0m \u001b[0mcv2\u001b[0m\u001b[0;34m.\u001b[0m\u001b[0mRETR_TREE\u001b[0m\u001b[0;34m,\u001b[0m \u001b[0mcv2\u001b[0m\u001b[0;34m.\u001b[0m\u001b[0mCHAIN_APPROX_SIMPLE\u001b[0m\u001b[0;34m)\u001b[0m\u001b[0;34m\u001b[0m\u001b[0;34m\u001b[0m\u001b[0m\n\u001b[0m\u001b[1;32m     51\u001b[0m             \u001b[0mcontours\u001b[0m \u001b[0;34m=\u001b[0m \u001b[0mnp\u001b[0m\u001b[0;34m.\u001b[0m\u001b[0marray\u001b[0m\u001b[0;34m(\u001b[0m\u001b[0mcontours\u001b[0m\u001b[0;34m)\u001b[0m\u001b[0;34m\u001b[0m\u001b[0;34m\u001b[0m\u001b[0m\n\u001b[1;32m     52\u001b[0m             \u001b[0mcontours\u001b[0m \u001b[0;34m=\u001b[0m \u001b[0mcontours\u001b[0m\u001b[0;34m[\u001b[0m\u001b[0mnp\u001b[0m\u001b[0;34m.\u001b[0m\u001b[0marray\u001b[0m\u001b[0;34m(\u001b[0m\u001b[0mlist\u001b[0m\u001b[0;34m(\u001b[0m\u001b[0mmap\u001b[0m\u001b[0;34m(\u001b[0m\u001b[0mcv2\u001b[0m\u001b[0;34m.\u001b[0m\u001b[0mcontourArea\u001b[0m\u001b[0;34m,\u001b[0m \u001b[0mcontours\u001b[0m\u001b[0;34m)\u001b[0m\u001b[0;34m)\u001b[0m\u001b[0;34m)\u001b[0m \u001b[0;34m>\u001b[0m \u001b[0;36m20\u001b[0m\u001b[0;34m]\u001b[0m\u001b[0;34m\u001b[0m\u001b[0;34m\u001b[0m\u001b[0m\n",
      "\u001b[0;31mValueError\u001b[0m: not enough values to unpack (expected 3, got 2)"
     ]
    }
   ],
   "source": [
    "from sklearn.feature_selection import VarianceThreshold\n",
    "from sklearn.pipeline import Pipeline\n",
    "# Loading Isolet indices from Drive\n",
    "#from google.colab import drive\n",
    "from sklearn.datasets import load_iris\n",
    "\n",
    "import os\n",
    "current_path = os.getcwd()\n",
    "\n",
    "#drive.mount('/content/gdrive')\n",
    "#resources_dir = '/content/gdrive/My Drive/Colab Notebooks/RF19/Practica6/resources'\n",
    "resources_dir = current_path + '/resources'\n",
    "print(resources_dir)\n",
    "\n",
    "\n",
    "print(\"################################################################################\")\n",
    "print(\"########################## Text Recognition Example ############################\")\n",
    "print(\"################################################################################\")\n",
    "\n",
    "print(\"--> Generating training dataset\")\n",
    "labels = np.array(['0', '1', '2', '3', '4', '5', '6', '7', '8', '9', 'A', 'B', 'C', 'D', 'E', 'F', 'G', 'H',\n",
    "                   'I', 'J', 'K', 'L', 'M', 'N', 'O', 'P', 'Q', 'R', 'S', 'T', 'U', 'V', 'W', 'X', 'Y', 'Z',\n",
    "                   ])\n",
    "font_filename = os.path.join(resources_dir, \"AndaleMono.ttf\")\n",
    "X_train, y_train = generate_ttf_images(font_filename, 50, labels)\n",
    "X_train = X_train.reshape(len(X_train), -1).astype(float)\n",
    "\n",
    "print(\"--> Generating test dataset\")\n",
    "X_test, y_test = generate_ttf_images(font_filename, 10, labels)\n",
    "X_test = X_test.reshape(len(X_test), -1).astype(float)"
   ]
  },
  {
   "cell_type": "code",
   "execution_count": 8,
   "metadata": {
    "colab": {
     "base_uri": "https://localhost:8080/",
     "height": 597
    },
    "colab_type": "code",
    "id": "gdSrIavfalEF",
    "outputId": "af28c7f3-5265-497b-ada4-1cba78b78b91"
   },
   "outputs": [
    {
     "ename": "NameError",
     "evalue": "name 'X_train' is not defined",
     "output_type": "error",
     "traceback": [
      "\u001b[0;31m------------------------------------------\u001b[0m",
      "\u001b[0;31mNameError\u001b[0mTraceback (most recent call last)",
      "\u001b[0;32m<ipython-input-8-191d519ac707>\u001b[0m in \u001b[0;36m<module>\u001b[0;34m()\u001b[0m\n\u001b[1;32m      5\u001b[0m \u001b[0;32mfor\u001b[0m \u001b[0mi\u001b[0m \u001b[0;32min\u001b[0m \u001b[0mrange\u001b[0m\u001b[0;34m(\u001b[0m\u001b[0mlen\u001b[0m\u001b[0;34m(\u001b[0m\u001b[0maxs\u001b[0m\u001b[0;34m)\u001b[0m\u001b[0;34m)\u001b[0m\u001b[0;34m:\u001b[0m\u001b[0;34m\u001b[0m\u001b[0;34m\u001b[0m\u001b[0m\n\u001b[1;32m      6\u001b[0m     \u001b[0;32mfor\u001b[0m \u001b[0mj\u001b[0m \u001b[0;32min\u001b[0m \u001b[0mrange\u001b[0m\u001b[0;34m(\u001b[0m\u001b[0mlen\u001b[0m\u001b[0;34m(\u001b[0m\u001b[0maxs\u001b[0m\u001b[0;34m[\u001b[0m\u001b[0mi\u001b[0m\u001b[0;34m]\u001b[0m\u001b[0;34m)\u001b[0m\u001b[0;34m)\u001b[0m\u001b[0;34m:\u001b[0m\u001b[0;34m\u001b[0m\u001b[0;34m\u001b[0m\u001b[0m\n\u001b[0;32m----> 7\u001b[0;31m       \u001b[0maxs\u001b[0m\u001b[0;34m[\u001b[0m\u001b[0mi\u001b[0m\u001b[0;34m,\u001b[0m \u001b[0mj\u001b[0m\u001b[0;34m]\u001b[0m\u001b[0;34m.\u001b[0m\u001b[0mimshow\u001b[0m\u001b[0;34m(\u001b[0m\u001b[0mX_train\u001b[0m\u001b[0;34m[\u001b[0m\u001b[0;36m50\u001b[0m \u001b[0;34m*\u001b[0m \u001b[0mi\u001b[0m \u001b[0;34m+\u001b[0m \u001b[0mj\u001b[0m\u001b[0;34m]\u001b[0m\u001b[0;34m.\u001b[0m\u001b[0mreshape\u001b[0m\u001b[0;34m(\u001b[0m\u001b[0;34m(\u001b[0m\u001b[0;36m28\u001b[0m\u001b[0;34m,\u001b[0m \u001b[0;36m28\u001b[0m\u001b[0;34m)\u001b[0m\u001b[0;34m)\u001b[0m\u001b[0;34m,\u001b[0m \u001b[0mcmap\u001b[0m\u001b[0;34m=\u001b[0m\u001b[0;34m'gray'\u001b[0m\u001b[0;34m,\u001b[0m \u001b[0minterpolation\u001b[0m\u001b[0;34m=\u001b[0m\u001b[0;34m'nearest'\u001b[0m\u001b[0;34m)\u001b[0m\u001b[0;34m\u001b[0m\u001b[0;34m\u001b[0m\u001b[0m\n\u001b[0m",
      "\u001b[0;31mNameError\u001b[0m: name 'X_train' is not defined"
     ]
    },
    {
     "data": {
      "image/png": "[encoded data removed]",
      "text/plain": [
       "<Figure size 1440x576 with 40 Axes>"
      ]
     },
     "metadata": {
      "needs_background": "light"
     },
     "output_type": "display_data"
    }
   ],
   "source": [
    "import matplotlib.pyplot as plt\n",
    "\n",
    "\n",
    "fig, axs = plt.subplots(5, 8, figsize=(20, 8))\n",
    "for i in range(len(axs)):\n",
    "    for j in range(len(axs[i])):\n",
    "      axs[i, j].imshow(X_train[50 * i + j].reshape((28, 28)), cmap='gray', interpolation='nearest')\n"
   ]
  },
  {
   "cell_type": "markdown",
   "metadata": {
    "colab_type": "text",
    "id": "dABLbJ5vVzdb"
   },
   "source": [
    "## Entrenar nuestro clasificador de caracteres\n",
    "Es hora de entrenar y evaluar el clasificador de caracteres que luego seráá empleado por la clase TextRecognizer."
   ]
  },
  {
   "cell_type": "code",
   "execution_count": null,
   "metadata": {
    "colab": {
     "base_uri": "https://localhost:8080/",
     "height": 86
    },
    "colab_type": "code",
    "id": "-ZtAqFYa5UdJ",
    "outputId": "35e2b546-d7f5-4ff6-bb5f-5504c3fd0f0d"
   },
   "outputs": [],
   "source": [
    "from sklearn.neighbors import NearestCentroid\n",
    "\n",
    "# Learn to predict the indices\n",
    "print(\"--> Training classifier\")\n",
    "clf = NearestCentroid()  # TODO Usa aquí el clasificador que desees\n",
    "\n",
    "clf.fit(X_train, y_train)\n",
    "\n",
    "print(\"--> Evaluating classifier\")\n",
    "pred = clf.predict(X_train)\n",
    "accuracy = (y_train == pred).sum() / len(pred)\n",
    "print(\"----> Training accuracy: {:.2f}%\".format(100 * accuracy))\n",
    "\n",
    "pred = clf.predict(X_test)\n",
    "accuracy = (y_test == pred).sum() / len(pred)\n",
    "print(\"----> Test Accuracy: {:.2f}%\".format(100 * accuracy))"
   ]
  },
  {
   "cell_type": "markdown",
   "metadata": {
    "colab_type": "text",
    "id": "js9RR0Nxs8q3"
   },
   "source": [
    "## Detección y reconocimiento de texto con el clasificador de caracteres\n",
    "\n",
    "La clase TextRecognezer espera como parámetros un clasificador de caracteres y un mapping que transforme las salidas de enteros a letras.\n",
    "\n",
    "Para hacer el reconocimiento completo de texto podríamos emplear el método **detect_image_text**, pero vamos a ejecutar paso a paso cada una de sus instrucciones para vber cómo funciona este detector de caracteres:"
   ]
  },
  {
   "cell_type": "code",
   "execution_count": null,
   "metadata": {
    "colab": {
     "base_uri": "https://localhost:8080/",
     "height": 1000
    },
    "colab_type": "code",
    "id": "W5DMkhqUs8q6",
    "outputId": "0a7f4b71-5678-4b87-8e02-b65cd8e9c2dd",
    "scrolled": false
   },
   "outputs": [],
   "source": [
    "# Read the input image\n",
    "tr = TextRecognizer(clf, labels)\n",
    "image_path = os.path.join(resources_dir, 'EJEMPLO_PRACTICA6.JPG')\n",
    "\n",
    "# Read the input image\n",
    "img = cv2.imread(image_path, cv2.IMREAD_GRAYSCALE)\n",
    "if img is None:\n",
    "    raise FileNotFoundError(\"Cannot find file \\\"{}\\\"\".format(image_path))\n",
    "assert img.shape[0] > img.shape[1], \"Error: The image should be a portrait paper.\"\n",
    "\n",
    "# Resize image to a fixed processing size\n",
    "IMG_WIDTH = 2500.0  # pixels\n",
    "scale_factor = IMG_WIDTH / img.shape[1]\n",
    "img = cv2.resize(img, (int(scale_factor * img.shape[1]), int(scale_factor * img.shape[0])))\n",
    "\n",
    "# Blur image to remove some noise\n",
    "blur = cv2.GaussianBlur(img, (5, 3), 1)\n",
    "plt.imshow(blur, cmap='gray')"
   ]
  },
  {
   "cell_type": "markdown",
   "metadata": {
    "colab_type": "text",
    "id": "WUxjw5Exs8rr"
   },
   "source": [
    "## Binarización de la imagen de entrada\n",
    "Hasta el momento lo que hemos hecho ha sido:\n",
    "\n",
    "* Leer la imagen de entrada\n",
    "* Convertirla a escala de grises\n",
    "* Redimensionarla para que los caracteres tenga un tamaño considerable\n",
    "* Difuminarla un poco para eliminar ruido que pueda afectar a la detección.\n",
    "\n",
    "Para poder proceder a la detección de los caracteres tenemos que saber de forma inequívoca donde hay un caracter y donde no. Con este objetivo convertimos la image a una imagen binaria, donde los píxeles solo pueden tomar dos valores 0 y 255. Consideraremos que todos los píxeles con valor 255 son candidatos a estar en una letra."
   ]
  },
  {
   "cell_type": "code",
   "execution_count": 9,
   "metadata": {
    "colab": {
     "base_uri": "https://localhost:8080/",
     "height": 1000
    },
    "colab_type": "code",
    "id": "ESzSbp2As8rt",
    "outputId": "99b51cd3-28ba-44ed-b1f0-5d8b857c962b"
   },
   "outputs": [
    {
     "ename": "NameError",
     "evalue": "name 'blur' is not defined",
     "output_type": "error",
     "traceback": [
      "\u001b[0;31m------------------------------------------\u001b[0m",
      "\u001b[0;31mNameError\u001b[0mTraceback (most recent call last)",
      "\u001b[0;32m<ipython-input-9-88d23678b2b4>\u001b[0m in \u001b[0;36m<module>\u001b[0;34m()\u001b[0m\n\u001b[1;32m      1\u001b[0m \u001b[0;31m# Binarize image using the smart Otsu binarization method\u001b[0m\u001b[0;34m\u001b[0m\u001b[0;34m\u001b[0m\u001b[0;34m\u001b[0m\u001b[0m\n\u001b[0;32m----> 2\u001b[0;31m \u001b[0mbin_img\u001b[0m \u001b[0;34m=\u001b[0m \u001b[0mcv2\u001b[0m\u001b[0;34m.\u001b[0m\u001b[0mthreshold\u001b[0m\u001b[0;34m(\u001b[0m\u001b[0mblur\u001b[0m\u001b[0;34m,\u001b[0m \u001b[0;36m0\u001b[0m\u001b[0;34m,\u001b[0m \u001b[0;36m255\u001b[0m\u001b[0;34m,\u001b[0m \u001b[0mcv2\u001b[0m\u001b[0;34m.\u001b[0m\u001b[0mTHRESH_BINARY\u001b[0m \u001b[0;34m+\u001b[0m \u001b[0mcv2\u001b[0m\u001b[0;34m.\u001b[0m\u001b[0mTHRESH_OTSU\u001b[0m\u001b[0;34m)\u001b[0m\u001b[0;34m[\u001b[0m\u001b[0;36m1\u001b[0m\u001b[0;34m]\u001b[0m\u001b[0;34m\u001b[0m\u001b[0;34m\u001b[0m\u001b[0m\n\u001b[0m\u001b[1;32m      3\u001b[0m \u001b[0mplt\u001b[0m\u001b[0;34m.\u001b[0m\u001b[0mimshow\u001b[0m\u001b[0;34m(\u001b[0m\u001b[0mbin_img\u001b[0m\u001b[0;34m,\u001b[0m \u001b[0mcmap\u001b[0m\u001b[0;34m=\u001b[0m\u001b[0;34m'gray'\u001b[0m\u001b[0;34m)\u001b[0m\u001b[0;34m\u001b[0m\u001b[0;34m\u001b[0m\u001b[0m\n",
      "\u001b[0;31mNameError\u001b[0m: name 'blur' is not defined"
     ]
    }
   ],
   "source": [
    "# Binarize image using the smart Otsu binarization method\n",
    "bin_img = cv2.threshold(blur, 0, 255, cv2.THRESH_BINARY + cv2.THRESH_OTSU)[1]\n",
    "plt.imshow(bin_img, cmap='gray')"
   ]
  },
  {
   "cell_type": "code",
   "execution_count": 10,
   "metadata": {
    "colab": {
     "base_uri": "https://localhost:8080/",
     "height": 1000
    },
    "colab_type": "code",
    "id": "b1Et6Woas8ry",
    "outputId": "465cd1fa-4e43-4e00-bb35-49ffa42863d7",
    "scrolled": true
   },
   "outputs": [
    {
     "ename": "NameError",
     "evalue": "name 'tr' is not defined",
     "output_type": "error",
     "traceback": [
      "\u001b[0;31m------------------------------------------\u001b[0m",
      "\u001b[0;31mNameError\u001b[0mTraceback (most recent call last)",
      "\u001b[0;32m<ipython-input-10-9f56291379e4>\u001b[0m in \u001b[0;36m<module>\u001b[0;34m()\u001b[0m\n\u001b[1;32m      1\u001b[0m \u001b[0;31m# Detect individual chars\u001b[0m\u001b[0;34m\u001b[0m\u001b[0;34m\u001b[0m\u001b[0;34m\u001b[0m\u001b[0m\n\u001b[0;32m----> 2\u001b[0;31m \u001b[0mchar_boxes\u001b[0m\u001b[0;34m,\u001b[0m \u001b[0mdetected_chars\u001b[0m \u001b[0;34m=\u001b[0m \u001b[0mtr\u001b[0m\u001b[0;34m.\u001b[0m\u001b[0mdetect_chars\u001b[0m\u001b[0;34m(\u001b[0m\u001b[0mbin_img\u001b[0m\u001b[0;34m,\u001b[0m \u001b[0mtr\u001b[0m\u001b[0;34m.\u001b[0m\u001b[0mpredict_char\u001b[0m\u001b[0;34m)\u001b[0m\u001b[0;34m\u001b[0m\u001b[0;34m\u001b[0m\u001b[0m\n\u001b[0m",
      "\u001b[0;31mNameError\u001b[0m: name 'tr' is not defined"
     ]
    }
   ],
   "source": [
    "# Detect individual chars\n",
    "char_boxes, detected_chars = tr.detect_chars(bin_img, tr.predict_char)"
   ]
  },
  {
   "cell_type": "code",
   "execution_count": 11,
   "metadata": {
    "colab": {
     "base_uri": "https://localhost:8080/",
     "height": 1000
    },
    "colab_type": "code",
    "id": "zZ6RUa-Ss8r4",
    "outputId": "a75fb659-4065-40ff-8518-f7be4b63639d"
   },
   "outputs": [
    {
     "ename": "NameError",
     "evalue": "name 'tr' is not defined",
     "output_type": "error",
     "traceback": [
      "\u001b[0;31m------------------------------------------\u001b[0m",
      "\u001b[0;31mNameError\u001b[0mTraceback (most recent call last)",
      "\u001b[0;32m<ipython-input-11-f5be98887c68>\u001b[0m in \u001b[0;36m<module>\u001b[0;34m()\u001b[0m\n\u001b[1;32m      1\u001b[0m \u001b[0;31m# Detect words based on the detected chars\u001b[0m\u001b[0;34m\u001b[0m\u001b[0;34m\u001b[0m\u001b[0;34m\u001b[0m\u001b[0m\n\u001b[0;32m----> 2\u001b[0;31m \u001b[0mword_boxes\u001b[0m\u001b[0;34m,\u001b[0m \u001b[0mdetected_words\u001b[0m \u001b[0;34m=\u001b[0m \u001b[0mtr\u001b[0m\u001b[0;34m.\u001b[0m\u001b[0mdetect_words\u001b[0m\u001b[0;34m(\u001b[0m\u001b[0mbin_img\u001b[0m\u001b[0;34m,\u001b[0m \u001b[0mchar_boxes\u001b[0m\u001b[0;34m,\u001b[0m \u001b[0mdetected_chars\u001b[0m\u001b[0;34m)\u001b[0m\u001b[0;34m\u001b[0m\u001b[0;34m\u001b[0m\u001b[0m\n\u001b[0m",
      "\u001b[0;31mNameError\u001b[0m: name 'tr' is not defined"
     ]
    }
   ],
   "source": [
    "# Detect words based on the detected chars\n",
    "word_boxes, detected_words = tr.detect_words(bin_img, char_boxes, detected_chars)"
   ]
  },
  {
   "cell_type": "code",
   "execution_count": 12,
   "metadata": {
    "colab": {
     "base_uri": "https://localhost:8080/",
     "height": 1000
    },
    "colab_type": "code",
    "id": "IHwJ52V2s8r8",
    "outputId": "2c3939a0-4275-4deb-83f7-4fb08bd25f73"
   },
   "outputs": [
    {
     "ename": "NameError",
     "evalue": "name 'tr' is not defined",
     "output_type": "error",
     "traceback": [
      "\u001b[0;31m------------------------------------------\u001b[0m",
      "\u001b[0;31mNameError\u001b[0mTraceback (most recent call last)",
      "\u001b[0;32m<ipython-input-12-853d7cea80b1>\u001b[0m in \u001b[0;36m<module>\u001b[0;34m()\u001b[0m\n\u001b[1;32m      1\u001b[0m \u001b[0;31m# Detect text lines based on the detected words\u001b[0m\u001b[0;34m\u001b[0m\u001b[0;34m\u001b[0m\u001b[0;34m\u001b[0m\u001b[0m\n\u001b[0;32m----> 2\u001b[0;31m \u001b[0mlines\u001b[0m \u001b[0;34m=\u001b[0m \u001b[0mtr\u001b[0m\u001b[0;34m.\u001b[0m\u001b[0mdetect_lines\u001b[0m\u001b[0;34m(\u001b[0m\u001b[0mbin_img\u001b[0m\u001b[0;34m,\u001b[0m \u001b[0mword_boxes\u001b[0m\u001b[0;34m,\u001b[0m \u001b[0mdetected_words\u001b[0m\u001b[0;34m)\u001b[0m\u001b[0;34m\u001b[0m\u001b[0;34m\u001b[0m\u001b[0m\n\u001b[0m\u001b[1;32m      3\u001b[0m \u001b[0;34m\u001b[0m\u001b[0m\n\u001b[1;32m      4\u001b[0m \u001b[0;31m# convert from the lines dictionary format to a string with all the text\u001b[0m\u001b[0;34m\u001b[0m\u001b[0;34m\u001b[0m\u001b[0;34m\u001b[0m\u001b[0m\n\u001b[1;32m      5\u001b[0m \u001b[0mdetected_text\u001b[0m \u001b[0;34m=\u001b[0m \u001b[0;34m''\u001b[0m\u001b[0;34m\u001b[0m\u001b[0;34m\u001b[0m\u001b[0m\n",
      "\u001b[0;31mNameError\u001b[0m: name 'tr' is not defined"
     ]
    }
   ],
   "source": [
    "# Detect text lines based on the detected words\n",
    "lines = tr.detect_lines(bin_img, word_boxes, detected_words)\n",
    "\n",
    "# convert from the lines dictionary format to a string with all the text\n",
    "detected_text = ''\n",
    "line_words = []\n",
    "for l in lines:\n",
    "    line_words.append(l['words'])\n",
    "    detected_text += functools.reduce(lambda a, b: a + ' ' + b, l['words']) + '\\n'"
   ]
  },
  {
   "cell_type": "markdown",
   "metadata": {
    "colab_type": "text",
    "id": "8Zhn1b7W0gGB"
   },
   "source": [
    "## Evaluación empírica del resultado\n",
    "Para evaluar el resultado obtenido en el reconocimiento del texto te proporcionamos una funcióón que te indica el ratio de texto correctamente detectado. Esta funcióón te serviráá para poder comparar los resultados de distintos clasificadores, bases de datos o características que creas que pueden mejorar el rendimiento. "
   ]
  },
  {
   "cell_type": "code",
   "execution_count": null,
   "metadata": {
    "colab": {},
    "colab_type": "code",
    "id": "mgCZl6fMs8qu"
   },
   "outputs": [],
   "source": [
    "# ##############################################################################\n",
    "# ################################# Evaluation #################################\n",
    "# ##############################################################################\n",
    "\n",
    "def evaluate_text_detection(line_words):\n",
    "    \"\"\"\n",
    "    Evaluates the detection of the text in images.\n",
    "    :param line_words: A list of lists with the line words.\n",
    "    :return: A ratio of detected characters. 0 is the worse results, 1 means perfect detection.\n",
    "    \"\"\"\n",
    "    expected_lines = [\n",
    "        \"RECONOCIMIENTO DE FORMAS 2019/20\",\n",
    "        \"TRATAMIENTO DE UN PROBLEMA REAL DE RECONOCIMIENTO DE TEXTO\",\n",
    "        \"EL OBJETIVO DE ESTA ULTIMA PARTE DE LA PRACTICA ES ENFRENTARSE A UN PROBLEMA\",\n",
    "        \"REAL DE RECONOCIMIENTO DE FORMAS COMO ES LA LECTURA AUTOMATICA DE TEXTO\",\n",
    "        \"ESCANEADO EN ESTA PRACTICA SE PROPORCIONA UN METODO DE EVALUACION QUE PERMITE\",\n",
    "        \"CONOCER EL RATIO DE TEXTO CORRECTAMENTE DETECTADO SE DEBE TRATAR DE OBTENER LOS\",\n",
    "        \"MEJORES RESULTADOS\",\n",
    "        \"1 INTRODUCCION\",\n",
    "        \"EN ESTA PRACTICA SE DESARROLLARA UN CODIGO CAPAZ DE RECONOCER EL TEXTO DE ESTA\",\n",
    "        \"PRIMERA HOJA DEL ENUNCIADO COMO EN MUCHAS SITUACIONES DE LA VIDA REAL EL\",\n",
    "        \"ALUMNO DESCONOCERA LAS IMAGENES QUE SE EMPLEARAN PARA LA EVALUACION POR LO QUE\",\n",
    "        \"SE LE RECOMIENDA IMPRIMIR ESTA PRIMERA HOJA DEL ENUNCIADO Y LA FOTOGRAFIARLA\",\n",
    "        \"REPETIDAS VECES DE TAL MODO QUE PUEDA OBTENER SU PROPIO CONJUNTO DE VALIDACION\",\n",
    "        \"LO MAS COMPLETO POSIBLE\",\n",
    "        \"SE CREARA UNA COMPETICION EN EL AULA VITUAL DONDE EL ALUMNO DEBE PUBLICAR EL\",\n",
    "        \"RESULTADO DE PROCESAR LA IMAGEN EJEMPLO_PRACTICA6JPG QUE SE LE PROPORCIONA\",\n",
    "        \"LA POSICION EN ESTE CONCURSO SERA UNO DE LOS CRITERIOS DE CALIFICACION DE LA\",\n",
    "        \"PRACTICA\",\n",
    "        \"2 ALCANCE\",\n",
    "        \"EN EL FICHERO ESQUELETO6IPYNB QUE SE PUEDE ENCONTRAR EN EL AULA VIRTUAL SE\",\n",
    "        \"PROPORCIONA CODIGO PARA AYUDAR EN LAS DISTINTAS FASES DEL PROCESO DE\",\n",
    "        \"RECONOCIMIENTO ESTE CODIGO LEE UNA IMAGEN DE DISCO Y APLICA DIVERSOS\",\n",
    "        \"PROCEDIMIENTOS PARA LEER EL TEXTO CON AYUDA DE UN RECONOCEDOR DE CARACTERES LA\",\n",
    "        \"IMAGEN DE ENTRADA DEBE SER VERTICAL NITIDA Y CON UNA ILUMINACION HOMOGENEA\",\n",
    "        \"COMO EL EJEMPLO QUE SE PROPORCIONA EN EL FICHERO EJEMPLO_PRACTICA6JPG NO SE\",\n",
    "        \"ESPERA QUE LA PRACTICA PUEDA RECONOCER IMAGENES EN OTRAS CONDICIONES\",\n",
    "        \"3 TAREAS A REALIZAR\",\n",
    "        \"LA PRACTICA ESTA ABIERTA PARA QUE EL ALUMNO REALICE CUALQUIER MODIFICACION QUE\",\n",
    "        \"PUEDA MEJORAR EL RESULTADO DE LA DETECCION DEBE UTILIZAR LO APRENDIDO EN LA\",\n",
    "        \"ASIGNATURA PARA DIAGNOSTICAR EN CADA MOMENTO CUAL ES EL MOTIVO POR EL QUE EL\",\n",
    "        \"RECONOCIMIENTO NO ESTA FUNCIONANDO Y PROCEDER A SOLUCIONARLO SIN EMBARGO AQUI\",\n",
    "        \"PROPORCIONAMOS ALGUNAS IDEAS:\",\n",
    "        \"¿SE ESTA EMPLEANDO EL CLASIFICADOR MAS ADECUADO?\",\n",
    "        \"¿ESTAN BIEN AJUSTADOS SUS PARAMETROS?\",\n",
    "        \"¿ES EL CONJUNTO DE ENTRENAMIENTO REPRESENTATIVO DEL PROBLEMA AL QUE SE\",\n",
    "        \"ENFRENTA EL CLASIFICADOR EN UNA IMAGEN REAL?\",\n",
    "        \"¿ESTA EL PROBLEMA BALANCEADO? SI NO ES ASI ¿TIENE SENTIDO ENTRENAR EN UN\",\n",
    "        \"PROBLEMA DESBALANCEADO?\",\n",
    "        \"¿SON TODAS LAS CARACTERISTICAS NECESARIAS? ¿ES NECESARIO HACER UNA\",\n",
    "        \"SELECCION O UNA REDUCCION DE LA DIMENSIONALIDAD?\",\n",
    "        \"4 DOCUMENTACION A PRESENTAR\",\n",
    "    ]\n",
    "\n",
    "    def line_match_score(correct_line, detected_line):\n",
    "        correct_line_chars = ''.join(correct_line).replace(' ', '')\n",
    "        detected_line = ''.join(detected_line).replace(' ', '')\n",
    "        correct_chars, correct_count = np.unique(list(correct_line_chars), return_counts=True)\n",
    "        detected_chars, detected_count = np.unique(list(detected_line), return_counts=True)\n",
    "        errors = 0\n",
    "        for i in range(len(correct_chars)):\n",
    "            n_detected = detected_count[np.argwhere(detected_chars == correct_chars[i])]\n",
    "            errors += correct_count[i] if n_detected.size == 0 else abs(n_detected[0, 0] - correct_count[i])\n",
    "        return 1 - errors / np.sum(correct_count)\n",
    "\n",
    "    score_mat = np.zeros((len(expected_lines), len(line_words)))\n",
    "    for i in range(len(expected_lines)):\n",
    "        for j in range(len(line_words)):\n",
    "            score = line_match_score(expected_lines[i], line_words[j])\n",
    "            score_mat[i, j] = score\n",
    "\n",
    "    # Take for each correct line the score of the line that best fits\n",
    "    line_score = np.max(score_mat, axis=1)\n",
    "    # print(\"Detection score for each correct line: \", line_score)\n",
    "    # Assign to each line a weight proportional to its number of letters\n",
    "    line_weight = np.array([len(''.join(l).replace(' ', '')) for l in expected_lines])\n",
    "    line_weight = line_weight / line_weight.sum()\n",
    "    return (line_weight * line_score).sum()\n"
   ]
  },
  {
   "cell_type": "markdown",
   "metadata": {
    "colab_type": "text",
    "id": "QGGBa8-M1RES"
   },
   "source": [
    "Por último mostramos el texto detectado y el porcentaje de tecto correctamente reconocido:"
   ]
  },
  {
   "cell_type": "code",
   "execution_count": null,
   "metadata": {
    "colab": {
     "base_uri": "https://localhost:8080/",
     "height": 816
    },
    "colab_type": "code",
    "id": "OZLHB1X4vBy1",
    "outputId": "95e588d2-6cf5-4e62-cbdc-e40d49868a33"
   },
   "outputs": [],
   "source": [
    "print(\"--> Result:\")\n",
    "print(\"********************************************************************************\")\n",
    "print(detected_text)\n",
    "print(\"********************************************************************************\")\n",
    "print(\"Recognition percentage: {:.2f}%\".format(evaluate_text_detection(line_words) * 100))"
   ]
  },
  {
   "cell_type": "code",
   "execution_count": null,
   "metadata": {},
   "outputs": [],
   "source": []
  }
 ],
 "metadata": {
  "colab": {
   "collapsed_sections": [],
   "name": "Esqueleto6.ipynb",
   "provenance": []
  },
  "kernelspec": {
   "display_name": "Python 3",
   "language": "python",
   "name": "python3"
  },
  "language_info": {
   "codemirror_mode": {
    "name": "ipython",
    "version": 3
   },
   "file_extension": ".py",
   "mimetype": "text/x-python",
   "name": "python",
   "nbconvert_exporter": "python",
   "pygments_lexer": "ipython3",
   "version": "3.7.3"
  }
 },
 "nbformat": 4,
 "nbformat_minor": 1
}
