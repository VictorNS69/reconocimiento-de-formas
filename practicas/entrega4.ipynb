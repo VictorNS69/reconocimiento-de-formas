{
 "cells": [
  {
   "cell_type": "markdown",
   "metadata": {
    "colab_type": "text",
    "id": "AfaNEPeRXCe8"
   },
   "source": [
    "# Práctica 4 Reconocimiento de Formas: Clasificador Bayesiano Paramétrico\n",
    "\n",
    "* **Alumno 1**: Javier Barragán Haro\n",
    "* **Alumno 2**: Victor Nieves Sanchez\n"
   ]
  },
  {
   "cell_type": "code",
   "execution_count": 126,
   "metadata": {
    "colab": {},
    "colab_type": "code",
    "id": "FsWqPK6l2flD",
    "pycharm": {
     "is_executing": false
    }
   },
   "outputs": [],
   "source": [
    "\n",
    "import numpy as np\n",
    "from sklearn.covariance import ShrunkCovariance\n",
    "from sklearn import preprocessing\n",
    "from abc import abstractmethod\n",
    "import pandas as pd\n",
    "import numpy as np\n",
    "\n",
    "\n",
    "class Classifier:\n",
    "\n",
    "    @abstractmethod\n",
    "    def fit(self,X,y):\n",
    "        pass\n",
    "\n",
    "    @abstractmethod\n",
    "    def predict(self,X):\n",
    "        pass\n",
    "\n",
    "class ClassifBayesianoParametrico(Classifier):\n",
    "    def __init__(self, share_covs=False, shrinkage=0.0):\n",
    "        \"\"\"Constructor de la clase\n",
    "        share_covs: Indica si la matriz de covarianzas va a ser compartida entre las distintas clases.\n",
    "        shrinkage: Parámetro que determina la diagonalidad de la matriz de covarianzas. Ver sklearn.covariance.ShrunkCovariance\n",
    "        \"\"\"\n",
    "        assert 0 <= shrinkage <= 1\n",
    "        self.labels = None\n",
    "        self.ln_apriories = None\n",
    "        self.means = None\n",
    "        self.ln_determinants = None\n",
    "        self.inv_covs = None\n",
    "        self.share_covs = share_covs\n",
    "        self.shrinkage = shrinkage\n",
    "        self.scaler = None\n",
    "\n",
    "    def fit(self, X, y):\n",
    "        \"\"\"Entrena el clasificador\n",
    "        X: matriz numpy cada fila es un dato, cada columna una medida\n",
    "        y: vector de etiquetas, tantos elementos como filas en X\n",
    "        retorna objeto clasificador\"\"\"\n",
    "        assert X.ndim == 2 and X.shape[0] == len(y)\n",
    "        # Aseguramos que las etiquetas son numeros tal que: [0, 1, ..., N]\n",
    "        y = pd.factorize(y)[0]\n",
    "        self.labels = y\n",
    "        # Preprocesamos los datos de entrada\n",
    "        scaler = preprocessing.scale(X)       \n",
    "        # Contar cuantos ejemplos hay de cada etiqueta\n",
    "        unique, counts = np.unique(y, return_counts=True)\n",
    "        \n",
    "        self.ln_apriories = np.array([np.log((counts[i]/np.sum(counts))) for i in unique])\n",
    "        # Calcular para los ejemplos de cada clase, la media de cada una de sus características (centroide)\n",
    "        self.means = np.array([np.mean(X[y==i], axis=0) for i in unique])\n",
    "        \n",
    "        if self.share_covs:\n",
    "            # Restamos al dato de cada clase su centroide\n",
    "            X_mean0 = np.array([scaler[y==i] - self.means[i] for i in unique])\n",
    "            # Calcula la matriz de covarianzas empleando la clase ShrunkCovariance de sklearn\n",
    "            cov = np.array([ShrunkCovariance(shrinkage=self.shrinkage).fit(X_mean0[i]).covariance_ for i in unique ])\n",
    "            # La reproducimos tantas veces como número de clases\n",
    "            \"...\"\n",
    "        else:\n",
    "            # Calcula la matriz de covarianzas empleando la clase ShrunkCovariance de sklearn\n",
    "             cov = np.array([ShrunkCovariance(X,shrinkage=self.shrinkage).fit(X_mean0[i]).covariance_ for i in unique]) \n",
    "        # Para cada una de las clases, calcular el logaritmo neperiano de su matriz de covarianzas (puedes emplear compresión de listas o la función map)\n",
    "        self.ln_determinants = np.log(list(map(np.linalg.det, cov)))\n",
    "        # Para cada una de las clases, calcular la inversa de su matriz de covarianzas (puedes emplear compresión de listas o la función map)\n",
    "        self.inv_covs = np.array(list(map(np.linalg.pinv,cov)))\n",
    "        \n",
    "        return self\n",
    "\n",
    "    def predict(self, X):\n",
    "        \"\"\"Estima el grado de pertenencia de cada dato a todas las clases\n",
    "        X: matriz numpy cada fila es un dato, cada columna una medida del vector de caracteristicas.\n",
    "        Retorna una matriz, con tantas filas como datos y tantas columnas como clases tenga\n",
    "        el problema, cada fila almacena los valores pertenencia de un dato a cada clase\"\"\"\n",
    "        assert self.means is not None, \"Error: The classifier needs to be fitted. Please call fit(X, y) method.\"\n",
    "        assert X.ndim == 2 and X.shape[1] == self.means.shape[1]\n",
    "\n",
    "        # Preprocesamos nuestros datos\n",
    "        self.scaler = preprocessing.scale(X)        \n",
    "\n",
    "        # Resta la media de cada clase a cada ejemplo en X\n",
    "        X_mean0 = self.means[:,np.newaxis,:] - self.scaler  \n",
    "        \n",
    "        # Calcula el logaritmo de la función de decisión gausiana\n",
    "        # Transparencias de Métodos paramétricos de clasificación: página 14:\n",
    "        # -(1/2)ln|Sigma_i| - (1/2)*(x- mu_i)^T Sigma_i^-1 (x- mu_i) + lnP(alpha_i)\n",
    "        return -0.5 * self.ln_determinants[:, np.newaxis] \\\n",
    "            - 0.5 * np.array([np.sum((X_mean0[i] @ self.inv_covs[i]) \n",
    "                                     * X_mean0[i], axis=1) for i in np.unique(y)]) \\\n",
    "            + self.ln_apriories[:, np.newaxis]\n",
    "    def pred_label(self, X):\n",
    "        \"\"\"Estima la etiqueta de cada dato. La etiqueta puede ser un entero o bien un string.\n",
    "        X: matriz numpy cada fila es un dato, cada columna una medida\n",
    "        retorna un vector con las etiquetas de cada dato\"\"\"\n",
    "        return np.argmax(X, axis = 0)\n",
    "    \n",
    "    def num_aciertos(self, X): \n",
    "        \"\"\"Cuenta el numero de aciertos del clasificador para un conjunto de datos X.\n",
    "        X: matriz de datos a clasificar\"\"\"\n",
    "        same_values = []\n",
    "        [same_values.append(X[i] == self.labels[i]) for i in range(0, len(self.labels))]\n",
    "        number = same_values.count(True)\n",
    "\n",
    "        return number, (number / len(X)) * 100  "
   ]
  },
  {
   "cell_type": "markdown",
   "metadata": {
    "colab_type": "text",
    "id": "T0U0Awu0X01F"
   },
   "source": [
    "## Iris Dataset\n",
    "Carga, entrenamiento, predicción y evaluación en la base de datos de Iris:"
   ]
  },
  {
   "cell_type": "code",
   "execution_count": 127,
   "metadata": {
    "colab": {
     "base_uri": "https://localhost:8080/",
     "height": 52
    },
    "colab_type": "code",
    "id": "xasWFNlhX85L",
    "outputId": "83a2381b-a4b1-42f2-e86d-1b0519b1e634",
    "pycharm": {
     "is_executing": false
    }
   },
   "outputs": [
    {
     "name": "stdout",
     "output_type": "stream",
     "text": [
      "[[[-5.90668117 -2.40899565 -2.80222653 -1.5614443 ]\n",
      "  [-6.14901691 -3.55997948 -2.80222653 -1.5614443 ]\n",
      "  [-6.39135265 -3.09958595 -2.85906395 -1.5614443 ]\n",
      "  [-6.51252052 -3.32978271 -2.7453891  -1.5614443 ]\n",
      "  [-6.02784904 -2.17879888 -2.80222653 -1.5614443 ]\n",
      "  [-5.54317756 -1.48820858 -2.63171425 -1.29817993]\n",
      "  [-6.51252052 -2.63919241 -2.80222653 -1.42981211]\n",
      "  [-6.02784904 -2.63919241 -2.7453891  -1.5614443 ]\n",
      "  [-6.75485626 -3.79017625 -2.80222653 -1.5614443 ]\n",
      "  [-6.14901691 -3.32978271 -2.7453891  -1.69307648]\n",
      "  [-5.54317756 -1.94860212 -2.7453891  -1.5614443 ]\n",
      "  [-6.27018478 -2.63919241 -2.68855167 -1.5614443 ]\n",
      "  [-6.27018478 -3.55997948 -2.80222653 -1.69307648]\n",
      "  [-6.87602413 -3.55997948 -2.97273881 -1.69307648]\n",
      "  [-5.05850608 -1.25801182 -2.91590138 -1.5614443 ]\n",
      "  [-5.17967395 -0.33722475 -2.7453891  -1.29817993]\n",
      "  [-5.54317756 -1.48820858 -2.85906395 -1.29817993]\n",
      "  [-5.90668117 -2.40899565 -2.80222653 -1.42981211]\n",
      "  [-5.17967395 -1.71840535 -2.63171425 -1.42981211]\n",
      "  [-5.90668117 -1.71840535 -2.7453891  -1.42981211]\n",
      "  [-5.54317756 -2.63919241 -2.63171425 -1.5614443 ]\n",
      "  [-5.90668117 -1.94860212 -2.7453891  -1.29817993]\n",
      "  [-6.51252052 -2.17879888 -3.02957623 -1.5614443 ]\n",
      "  [-5.90668117 -2.86938918 -2.63171425 -1.16654774]\n",
      "  [-6.27018478 -2.63919241 -2.51803939 -1.5614443 ]\n",
      "  [-6.02784904 -3.55997948 -2.68855167 -1.5614443 ]\n",
      "  [-6.02784904 -2.63919241 -2.68855167 -1.29817993]\n",
      "  [-5.7855133  -2.40899565 -2.7453891  -1.5614443 ]\n",
      "  [-5.7855133  -2.63919241 -2.80222653 -1.5614443 ]\n",
      "  [-6.39135265 -3.09958595 -2.68855167 -1.5614443 ]\n",
      "  [-6.27018478 -3.32978271 -2.68855167 -1.5614443 ]\n",
      "  [-5.54317756 -2.63919241 -2.7453891  -1.29817993]\n",
      "  [-5.7855133  -1.02781505 -2.7453891  -1.69307648]\n",
      "  [-5.42200969 -0.79761828 -2.80222653 -1.5614443 ]\n",
      "  [-6.14901691 -3.32978271 -2.7453891  -1.5614443 ]\n",
      "  [-6.02784904 -3.09958595 -2.91590138 -1.5614443 ]\n",
      "  [-5.42200969 -2.40899565 -2.85906395 -1.5614443 ]\n",
      "  [-6.14901691 -2.17879888 -2.80222653 -1.69307648]\n",
      "  [-6.75485626 -3.55997948 -2.85906395 -1.5614443 ]\n",
      "  [-5.90668117 -2.63919241 -2.7453891  -1.5614443 ]\n",
      "  [-6.02784904 -2.40899565 -2.85906395 -1.42981211]\n",
      "  [-6.63368839 -5.17135684 -2.85906395 -1.42981211]\n",
      "  [-6.75485626 -3.09958595 -2.85906395 -1.5614443 ]\n",
      "  [-6.02784904 -2.40899565 -2.68855167 -1.03491556]\n",
      "  [-5.90668117 -1.71840535 -2.51803939 -1.29817993]\n",
      "  [-6.27018478 -3.55997948 -2.80222653 -1.42981211]\n",
      "  [-5.90668117 -1.71840535 -2.68855167 -1.5614443 ]\n",
      "  [-6.51252052 -3.09958595 -2.80222653 -1.5614443 ]\n",
      "  [-5.66434543 -1.94860212 -2.7453891  -1.5614443 ]\n",
      "  [-6.02784904 -2.86938918 -2.80222653 -1.5614443 ]]\n",
      "\n",
      " [[-4.53449163 -2.44158595 -3.72459144 -1.06185808]\n",
      "  [-5.26149885 -2.44158595 -3.83826629 -0.9302259 ]\n",
      "  [-4.6556595  -2.67178271 -3.61091658 -0.9302259 ]\n",
      "  [-6.35200969 -4.51335684 -4.12245343 -1.19349027]\n",
      "  [-5.14033098 -3.36237301 -3.78142887 -0.9302259 ]\n",
      "  [-6.10967395 -3.36237301 -3.83826629 -1.19349027]\n",
      "  [-5.38266672 -2.21138918 -3.72459144 -0.79859371]\n",
      "  [-7.07901691 -4.28316008 -4.52031542 -1.58838682]\n",
      "  [-5.01916311 -3.13217625 -3.78142887 -1.19349027]\n",
      "  [-6.7155133  -3.59256978 -4.17929085 -1.06185808]\n",
      "  [-6.95784904 -5.20394714 -4.40664056 -1.58838682]\n",
      "  [-5.86733821 -2.90197948 -4.00877857 -0.9302259 ]\n",
      "  [-5.74617034 -4.74355361 -4.12245343 -1.58838682]\n",
      "  [-5.62500247 -3.13217625 -3.72459144 -1.06185808]\n",
      "  [-6.23084182 -3.13217625 -4.34980313 -1.19349027]\n",
      "  [-4.89799524 -2.67178271 -3.89510372 -1.06185808]\n",
      "  [-6.23084182 -2.90197948 -3.83826629 -0.9302259 ]\n",
      "  [-5.98850608 -3.59256978 -4.065616   -1.58838682]\n",
      "  [-5.5038346  -4.74355361 -3.83826629 -0.9302259 ]\n",
      "  [-6.23084182 -4.05296331 -4.17929085 -1.45675464]\n",
      "  [-5.86733821 -2.44158595 -3.66775401 -0.53532935]\n",
      "  [-5.62500247 -3.36237301 -4.12245343 -1.19349027]\n",
      "  [-5.38266672 -4.05296331 -3.61091658 -0.9302259 ]\n",
      "  [-5.62500247 -3.36237301 -3.72459144 -1.32512245]\n",
      "  [-5.26149885 -3.13217625 -3.95194115 -1.19349027]\n",
      "  [-5.01916311 -2.90197948 -3.89510372 -1.06185808]\n",
      "  [-4.77682737 -3.36237301 -3.66775401 -1.06185808]\n",
      "  [-4.89799524 -2.90197948 -3.55407916 -0.66696153]\n",
      "  [-5.74617034 -3.13217625 -3.83826629 -0.9302259 ]\n",
      "  [-6.10967395 -3.82276654 -4.40664056 -1.58838682]\n",
      "  [-6.35200969 -4.28316008 -4.23612828 -1.45675464]\n",
      "  [-6.35200969 -4.28316008 -4.29296571 -1.58838682]\n",
      "  [-5.98850608 -3.59256978 -4.17929085 -1.32512245]\n",
      "  [-5.74617034 -3.59256978 -3.49724173 -0.79859371]\n",
      "  [-6.47317756 -2.90197948 -3.83826629 -0.9302259 ]\n",
      "  [-5.74617034 -1.98119241 -3.83826629 -0.79859371]\n",
      "  [-4.89799524 -2.67178271 -3.72459144 -0.9302259 ]\n",
      "  [-5.38266672 -4.51335684 -3.89510372 -1.19349027]\n",
      "  [-6.23084182 -2.90197948 -4.065616   -1.19349027]\n",
      "  [-6.35200969 -4.05296331 -4.12245343 -1.19349027]\n",
      "  [-6.35200969 -3.82276654 -3.89510372 -1.32512245]\n",
      "  [-5.62500247 -2.90197948 -3.78142887 -1.06185808]\n",
      "  [-5.98850608 -3.82276654 -4.12245343 -1.32512245]\n",
      "  [-6.95784904 -4.51335684 -4.52031542 -1.58838682]\n",
      "  [-6.23084182 -3.59256978 -4.00877857 -1.19349027]\n",
      "  [-6.10967395 -2.90197948 -4.00877857 -1.32512245]\n",
      "  [-6.10967395 -3.13217625 -4.00877857 -1.19349027]\n",
      "  [-5.5038346  -3.13217625 -3.95194115 -1.19349027]\n",
      "  [-6.83668117 -4.05296331 -4.6908277  -1.45675464]\n",
      "  [-6.10967395 -3.36237301 -4.065616   -1.19349027]]\n",
      "\n",
      " [[-6.03466672 -2.41538918 -4.27770489 -0.31390406]\n",
      "  [-6.64050608 -3.79656978 -4.78924173 -1.10369716]\n",
      "  [-5.06532376 -3.10597948 -4.33454232 -0.84043279]\n",
      "  [-6.03466672 -3.33617625 -4.5050546  -1.23532935]\n",
      "  [-5.79233098 -3.10597948 -4.39137974 -0.70880061]\n",
      "  [-4.45948441 -3.10597948 -3.93668033 -0.84043279]\n",
      "  [-7.73101691 -4.25696331 -5.13026629 -1.36696153]\n",
      "  [-4.82298802 -3.33617625 -4.10719261 -1.23532935]\n",
      "  [-5.54999524 -4.25696331 -4.39137974 -1.23532935]\n",
      "  [-4.94415589 -1.72479888 -4.22086746 -0.31390406]\n",
      "  [-5.79233098 -2.64558595 -4.78924173 -0.97206498]\n",
      "  [-5.91349885 -3.79656978 -4.67556688 -1.10369716]\n",
      "  [-5.42882737 -3.10597948 -4.56189202 -0.84043279]\n",
      "  [-6.76167395 -4.25696331 -4.84607916 -0.97206498]\n",
      "  [-6.64050608 -3.56637301 -4.78924173 -0.44553624]\n",
      "  [-5.91349885 -2.64558595 -4.67556688 -0.57716842]\n",
      "  [-5.79233098 -3.10597948 -4.56189202 -1.23532935]\n",
      "  [-4.33831654 -1.26440535 -3.8798429  -0.70880061]\n",
      "  [-4.33831654 -4.02676654 -3.76616805 -0.57716842]\n",
      "  [-6.39817034 -4.94755361 -4.84607916 -1.6302259 ]\n",
      "  [-5.3076595  -2.64558595 -4.44821717 -0.57716842]\n",
      "  [-6.88284182 -3.56637301 -4.90291658 -0.97206498]\n",
      "  [-4.33831654 -3.56637301 -3.8798429  -0.97206498]\n",
      "  [-6.03466672 -3.79656978 -4.90291658 -1.23532935]\n",
      "  [-5.54999524 -2.41538918 -4.44821717 -0.84043279]\n",
      "  [-4.94415589 -2.64558595 -4.27770489 -1.23532935]\n",
      "  [-6.1558346  -3.56637301 -4.95975401 -1.23532935]\n",
      "  [-6.27700247 -3.10597948 -4.90291658 -1.23532935]\n",
      "  [-5.91349885 -3.56637301 -4.5050546  -0.84043279]\n",
      "  [-4.94415589 -3.10597948 -4.39137974 -1.49859371]\n",
      "  [-4.70182015 -3.56637301 -4.22086746 -1.10369716]\n",
      "  [-4.0959808  -1.26440535 -4.05035518 -0.97206498]\n",
      "  [-5.91349885 -3.56637301 -4.5050546  -0.70880061]\n",
      "  [-6.03466672 -3.56637301 -4.78924173 -1.6302259 ]\n",
      "  [-6.27700247 -4.02676654 -4.5050546  -1.76185808]\n",
      "  [-4.33831654 -3.10597948 -4.22086746 -0.57716842]\n",
      "  [-6.03466672 -2.18519241 -4.5050546  -0.44553624]\n",
      "  [-5.91349885 -2.87578271 -4.56189202 -1.23532935]\n",
      "  [-6.39817034 -3.10597948 -4.95975401 -1.23532935]\n",
      "  [-5.3076595  -2.87578271 -4.61872945 -0.84043279]\n",
      "  [-5.54999524 -2.87578271 -4.5050546  -0.44553624]\n",
      "  [-5.3076595  -2.87578271 -4.78924173 -0.57716842]\n",
      "  [-6.64050608 -3.79656978 -4.78924173 -1.10369716]\n",
      "  [-5.42882737 -2.64558595 -4.33454232 -0.57716842]\n",
      "  [-5.54999524 -2.41538918 -4.44821717 -0.31390406]\n",
      "  [-5.54999524 -3.10597948 -4.7324043  -0.57716842]\n",
      "  [-6.03466672 -4.25696331 -4.84607916 -1.10369716]\n",
      "  [-5.79233098 -3.10597948 -4.7324043  -0.97206498]\n",
      "  [-6.1558346  -2.18519241 -4.61872945 -0.57716842]\n",
      "  [-6.51933821 -3.10597948 -4.78924173 -1.23532935]]]\n",
      "(9, 6.0)\n"
     ]
    }
   ],
   "source": [
    "# 1. Cargar los datos de la base de datos de entrenamiento\n",
    "from sklearn.datasets import load_iris\n",
    "from sklearn.covariance import ShrunkCovariance\n",
    "dataset = load_iris()\n",
    "X = dataset.data\n",
    "# print(\"X: \\n\" + str(X))\n",
    "y = dataset.target\n",
    "# print(\"y: \\n\" + str(y))\n",
    "# # 2. Entrenar el clasificador\n",
    "ClassifBayesianoParametrico = ClassifBayesianoParametrico(True,0.01)\n",
    "\n",
    "ClassifBayesianoParametrico.fit(X, y)\n",
    "\n",
    "predict_matrix = ClassifBayesianoParametrico.predict(X)\n",
    "\n",
    "labels_matrix = ClassifBayesianoParametrico.pred_label(predict_matrix)\n",
    "\n",
    "correct = ClassifBayesianoParametrico.num_aciertos(labels_matrix)\n",
    "# # 3. Predecir empleando la base de datos de entrenamiento (X)\n",
    "print(correct)\n",
    "# # 4. Evaluar el clasificador calculando el porcentaje de datos correctamente clasificados\n"
   ]
  },
  {
   "cell_type": "code",
   "execution_count": 73,
   "metadata": {},
   "outputs": [],
   "source": [
    "# 1. Cargar los datos de la base de datos de entrenamiento\n",
    "from sklearn.datasets import load_iris\n",
    "dataset = load_iris()\n",
    "X = dataset.data\n",
    "# print(\"X: \\n\" + str(X))\n",
    "y = dataset.target\n",
    "\n",
    "\n"
   ]
  },
  {
   "cell_type": "markdown",
   "metadata": {
    "colab_type": "text",
    "id": "BsniqwE-9fp-"
   },
   "source": [
    "## Wine dataset\n",
    "Carga, entrenamiento, predicción y evaluación en la base de datos de Wine:"
   ]
  },
  {
   "cell_type": "code",
   "execution_count": 3,
   "metadata": {
    "colab": {
     "base_uri": "https://localhost:8080/",
     "height": 52
    },
    "colab_type": "code",
    "id": "dbakRtC79fqA",
    "outputId": "f68024cd-71d7-4e9d-e5aa-78b5cd73c22e",
    "pycharm": {
     "is_executing": false
    }
   },
   "outputs": [],
   "source": [
    "# 1. Cargar los datos de la base de datos de entrenamiento\n",
    "from sklearn.datasets import load_wine\n",
    "dataset = load_wine()\n",
    "X = dataset.data\n",
    "# print(\"X: \\n\" + str(X))\n",
    "y = dataset.target\n",
    "# print(\"y: \\n\" + str(y))\n",
    "\n",
    "# 2. Entrenar el clasificador\n",
    "\n",
    "# 3. Predecir empleando la base de datos de entrenamiento (X)\n",
    "\n",
    "# 4. Evaluar el clasificador calculando el porcentaje de datos correctamente clasificados\n",
    "\n"
   ]
  },
  {
   "cell_type": "markdown",
   "metadata": {
    "colab_type": "text",
    "id": "Z7kPXX70NobZ"
   },
   "source": [
    "## Breast cancer dataset\n",
    "Carga, entrenamiento, predicción y evaluación en la base de datos de Breast cancer:"
   ]
  },
  {
   "cell_type": "code",
   "execution_count": 4,
   "metadata": {
    "colab": {
     "base_uri": "https://localhost:8080/",
     "height": 52
    },
    "colab_type": "code",
    "id": "_54KE327_QEa",
    "outputId": "b43bf02b-fd87-4258-dab9-89d07b2a516a",
    "pycharm": {
     "is_executing": false
    }
   },
   "outputs": [],
   "source": [
    "# 1. Cargar los datos de la base de datos de entrenamiento\n",
    "from sklearn.datasets import load_breast_cancer\n",
    "dataset = load_breast_cancer()\n",
    "X = dataset.data\n",
    "# print(\"X: \\n\" + str(X))\n",
    "y = dataset.target\n",
    "# print(\"y: \\n\" + str(y))\n",
    "\n",
    "# 2. Entrenar el clasificador\n",
    "\n",
    "# 3. Predecir empleando la base de datos de entrenamiento (X)\n",
    "\n",
    "# 4. Evaluar el clasificador calculando el porcentaje de datos correctamente clasificados\n"
   ]
  },
  {
   "cell_type": "markdown",
   "metadata": {
    "colab_type": "text",
    "id": "OFLkiTYnNobf"
   },
   "source": [
    "## MNIST Database (Modified National Institute of Standards and Technology database)\n",
    "MNIST es una base de datos de texto manuscrito, que se usa de forma clásica para entrenar sistemas de procesado de imágenes.\n",
    "\n",
    "Carga, entrenamiento, predicción y evaluación en la base de datos de MNIST:"
   ]
  },
  {
   "cell_type": "code",
   "execution_count": 5,
   "metadata": {
    "colab": {},
    "colab_type": "code",
    "id": "DqWv7YjfNobj",
    "pycharm": {
     "is_executing": false
    }
   },
   "outputs": [],
   "source": [
    "import pandas as pd\n",
    "import numpy as np\n",
    "from sklearn.datasets import fetch_openml\n",
    "\n",
    "# Cargamos MNIST desde internet ( https://www.openml.org/d/554 )\n",
    "all_X, all_y = fetch_openml('mnist_784', version=1, return_X_y=True, cache=True)\n",
    "X = all_X[:60000]\n",
    "y = all_y[:60000]\n",
    "y = pd.factorize(y)[0]\n",
    "\n",
    "# print(\"X: \\n\" + str(X))\n",
    "# print(\"y: \\n\" + str(y))"
   ]
  },
  {
   "cell_type": "code",
   "execution_count": 6,
   "metadata": {
    "colab": {
     "base_uri": "https://localhost:8080/",
     "height": 69
    },
    "colab_type": "code",
    "id": "DU-b7qbbRwt4",
    "outputId": "b886fc33-4757-4097-9e96-a1518fabf3f1",
    "pycharm": {
     "is_executing": false
    }
   },
   "outputs": [],
   "source": [
    "# 2. Entrenar el clasificador\n",
    "\n",
    "# 3. Predecir empleando la base de datos de entrenamiento (X)\n",
    "\n",
    "# 4. Evaluar el clasificador calculando el porcentaje de datos correctamente clasificados\n"
   ]
  },
  {
   "cell_type": "markdown",
   "metadata": {
    "colab_type": "text",
    "id": "VLQthMw5Nobo"
   },
   "source": [
    "## Isolet Dataset (Isolated Letter Speech Recognition)\n",
    "Carga, entrenamiento, predicción y evaluación en la base de datos de Isolet"
   ]
  },
  {
   "cell_type": "code",
   "execution_count": 7,
   "metadata": {
    "colab": {},
    "colab_type": "code",
    "id": "PFj7GFS4Nobp",
    "pycharm": {
     "is_executing": false
    }
   },
   "outputs": [],
   "source": [
    "import pandas as pd\n",
    "import numpy as np\n",
    "from sklearn.datasets import fetch_openml\n",
    "\n",
    "# 1. Cargar los datos de la base de datos de entrenamiento\n",
    "X, y = fetch_openml('isolet', version=1, return_X_y=True, cache=True)\n",
    "y = pd.factorize(y)[0]\n",
    "# print(\"X: \\n\" + str(X))\n",
    "# print(\"y: \\n\" + str(y))\n"
   ]
  },
  {
   "cell_type": "code",
   "execution_count": 8,
   "metadata": {
    "colab": {
     "base_uri": "https://localhost:8080/",
     "height": 52
    },
    "colab_type": "code",
    "id": "V7UXiUYwRzCv",
    "outputId": "c289aa8d-3260-425c-d1a4-262bba184070",
    "pycharm": {
     "is_executing": false
    }
   },
   "outputs": [],
   "source": [
    "# 2. Entrenar el clasificador\n",
    "\n",
    "# 3. Predecir empleando la base de datos de entrenamiento (X)\n",
    "\n",
    "# 4. Evaluar el clasificador calculando el porcentaje de datos correctamente clasificados\n"
   ]
  },
  {
   "cell_type": "markdown",
   "metadata": {
    "colab_type": "text",
    "id": "p_kQ7OJd9fqD"
   },
   "source": [
    "Resultados de los tres experimentos:\n",
    "\n",
    "| Base de datos | Número de aciertos | Porcentaje de aciertos |\n",
    "| --- | --- | --- |\n",
    "| Iris   |  |  |\n",
    "| Wine   |  |  |\n",
    "| Cancer |  |  |\n",
    "| MNIST  |  |  |\n",
    "| Isolet |  |   |"
   ]
  }
 ],
 "metadata": {
  "colab": {
   "collapsed_sections": [],
   "name": "Solucion4.ipynb",
   "provenance": []
  },
  "kernelspec": {
   "display_name": "Python 3",
   "language": "python",
   "name": "python3"
  },
  "language_info": {
   "codemirror_mode": {
    "name": "ipython",
    "version": 3
   },
   "file_extension": ".py",
   "mimetype": "text/x-python",
   "name": "python",
   "nbconvert_exporter": "python",
   "pygments_lexer": "ipython3",
   "version": "3.7.3"
  },
  "pycharm": {
   "stem_cell": {
    "cell_type": "raw",
    "metadata": {
     "collapsed": false
    },
    "source": []
   }
  }
 },
 "nbformat": 4,
 "nbformat_minor": 1
}
