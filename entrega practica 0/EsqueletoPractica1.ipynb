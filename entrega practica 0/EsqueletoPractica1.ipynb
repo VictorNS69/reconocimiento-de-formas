{
 "cells": [
  {
   "cell_type": "markdown",
   "metadata": {
    "colab_type": "text",
    "id": "AfaNEPeRXCe8"
   },
   "source": [
    "# Práctica 1 Reconocimiento de Formas: Clasificador de la distancia euclídea \n",
    "\n",
    "* **Alumno 1**:\n",
    "* **Alumno 2**:\n"
   ]
  },
  {
   "cell_type": "code",
   "execution_count": 154,
   "metadata": {
    "colab": {},
    "colab_type": "code",
    "id": "FsWqPK6l2flD"
   },
   "outputs": [],
   "source": [
    "\n",
    "import numpy as np\n",
    "from abc import abstractmethod\n",
    "\n",
    "class Classifier:\n",
    "\n",
    "    @abstractmethod\n",
    "    def fit(self,X,y):\n",
    "        pass\n",
    "\n",
    "    @abstractmethod\n",
    "    def predict(self,X):\n",
    "        pass\n",
    "\n",
    "class ClassifEuclid(Classifier):\n",
    "    ocurrences = ()\n",
    "    def __init__(self,labels=[]):\n",
    "        \"\"\"Constructor de la clase\n",
    "        labels: lista de etiquetas de esta clase\"\"\"\n",
    "        self.labels=labels\n",
    "        pass\n",
    "\n",
    "    def fit(self,X,y):\n",
    "        \"\"\"Entrena el clasificador\n",
    "        X: matriz numpy cada fila es un dato, cada columna una medida\n",
    "        y: vector de etiquetas, tantos elementos como filas en X\n",
    "        retorna objeto clasificador\"\"\"\n",
    "        self.predict(X)\n",
    "        return self\n",
    "\n",
    "    def predict(self,X):\n",
    "        \"\"\"Estima el grado de pertenencia de cada dato a todas las clases \n",
    "        X: matriz numpy cada fila es un dato, cada columna una medida del vector de caracteristicas. \n",
    "        Retorna una matriz, con tantas filas como datos y tantas columnas como clases tenga\n",
    "        el problema, cada fila almacena los valores pertenencia de un dato a cada clase\"\"\" \n",
    "        ocurrences = np.unique(self.labels,return_counts=True)\n",
    "        result = np.zeros((X.shape[0],ocurrences[0].size))\n",
    "        begin = 0\n",
    "        end = 0\n",
    "        i = 0\n",
    "        for element in ocurrences[1]:\n",
    "            end +=element\n",
    "            result[:,i] = np.divide(np.sum(X, axis=1),np.mean(np.sum(X[begin:end], axis=1)))\n",
    "            begin +=element\n",
    "            i+=1\n",
    "        return result\n",
    "    \n",
    "    def pred_label(self,X):\n",
    "        \"\"\"Estima la etiqueta de cada dato. La etiqueta puede ser un entero o bien un string.\n",
    "        X: matriz numpy cada fila es un dato, cada columna una medida\n",
    "        retorna un vector con las etiquetas de cada dato\"\"\"\n",
    "        result = []\n",
    "        for element in X:\n",
    "            index = (np.abs(element - 1)).argmin()\n",
    "            result.append(index)\n",
    "        return result\n",
    "    \n",
    "    def num_aciertos(self,X,y):\n",
    "        \"\"\"Cuenta el numero de aciertos del clasificador para un conjunto de datos X.\n",
    "        X: matriz de datos a clasificar\n",
    "        y: vector de etiquetas correctas\"\"\"\n",
    "        aux = (list(b==y).count(True))\n",
    "        return (aux/ len(X))*100\n"
   ]
  },
  {
   "cell_type": "markdown",
   "metadata": {
    "colab_type": "text",
    "id": "6VRuI00dW2cU"
   },
   "source": [
    "## Código para cargar la base de datos desde un fichero en drive:"
   ]
  },
  {
   "cell_type": "code",
   "execution_count": 155,
   "metadata": {
    "colab": {},
    "colab_type": "code",
    "id": "HXE9uaPR63vh"
   },
   "outputs": [],
   "source": [
    "# from google.colab import drive\n",
    "# from sklearn.datasets import load_iris\n",
    "\n",
    "# drive.mount('/content/gdrive')\n",
    "# drive_dir = '/content/gdrive/My Drive/Colab Notebooks/'\n",
    "\n",
    "# import pandas as pd\n",
    "# # Cargar las características de la BD\n",
    "# X = np.genfromtxt(drive_dir + 'irisData.txt', delimiter='\\t')[:, :-1]\n",
    "# print(\"X: \\n\" + str(X))\n",
    "\n",
    "# # Leer las etiquetas y convertirlas a enteros\n",
    "# y = np.genfromtxt(drive_dir + 'irisData.txt', dtype=str, delimiter='\\t')[:, -1]\n",
    "# y = pd.factorize(y)[0]\n",
    "# print(\"y: \\n\" + str(y))"
   ]
  },
  {
   "cell_type": "markdown",
   "metadata": {
    "colab_type": "text",
    "id": "Jry9Y_njWsg6"
   },
   "source": [
    "## Código para cargar la base de datos Iris directamente desde sklearn:"
   ]
  },
  {
   "cell_type": "code",
   "execution_count": 160,
   "metadata": {
    "colab": {
     "base_uri": "https://localhost:8080/",
     "height": 1000
    },
    "colab_type": "code",
    "executionInfo": {
     "elapsed": 906,
     "status": "ok",
     "timestamp": 1568323676443,
     "user": {
      "displayName": "Iago Suárez",
      "photoUrl": "https://lh3.googleusercontent.com/a-/AAuE7mCIoiLrUWgbOZ6jr3DHdz3G66zRmqqPBdVeoM8yEA=s64",
      "userId": "13725843249013938636"
     },
     "user_tz": -120
    },
    "id": "LmA70vaCWgzI",
    "outputId": "0eba7d4e-2b19-4ccf-eb44-549a1f745948"
   },
   "outputs": [
    {
     "name": "stdout",
     "output_type": "stream",
     "text": [
      "90\n",
      "[[1.00571879 0.71368598 0.59509918]\n",
      " [0.93669888 0.66470753 0.55425904]\n",
      " [0.92683889 0.65771061 0.54842474]\n",
      " [0.92683889 0.65771061 0.54842474]\n",
      " [1.00571879 0.71368598 0.59509918]\n",
      " [1.12403865 0.79764903 0.66511085]\n",
      " [0.95641885 0.67870137 0.56592765]\n",
      " [0.9958588  0.70668906 0.58926488]\n",
      " [0.87753895 0.622726   0.51925321]\n",
      " [0.94655886 0.67170445 0.56009335]\n",
      " [1.06487872 0.75566751 0.63010502]\n",
      " [0.98599882 0.69969214 0.58343057]\n",
      " [0.9169789  0.65071369 0.54259043]\n",
      " [0.83809899 0.59473832 0.49591599]\n",
      " [1.10431867 0.78365519 0.65344224]\n",
      " [1.18319858 0.83963056 0.70011669]\n",
      " [1.0845987  0.76966135 0.64177363]\n",
      " [1.01557878 0.7206829  0.60093349]\n",
      " [1.13389864 0.80464596 0.67094516]\n",
      " [1.05501873 0.74867058 0.62427071]\n",
      " [1.05501873 0.74867058 0.62427071]\n",
      " [1.05501873 0.74867058 0.62427071]\n",
      " [0.92683889 0.65771061 0.54842474]\n",
      " [1.04515875 0.74167366 0.61843641]\n",
      " [1.01557878 0.7206829  0.60093349]\n",
      " [0.96627884 0.68569829 0.57176196]\n",
      " [1.02543877 0.72767982 0.60676779]\n",
      " [1.02543877 0.72767982 0.60676779]\n",
      " [1.00571879 0.71368598 0.59509918]\n",
      " [0.95641885 0.67870137 0.56592765]\n",
      " [0.95641885 0.67870137 0.56592765]\n",
      " [1.05501873 0.74867058 0.62427071]\n",
      " [1.07473871 0.76266443 0.63593932]\n",
      " [1.11417866 0.79065211 0.65927655]\n",
      " [0.95641885 0.67870137 0.56592765]\n",
      " [0.94655886 0.67170445 0.56009335]\n",
      " [1.03529876 0.73467674 0.6126021 ]\n",
      " [0.98599882 0.69969214 0.58343057]\n",
      " [0.87753895 0.622726   0.51925321]\n",
      " [1.00571879 0.71368598 0.59509918]\n",
      " [0.9958588  0.70668906 0.58926488]\n",
      " [0.82823901 0.58774139 0.49008168]\n",
      " [0.89725892 0.63671984 0.53092182]\n",
      " [1.05501873 0.74867058 0.62427071]\n",
      " [1.10431867 0.78365519 0.65344224]\n",
      " [0.93669888 0.66470753 0.55425904]\n",
      " [1.05501873 0.74867058 0.62427071]\n",
      " [0.92683889 0.65771061 0.54842474]\n",
      " [1.05501873 0.74867058 0.62427071]\n",
      " [0.97613883 0.69269521 0.57759627]\n",
      " [1.60717807 1.14049818 0.95099183]\n",
      " [1.53815815 1.09151973 0.91015169]\n",
      " [1.61703806 1.1474951  0.95682614]\n",
      " [1.29165845 0.9165967  0.76429405]\n",
      " [1.51843818 1.07752589 0.89848308]\n",
      " [1.40997831 1.00055975 0.83430572]\n",
      " [1.56773812 1.1125105  0.92765461]\n",
      " [1.14375863 0.81164288 0.67677946]\n",
      " [1.51843818 1.07752589 0.89848308]\n",
      " [1.30151844 0.92359362 0.77012835]\n",
      " [1.13389864 0.80464596 0.67094516]\n",
      " [1.43955827 1.02155052 0.85180863]\n",
      " [1.30151844 0.92359362 0.77012835]\n",
      " [1.48885821 1.05653512 0.88098016]\n",
      " [1.32123841 0.93758746 0.78179697]\n",
      " [1.53815815 1.09151973 0.91015169]\n",
      " [1.43955827 1.02155052 0.85180863]\n",
      " [1.34095839 0.9515813  0.79346558]\n",
      " [1.4198383  1.00755668 0.84014002]\n",
      " [1.29165845 0.9165967  0.76429405]\n",
      " [1.54801814 1.09851665 0.915986  ]\n",
      " [1.40011832 0.99356283 0.82847141]\n",
      " [1.4987182  1.06353205 0.88681447]\n",
      " [1.45927825 1.03554436 0.86347725]\n",
      " [1.46913824 1.04254128 0.86931155]\n",
      " [1.51843818 1.07752589 0.89848308]\n",
      " [1.55787813 1.10551357 0.9218203 ]\n",
      " [1.61703806 1.1474951  0.95682614]\n",
      " [1.46913824 1.04254128 0.86931155]\n",
      " [1.26207849 0.89560593 0.74679113]\n",
      " [1.26207849 0.89560593 0.74679113]\n",
      " [1.24235851 0.88161209 0.73512252]\n",
      " [1.34095839 0.9515813  0.79346558]\n",
      " [1.51843818 1.07752589 0.89848308]\n",
      " [1.4198383  1.00755668 0.84014002]\n",
      " [1.52829817 1.08452281 0.90431739]\n",
      " [1.57759811 1.11950742 0.93348891]\n",
      " [1.40997831 1.00055975 0.83430572]\n",
      " [1.38039834 0.97956899 0.8168028 ]\n",
      " [1.31137843 0.93059054 0.77596266]\n",
      " [1.35081838 0.95857823 0.79929988]\n",
      " [1.48885821 1.05653512 0.88098016]\n",
      " [1.34095839 0.9515813  0.79346558]\n",
      " [1.14375863 0.81164288 0.67677946]\n",
      " [1.36067837 0.96557515 0.80513419]\n",
      " [1.39025833 0.98656591 0.82263711]\n",
      " [1.39025833 0.98656591 0.82263711]\n",
      " [1.44941826 1.02854744 0.85764294]\n",
      " [1.15361862 0.8186398  0.68261377]\n",
      " [1.37053836 0.97257207 0.81096849]\n",
      " [1.78465786 1.26644277 1.05600933]\n",
      " [1.52829817 1.08452281 0.90431739]\n",
      " [1.78465786 1.26644277 1.05600933]\n",
      " [1.63675804 1.16148894 0.96849475]\n",
      " [1.72549793 1.22446124 1.0210035 ]\n",
      " [1.90297772 1.35040582 1.126021  ]\n",
      " [1.34095839 0.9515813  0.79346558]\n",
      " [1.80437783 1.28043661 1.06767795]\n",
      " [1.65647801 1.17548279 0.98016336]\n",
      " [1.9128377  1.35740274 1.13185531]\n",
      " [1.65647801 1.17548279 0.98016336]\n",
      " [1.60717807 1.14049818 0.95099183]\n",
      " [1.71563794 1.21746432 1.01516919]\n",
      " [1.4987182  1.06353205 0.88681447]\n",
      " [1.5874581  1.12650434 0.93932322]\n",
      " [1.69591796 1.20347047 1.00350058]\n",
      " [1.65647801 1.17548279 0.98016336]\n",
      " [2.01143759 1.42737196 1.19019837]\n",
      " [1.92269769 1.36439966 1.13768961]\n",
      " [1.44941826 1.02854744 0.85764294]\n",
      " [1.78465786 1.26644277 1.05600933]\n",
      " [1.50857819 1.07052897 0.89264877]\n",
      " [1.89311773 1.3434089  1.1201867 ]\n",
      " [1.54801814 1.09851665 0.915986  ]\n",
      " [1.75507789 1.245452   1.03850642]\n",
      " [1.79451785 1.27343969 1.06184364]\n",
      " [1.53815815 1.09151973 0.91015169]\n",
      " [1.55787813 1.10551357 0.9218203 ]\n",
      " [1.666338   1.18247971 0.98599767]\n",
      " [1.73535792 1.23145816 1.02683781]\n",
      " [1.79451785 1.27343969 1.06184364]\n",
      " [1.98185762 1.40638119 1.17269545]\n",
      " [1.67619799 1.18947663 0.99183197]\n",
      " [1.54801814 1.09851665 0.915986  ]\n",
      " [1.54801814 1.09851665 0.915986  ]\n",
      " [1.88325774 1.33641198 1.11435239]\n",
      " [1.74521791 1.23845508 1.03267211]\n",
      " [1.65647801 1.17548279 0.98016336]\n",
      " [1.53815815 1.09151973 0.91015169]\n",
      " [1.72549793 1.22446124 1.0210035 ]\n",
      " [1.75507789 1.245452   1.03850642]\n",
      " [1.71563794 1.21746432 1.01516919]\n",
      " [1.52829817 1.08452281 0.90431739]\n",
      " [1.79451785 1.27343969 1.06184364]\n",
      " [1.79451785 1.27343969 1.06184364]\n",
      " [1.69591796 1.20347047 1.00350058]\n",
      " [1.54801814 1.09851665 0.915986  ]\n",
      " [1.64661802 1.16848587 0.97432905]\n",
      " [1.70577795 1.21046739 1.00933489]\n",
      " [1.55787813 1.10551357 0.9218203 ]]\n",
      "[0, 0, 0, 0, 0, 0, 0, 0, 0, 0, 0, 0, 0, 0, 0, 1, 0, 0, 0, 0, 0, 0, 0, 0, 0, 0, 0, 0, 0, 0, 0, 0, 0, 0, 0, 0, 0, 0, 0, 0, 0, 0, 0, 0, 0, 0, 0, 0, 0, 0, 2, 2, 2, 1, 1, 1, 2, 0, 1, 1, 0, 1, 1, 1, 1, 2, 1, 1, 1, 1, 2, 1, 1, 1, 1, 1, 2, 2, 1, 1, 1, 1, 1, 1, 1, 1, 2, 1, 1, 1, 1, 1, 1, 0, 1, 1, 1, 1, 0, 1, 2, 1, 2, 2, 2, 2, 1, 2, 2, 2, 2, 2, 2, 1, 2, 2, 2, 2, 2, 1, 2, 1, 2, 2, 2, 2, 2, 2, 2, 2, 2, 2, 2, 2, 2, 2, 2, 2, 2, 2, 2, 2, 1, 2, 2, 2, 2, 2, 2, 2]\n"
     ]
    },
    {
     "data": {
      "text/plain": [
       "86.66666666666667"
      ]
     },
     "execution_count": 160,
     "metadata": {},
     "output_type": "execute_result"
    }
   ],
   "source": [
    "from sklearn.datasets import load_iris\n",
    "import numpy as np\n",
    "dataset = load_iris()\n",
    "X = dataset.data\n",
    "y = dataset.target\n",
    "result = np.zeros((X.shape[0],1))\n",
    "idx = (np.abs(X - 1)).argmin() \n",
    "print(idx)\n",
    "var = ClassifEuclid(y)\n",
    "print(var.predict(X))\n",
    "print(var.pred_label(a))\n",
    "var.num_aciertos(b,y)\n",
    "\n",
    "    "
   ]
  },
  {
   "cell_type": "markdown",
   "metadata": {
    "colab_type": "text",
    "id": "T0U0Awu0X01F"
   },
   "source": [
    "Entrenamiento, predicción y evaluación"
   ]
  },
  {
   "cell_type": "code",
   "execution_count": 105,
   "metadata": {
    "colab": {},
    "colab_type": "code",
    "id": "xasWFNlhX85L"
   },
   "outputs": [],
   "source": [
    "# 1. Cargar los datos de la base de datos de entrenamiento\n",
    "\n",
    "# 2. Entrenar el clasificador\n",
    "\n",
    "# 3. Predecir empleando la base de datos de entrenamiento (X)\n",
    "\n",
    "# 4. Evaluar el clasificador calculando el porcentaje de datos correctamente clasificados"
   ]
  },
  {
   "cell_type": "markdown",
   "metadata": {},
   "source": [
    "Repite el proceso anterior para las base de datos \"wine\" y \"cancer\""
   ]
  },
  {
   "cell_type": "code",
   "execution_count": null,
   "metadata": {},
   "outputs": [],
   "source": []
  },
  {
   "cell_type": "markdown",
   "metadata": {},
   "source": [
    "Resultados de los tres experimentos:\n",
    "\n",
    "| Base de datos | Número de aciertos | Porcentaje de aciertos |\n",
    "| --- | --- | --- |\n",
    "| Iris   |  |  |\n",
    "| Wine   |  |  |\n",
    "| Cancer |  |  |\n"
   ]
  }
 ],
 "metadata": {
  "colab": {
   "collapsed_sections": [],
   "name": "Esqueleto(2).ipynb",
   "provenance": [],
   "version": "0.3.2"
  },
  "kernelspec": {
   "display_name": "Python 3",
   "language": "python",
   "name": "python3"
  },
  "language_info": {
   "codemirror_mode": {
    "name": "ipython",
    "version": 3
   },
   "file_extension": ".py",
   "mimetype": "text/x-python",
   "name": "python",
   "nbconvert_exporter": "python",
   "pygments_lexer": "ipython3",
   "version": "3.7.3"
  },
  "pycharm": {
   "stem_cell": {
    "cell_type": "raw",
    "metadata": {
     "collapsed": false
    },
    "source": []
   }
  }
 },
 "nbformat": 4,
 "nbformat_minor": 1
}
